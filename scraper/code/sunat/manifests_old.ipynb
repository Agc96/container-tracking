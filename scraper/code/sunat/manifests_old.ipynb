{
 "cells": [
  {
   "cell_type": "code",
   "execution_count": 1,
   "metadata": {},
   "outputs": [],
   "source": [
    "from datetime import datetime, timedelta\n",
    "from pymongo import MongoClient\n",
    "\n",
    "import json\n",
    "import time"
   ]
  },
  {
   "cell_type": "code",
   "execution_count": 2,
   "metadata": {},
   "outputs": [],
   "source": [
    "client = MongoClient()\n",
    "database = client[\"tracking_scraper\"]\n",
    "multiple_collection = database[\"manifests\"]"
   ]
  },
  {
   "cell_type": "markdown",
   "metadata": {},
   "source": [
    "# Obtener manifiestos antiguos"
   ]
  },
  {
   "cell_type": "code",
   "execution_count": 3,
   "metadata": {},
   "outputs": [],
   "source": [
    "with open(\"../../db/manifests-20190314.json\", \"r\") as file:\n",
    "    manifests = json.load(file)"
   ]
  },
  {
   "cell_type": "code",
   "execution_count": 4,
   "metadata": {},
   "outputs": [],
   "source": [
    "print(\"manifest length:\", len(manifests))\n",
    "print(\"missing current length:\", len(missing))\n",
    "\n",
    "missing = []\n",
    "for manifest in manifests:\n",
    "    is_in_db = multiple_collection.find_one(manifest)\n",
    "    if is_in_db is None:\n",
    "        try:\n",
    "            missing.index(manifest)\n",
    "        except ValueError:\n",
    "            missing.append(manifest)\n",
    "\n",
    "print(\"missing updated length:\", len(missing))"
   ]
  },
  {
   "cell_type": "code",
   "execution_count": 5,
   "metadata": {},
   "outputs": [],
   "source": [
    "with open(\"../../db/manifests-missing.json\", \"w\") as file:\n",
    "    json.dump(missing, file)"
   ]
  },
  {
   "cell_type": "markdown",
   "metadata": {},
   "source": [
    "# Extraer manifiestos antiguos"
   ]
  },
  {
   "cell_type": "code",
   "execution_count": 3,
   "metadata": {},
   "outputs": [],
   "source": [
    "with open(\"../../db/manifests-missing.json\", \"r\") as file:\n",
    "    manifests = json.load(file)"
   ]
  },
  {
   "cell_type": "code",
   "execution_count": 7,
   "metadata": {},
   "outputs": [
    {
     "name": "stdout",
     "output_type": "stream",
     "text": [
      "[{'manifest': '46', 'year': '2019'}, {'manifest': '383', 'year': '2019'}, {'manifest': '436', 'year': '2019'}, {'manifest': '465', 'year': '2019'}, {'manifest': '494', 'year': '2019'}, {'manifest': '439', 'year': '2019'}, {'manifest': '453', 'year': '2019'}, {'manifest': '467', 'year': '2019'}]\n"
     ]
    }
   ],
   "source": [
    "manifests = manifests[:8]\n",
    "print(manifests)"
   ]
  },
  {
   "cell_type": "code",
   "execution_count": null,
   "metadata": {},
   "outputs": [],
   "source": []
  }
 ],
 "metadata": {
  "kernelspec": {
   "display_name": "Python 3",
   "language": "python",
   "name": "python3"
  },
  "language_info": {
   "codemirror_mode": {
    "name": "ipython",
    "version": 3
   },
   "file_extension": ".py",
   "mimetype": "text/x-python",
   "name": "python",
   "nbconvert_exporter": "python",
   "pygments_lexer": "ipython3",
   "version": "3.5.3"
  }
 },
 "nbformat": 4,
 "nbformat_minor": 2
}
