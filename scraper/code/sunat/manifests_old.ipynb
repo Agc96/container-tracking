{
 "cells": [
  {
   "cell_type": "code",
   "execution_count": 1,
   "metadata": {},
   "outputs": [],
   "source": [
    "from datetime import datetime, timedelta\n",
    "from pymongo import MongoClient\n",
    "\n",
    "import json\n",
    "import time"
   ]
  },
  {
   "cell_type": "code",
   "execution_count": 21,
   "metadata": {},
   "outputs": [],
   "source": [
    "client = MongoClient()\n",
    "database = client[\"tracking_scraper\"]\n",
    "multiple_collection = database[\"manifests\"]\n",
    "\n",
    "missing = []"
   ]
  },
  {
   "cell_type": "code",
   "execution_count": 52,
   "metadata": {},
   "outputs": [],
   "source": [
    "with open(\"../../db/manifests-20190314.json\", \"r\") as file:\n",
    "    manifests = json.load(file)"
   ]
  },
  {
   "cell_type": "code",
   "execution_count": 53,
   "metadata": {},
   "outputs": [
    {
     "name": "stdout",
     "output_type": "stream",
     "text": [
      "manifest length: 241\n",
      "missing current length: 8\n",
      "missing updated length: 45\n"
     ]
    }
   ],
   "source": [
    "print(\"manifest length:\", len(manifests))\n",
    "print(\"missing current length:\", len(missing))\n",
    "\n",
    "for manifest in manifests:\n",
    "    is_in_db = multiple_collection.find_one(manifest)\n",
    "    if is_in_db is None:\n",
    "        try:\n",
    "            missing.index(manifest)\n",
    "        except ValueError:\n",
    "            missing.append(manifest)\n",
    "\n",
    "print(\"missing updated length:\", len(missing))"
   ]
  },
  {
   "cell_type": "code",
   "execution_count": 54,
   "metadata": {},
   "outputs": [
    {
     "data": {
      "text/plain": [
       "[{'manifest': '46', 'year': '2019'},\n",
       " {'manifest': '383', 'year': '2019'},\n",
       " {'manifest': '436', 'year': '2019'},\n",
       " {'manifest': '465', 'year': '2019'},\n",
       " {'manifest': '494', 'year': '2019'},\n",
       " {'manifest': '439', 'year': '2019'},\n",
       " {'manifest': '453', 'year': '2019'},\n",
       " {'manifest': '467', 'year': '2019'},\n",
       " {'manifest': '283', 'year': '2019'},\n",
       " {'manifest': '315', 'year': '2019'},\n",
       " {'manifest': '310', 'year': '2019'},\n",
       " {'manifest': '392', 'year': '2019'},\n",
       " {'manifest': '377', 'year': '2019'},\n",
       " {'manifest': '124', 'year': '2019'},\n",
       " {'manifest': '371', 'year': '2019'},\n",
       " {'manifest': '372', 'year': '2019'},\n",
       " {'manifest': '361', 'year': '2019'},\n",
       " {'manifest': '460', 'year': '2019'},\n",
       " {'manifest': '368', 'year': '2019'},\n",
       " {'manifest': '398', 'year': '2019'},\n",
       " {'manifest': '415', 'year': '2019'},\n",
       " {'manifest': '386', 'year': '2019'},\n",
       " {'manifest': '347', 'year': '2019'},\n",
       " {'manifest': '417', 'year': '2019'},\n",
       " {'manifest': '406', 'year': '2019'},\n",
       " {'manifest': '407', 'year': '2019'},\n",
       " {'manifest': '356', 'year': '2019'},\n",
       " {'manifest': '419', 'year': '2019'},\n",
       " {'manifest': '443', 'year': '2019'},\n",
       " {'manifest': '434', 'year': '2019'},\n",
       " {'manifest': '378', 'year': '2019'},\n",
       " {'manifest': '346', 'year': '2019'},\n",
       " {'manifest': '422', 'year': '2019'},\n",
       " {'manifest': '192', 'year': '2019'},\n",
       " {'manifest': '240', 'year': '2019'},\n",
       " {'manifest': '373', 'year': '2019'},\n",
       " {'manifest': '360', 'year': '2019'},\n",
       " {'manifest': '292', 'year': '2019'},\n",
       " {'manifest': '384', 'year': '2019'},\n",
       " {'manifest': '451', 'year': '2019'},\n",
       " {'manifest': '354', 'year': '2019'},\n",
       " {'manifest': '404', 'year': '2019'},\n",
       " {'manifest': '488', 'year': '2019'},\n",
       " {'manifest': '448', 'year': '2019'},\n",
       " {'manifest': '410', 'year': '2019'}]"
      ]
     },
     "execution_count": 54,
     "metadata": {},
     "output_type": "execute_result"
    }
   ],
   "source": [
    "missing"
   ]
  },
  {
   "cell_type": "code",
   "execution_count": 55,
   "metadata": {},
   "outputs": [],
   "source": [
    "with open(\"../../db/manifests-missing.json\", \"w\") as file:\n",
    "    json.dump(missing, file)"
   ]
  },
  {
   "cell_type": "code",
   "execution_count": null,
   "metadata": {},
   "outputs": [],
   "source": []
  }
 ],
 "metadata": {
  "kernelspec": {
   "display_name": "Python 3",
   "language": "python",
   "name": "python3"
  },
  "language_info": {
   "codemirror_mode": {
    "name": "ipython",
    "version": 3
   },
   "file_extension": ".py",
   "mimetype": "text/x-python",
   "name": "python",
   "nbconvert_exporter": "python",
   "pygments_lexer": "ipython3",
   "version": "3.5.3"
  }
 },
 "nbformat": 4,
 "nbformat_minor": 2
}
