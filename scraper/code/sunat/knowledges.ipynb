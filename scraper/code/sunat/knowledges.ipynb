{
 "cells": [
  {
   "cell_type": "markdown",
   "metadata": {},
   "source": [
    "# Find knowledges"
   ]
  },
  {
   "cell_type": "code",
   "execution_count": 1,
   "metadata": {},
   "outputs": [],
   "source": [
    "from datetime import datetime, timedelta\n",
    "from pymongo import MongoClient\n",
    "from selenium import webdriver\n",
    "\n",
    "import json\n",
    "import time\n",
    "import logging"
   ]
  },
  {
   "cell_type": "code",
   "execution_count": 2,
   "metadata": {},
   "outputs": [],
   "source": [
    "logging.basicConfig(filename = \"../../logs/knowledges-20190327.log\", level = logging.INFO,\n",
    "                    format = \"[%(levelname)s %(asctime)s] %(message)s\")\n",
    "\n",
    "client = MongoClient()\n",
    "database = client[\"tracking_scraper\"]\n",
    "single_collection = database[\"manifests\"]\n",
    "multiple_collection = database[\"knowledges\"]"
   ]
  },
  {
   "cell_type": "code",
   "execution_count": 3,
   "metadata": {},
   "outputs": [
    {
     "name": "stdout",
     "output_type": "stream",
     "text": [
      "203\n"
     ]
    }
   ],
   "source": [
    "cursor = single_collection.find({\n",
    "    \"processed\": False\n",
    "})\n",
    "manifests = []\n",
    "for manifest in cursor:\n",
    "    manifests.append(manifest)\n",
    "print(len(manifests))\n",
    "\n",
    "# 255 - 52"
   ]
  },
  {
   "cell_type": "markdown",
   "metadata": {},
   "source": [
    "## Input"
   ]
  },
  {
   "cell_type": "code",
   "execution_count": 4,
   "metadata": {},
   "outputs": [],
   "source": [
    "def execute_input(driver):\n",
    "    driver.get((\"http://www.aduanet.gob.pe/cl-ad-itconsmanifiesto/manifiestoITS01Alias\"\n",
    "                \"?accion=cargarFrmConsultaManifiesto&tipo=M\"))\n",
    "    time.sleep(5)\n",
    "\n",
    "    # Write year input\n",
    "    year_input = driver.find_elements_by_name(\"CMc1_Anno\")[0]\n",
    "    year_input.clear()\n",
    "    year_input.send_keys(manifest[\"year\"])\n",
    "    time.sleep(1)\n",
    "\n",
    "    # Write manifest input\n",
    "    manifest_input = driver.find_elements_by_name(\"CMc1_Numero\")[0]\n",
    "    manifest_input.clear()\n",
    "    manifest_input.send_keys(manifest[\"manifest\"])\n",
    "    time.sleep(1)\n",
    "\n",
    "    # Click\n",
    "    button = driver.find_elements_by_css_selector(\"input[type=button]\")[0]\n",
    "    button.click()\n",
    "    time.sleep(5)"
   ]
  },
  {
   "cell_type": "markdown",
   "metadata": {},
   "source": [
    "## Output"
   ]
  },
  {
   "cell_type": "code",
   "execution_count": 5,
   "metadata": {},
   "outputs": [],
   "source": [
    "def get_output_parent(driver):\n",
    "    return driver.find_elements_by_tag_name(\"table\")"
   ]
  },
  {
   "cell_type": "code",
   "execution_count": 6,
   "metadata": {},
   "outputs": [],
   "source": [
    "def execute_single_output(driver, manifest, tables):\n",
    "    # Get table\n",
    "    table = tables[2]\n",
    "    # Get rows\n",
    "    rows = table.find_elements_by_tag_name(\"tr\")\n",
    "\n",
    "    # Get arrival date\n",
    "    cell = rows[1].find_elements_by_tag_name(\"td\")[1]\n",
    "    text = cell.text.strip()\n",
    "    try:\n",
    "        date = datetime.strptime(text, \"%d/%m/%Y %H:%M\")\n",
    "        manifest[\"arrival\"] = date - timedelta(hours = -5)\n",
    "    except ValueError:\n",
    "        logging.info(\"arrival date could not be read\")\n",
    "        # manifest[\"arrival\"] = None\n",
    "\n",
    "    # Get discharge date\n",
    "    cell = rows[2].find_elements_by_tag_name(\"td\")[1]\n",
    "    text = cell.text.strip()\n",
    "    try:\n",
    "        date = datetime.strptime(text, \"%d/%m/%Y %H:%M\")\n",
    "        manifest[\"discharge\"] = date - timedelta(hours = -5)\n",
    "    except ValueError:\n",
    "        logging.info(\"discharge date could not be read\")\n",
    "        # manifest[\"discharge\"] = None\n",
    "\n",
    "    # Get ship\n",
    "    cell = rows[3].find_elements_by_tag_name(\"td\")[1]\n",
    "    manifest[\"ship\"] = cell.text.strip()\n",
    "\n",
    "    # Get transport enterprise\n",
    "    cell = rows[4].find_elements_by_tag_name(\"td\")[1]\n",
    "    manifest[\"enterprise\"] = cell.text.strip()\n",
    "\n",
    "    # Get transmission date (?)\n",
    "    try:\n",
    "        cell = rows[7].find_elements_by_tag_name(\"td\")[1]\n",
    "        text = cell.text.strip()\n",
    "        try:\n",
    "            date = datetime.strptime(text, \"%d/%m/%Y %H:%M:%S\")\n",
    "            manifest[\"transmission\"] = date - timedelta(hours = -5)\n",
    "        except ValueError as ex:\n",
    "            logging.info(\"transmission date could not be read\")\n",
    "            manifest[\"transmission\"] = None\n",
    "    except IndexError:\n",
    "        logging.info(\"transmission date not found\")\n",
    "        manifest[\"transmission\"] = None"
   ]
  },
  {
   "cell_type": "code",
   "execution_count": 7,
   "metadata": {},
   "outputs": [],
   "source": [
    "def insert_or_update(collection, document, query_keys):\n",
    "    # Create shallow copy of document, with specified keys, for query\n",
    "    query_doc = {}\n",
    "    for key in query_keys:\n",
    "        query_doc[key] = document[key]\n",
    "    \n",
    "    # Create shallow copy of document for updating\n",
    "    update_doc = dict(document)\n",
    "    update_doc[\"updated_at\"] = datetime.utcnow()\n",
    "    \n",
    "    # Try to update\n",
    "    result = collection.update_one(query_doc, {\n",
    "        \"$set\": update_doc\n",
    "    })\n",
    "    if result.matched_count > 0:\n",
    "        logging.info(\"updated: %s\", query_doc)\n",
    "        return\n",
    "    \n",
    "    # If update was unsuccessful, insert document\n",
    "    document[\"created_at\"] = datetime.utcnow()\n",
    "    document[\"updated_at\"] = None\n",
    "    if \"processed\" not in document:\n",
    "        document[\"processed\"] = False\n",
    "\n",
    "    result = collection.insert_one(document)\n",
    "    logging.info(\"insert: %s\", query_doc)"
   ]
  },
  {
   "cell_type": "code",
   "execution_count": 8,
   "metadata": {},
   "outputs": [],
   "source": [
    "def execute_multiple_output(driver, manifest, tables):\n",
    "    # Get table\n",
    "    try:\n",
    "        table = tables[3]\n",
    "    except IndexError:\n",
    "        logging.info(\"no knowledges found\")\n",
    "        return\n",
    "    \n",
    "    # Get rows\n",
    "    rows = table.find_elements_by_css_selector(\"tr:not(:first-child)\")\n",
    "    logging.info(\"%d knowledges found\", len(rows))\n",
    "    \n",
    "    for row in rows:\n",
    "        # Get cells\n",
    "        cells = row.find_elements_by_tag_name(\"td\")\n",
    "\n",
    "        # Declare knowledge\n",
    "        knowledge = {\n",
    "            \"year\": manifest[\"year\"],\n",
    "            \"manifest\": manifest[\"manifest\"]\n",
    "        }\n",
    "        \n",
    "        # Get origin port\n",
    "        knowledge[\"origin_port\"] = cells[0].text.strip()\n",
    "\n",
    "        # Get knowledge identifier\n",
    "        knowledge[\"knowledge\"] = cells[2].text.strip()\n",
    "\n",
    "        # Get detail number\n",
    "        knowledge[\"detail\"] = cells[4].text.strip()\n",
    "        \n",
    "        # Get weight\n",
    "        text = cells[8].text.strip()\n",
    "        try:\n",
    "            knowledge[\"weight\"] = float(text.replace(\",\", \"\"))\n",
    "        except ValueError:\n",
    "            logging.info(\"weight could not be read\")\n",
    "            knowledge[\"weight\"] = None\n",
    "        \n",
    "        # Get package count\n",
    "        text = cells[9].text.strip()\n",
    "        try:\n",
    "            knowledge[\"package_count\"] = int(text.replace(\",\", \"\"))\n",
    "        except ValueError:\n",
    "            logging.info(\"package count could not be read\")\n",
    "            knowledge[\"package_count\"] = None\n",
    "\n",
    "        # Get consignee\n",
    "        knowledge[\"consignee\"] = cells[14].text.strip()\n",
    "\n",
    "        # Get shipper\n",
    "        knowledge[\"shipper\"] = cells[15].text.strip()\n",
    "        \n",
    "        # Get destiny port\n",
    "        knowledge[\"destiny_port\"] = cells[17].text.strip()\n",
    "        \n",
    "        # Get transmission date\n",
    "        text = cells[20].text.strip()\n",
    "        try:\n",
    "            date = datetime.strptime(text, \"%d/%m/%Y %I:%M:%S %p\")\n",
    "            knowledge[\"transmission\"] = date - timedelta(hours = -5)\n",
    "        except ValueError:\n",
    "            logging.info(\"transmission could not be read\")\n",
    "            knowledge[\"transmission\"] = None\n",
    "\n",
    "        # Save knowledge\n",
    "        insert_or_update(multiple_collection, knowledge, [\"year\", \"manifest\", \"detail\"])"
   ]
  },
  {
   "cell_type": "code",
   "execution_count": 9,
   "metadata": {},
   "outputs": [],
   "source": [
    "def update_single(driver, manifest):\n",
    "    manifest[\"processed\"] = True\n",
    "    insert_or_update(single_collection, manifest, [\"year\", \"manifest\"])\n",
    "    time.sleep(5)"
   ]
  },
  {
   "cell_type": "markdown",
   "metadata": {},
   "source": [
    "## Check database"
   ]
  },
  {
   "cell_type": "code",
   "execution_count": 10,
   "metadata": {},
   "outputs": [],
   "source": [
    "def check_database():\n",
    "    for knowledge in multiple_collection.find():\n",
    "        print(knowledge)\n",
    "        text = input(\"Press Enter to continue, or type 'quit' to cancel: \")\n",
    "        if text.lower() == \"quit\":\n",
    "            break"
   ]
  },
  {
   "cell_type": "markdown",
   "metadata": {},
   "source": [
    "## Iterate through manifests to be processed"
   ]
  },
  {
   "cell_type": "code",
   "execution_count": 11,
   "metadata": {},
   "outputs": [],
   "source": [
    "driver = webdriver.Chrome(executable_path = \"../../driver/chromedriver\")\n",
    "for manifest in manifests:\n",
    "    try:\n",
    "        execute_input(driver)\n",
    "        tables = get_output_parent(driver)\n",
    "        execute_single_output(driver, manifest, tables)\n",
    "        execute_multiple_output(driver, manifest, tables)\n",
    "        update_single(driver, manifest)\n",
    "    except Exception as ex:\n",
    "        logging.exception(\"Exception ocurred\")\n",
    "        break\n",
    "driver.close()"
   ]
  },
  {
   "cell_type": "code",
   "execution_count": 12,
   "metadata": {},
   "outputs": [
    {
     "data": {
      "text/plain": [
       "0"
      ]
     },
     "execution_count": 12,
     "metadata": {},
     "output_type": "execute_result"
    }
   ],
   "source": [
    "single_collection.count_documents({\n",
    "    \"processed\": False\n",
    "})"
   ]
  },
  {
   "cell_type": "code",
   "execution_count": null,
   "metadata": {},
   "outputs": [],
   "source": []
  }
 ],
 "metadata": {
  "kernelspec": {
   "display_name": "Python 3",
   "language": "python",
   "name": "python3"
  },
  "language_info": {
   "codemirror_mode": {
    "name": "ipython",
    "version": 3
   },
   "file_extension": ".py",
   "mimetype": "text/x-python",
   "name": "python",
   "nbconvert_exporter": "python",
   "pygments_lexer": "ipython3",
   "version": "3.5.3"
  }
 },
 "nbformat": 4,
 "nbformat_minor": 2
}
