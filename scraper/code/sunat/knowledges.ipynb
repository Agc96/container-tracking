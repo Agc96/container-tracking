{
 "cells": [
  {
   "cell_type": "markdown",
   "metadata": {},
   "source": [
    "# Find knowledges"
   ]
  },
  {
   "cell_type": "code",
   "execution_count": 6,
   "metadata": {},
   "outputs": [],
   "source": [
    "from datetime import datetime, timedelta\n",
    "from pymongo import MongoClient\n",
    "from selenium import webdriver\n",
    "\n",
    "import time"
   ]
  },
  {
   "cell_type": "code",
   "execution_count": 25,
   "metadata": {},
   "outputs": [],
   "source": [
    "client = MongoClient()\n",
    "database = client[\"tracking_scraper\"]\n",
    "single_collection = database[\"manifests\"]\n",
    "multiple_collection = database[\"knowledges\"]"
   ]
  },
  {
   "cell_type": "code",
   "execution_count": 8,
   "metadata": {},
   "outputs": [],
   "source": [
    "# Temporal\n",
    "manifest = {'manifest': '450', 'year': '2019'}"
   ]
  },
  {
   "cell_type": "markdown",
   "metadata": {},
   "source": [
    "## Input"
   ]
  },
  {
   "cell_type": "code",
   "execution_count": 11,
   "metadata": {},
   "outputs": [],
   "source": [
    "driver = webdriver.Chrome(executable_path = \"../../driver/chromedriver\")\n",
    "driver.get(\"http://www.aduanet.gob.pe/cl-ad-itconsmanifiesto/manifiestoITS01Alias?accion=cargarFrmConsultaManifiesto&tipo=M\")\n",
    "time.sleep(5)\n",
    "\n",
    "# Write year input\n",
    "year_input = driver.find_elements_by_name(\"CMc1_Anno\")[0]\n",
    "year_input.clear()\n",
    "year_input.send_keys(manifest[\"year\"])\n",
    "time.sleep(1)\n",
    "\n",
    "# Write manifest input\n",
    "manifest_input = driver.find_elements_by_name(\"CMc1_Numero\")[0]\n",
    "manifest_input.clear()\n",
    "manifest_input.send_keys(manifest[\"manifest\"])\n",
    "time.sleep(1)\n",
    "\n",
    "# Click\n",
    "button = driver.find_elements_by_css_selector(\"input[type=button]\")[0]\n",
    "button.click()\n",
    "time.sleep(5)"
   ]
  },
  {
   "cell_type": "markdown",
   "metadata": {},
   "source": [
    "## Output"
   ]
  },
  {
   "cell_type": "code",
   "execution_count": 20,
   "metadata": {},
   "outputs": [],
   "source": [
    "# Get table\n",
    "tables = driver.find_elements_by_tag_name(\"table\")\n",
    "table = tables[2]\n",
    "\n",
    "# Get rows\n",
    "rows = table.find_elements_by_tag_name(\"tr\")\n",
    "\n",
    "# Get arrival date\n",
    "cell = rows[1].find_elements_by_tag_name(\"td\")[1]\n",
    "text = cell.text.strip()\n",
    "try:\n",
    "    date = datetime.strptime(text, \"%d/%m/%Y %H:%M\")\n",
    "    manifest[\"arrival\"] = date\n",
    "except ValueError:\n",
    "    manifest[\"arrival\"] = None\n",
    "\n",
    "# Get discharge date\n",
    "cell = rows[2].find_elements_by_tag_name(\"td\")[1]\n",
    "text = cell.text.strip()\n",
    "try:\n",
    "    date = datetime.strptime(text, \"%d/%m/%Y %H:%M\")\n",
    "    manifest[\"discharge\"] = date\n",
    "except ValueError:\n",
    "    manifest[\"discharge\"] = None\n",
    "\n",
    "# Get ship\n",
    "cell = rows[3].find_elements_by_tag_name(\"td\")[1]\n",
    "manifest[\"ship\"] = cell.text.strip()\n",
    "\n",
    "# Get transport enterprise\n",
    "cell = rows[4].find_elements_by_tag_name(\"td\")[1]\n",
    "manifest[\"enterprise\"] = cell.text.strip()\n",
    "\n",
    "# Get transmission date (?)\n",
    "try:\n",
    "    cell = rows[7].find_elements_by_tag_name(\"td\")[1]\n",
    "    text = cell.text.strip()\n",
    "    try:\n",
    "        date = datetime.strptime(text, \"%d/%m/%Y %H:%M:%S\")\n",
    "        manifest[\"transmission\"] = date\n",
    "    except ValueError as ex:\n",
    "        manifest[\"transmission\"] = None\n",
    "        print(\"error parsing date\", ex)\n",
    "except IndexError:\n",
    "    manifest[\"transmission\"] = None\n",
    "    print(\"no transmission date\")"
   ]
  },
  {
   "cell_type": "code",
   "execution_count": 22,
   "metadata": {
    "scrolled": true
   },
   "outputs": [
    {
     "data": {
      "text/plain": [
       "{'arrival': datetime.datetime(2019, 2, 21, 19, 0),\n",
       " 'discharge': datetime.datetime(2019, 2, 22, 19, 24),\n",
       " 'enterprise': '7770- TRABAJOS MARITIMOS S.A.',\n",
       " 'manifest': '450',\n",
       " 'ship': 'CARTAGENA EXPRESS',\n",
       " 'transmission': datetime.datetime(2019, 2, 15, 14, 43, 17),\n",
       " 'year': '2019'}"
      ]
     },
     "execution_count": 22,
     "metadata": {},
     "output_type": "execute_result"
    }
   ],
   "source": [
    "manifest"
   ]
  },
  {
   "cell_type": "code",
   "execution_count": 27,
   "metadata": {},
   "outputs": [
    {
     "data": {
      "text/plain": [
       "{'_id': ObjectId('5c92f4109303fc27c8474435'),\n",
       " 'arrival': datetime.datetime(2019, 3, 22, 0, 0),\n",
       " 'created_at': datetime.datetime(2019, 3, 21, 2, 16, 48, 668000),\n",
       " 'discharge': datetime.datetime(2019, 3, 23, 0, 17),\n",
       " 'manifest': '450',\n",
       " 'processed': False,\n",
       " 'ship': 'CARTAGENA EXPRESS',\n",
       " 'updated_at': None,\n",
       " 'year': '2019'}"
      ]
     },
     "execution_count": 27,
     "metadata": {},
     "output_type": "execute_result"
    }
   ],
   "source": [
    "single_collection.find_one({\n",
    "    \"year\": \"2019\",\n",
    "    \"manifest\": \"450\"\n",
    "})"
   ]
  },
  {
   "cell_type": "code",
   "execution_count": 31,
   "metadata": {},
   "outputs": [
    {
     "name": "stdout",
     "output_type": "stream",
     "text": [
      "1892 knowledges found\n",
      "{'transmission': datetime.datetime(2019, 2, 16, 16, 34, 10), 'year': '2019', 'origin_port': 'DELUH', 'knowledge': 'SUDUC9FRA000231X', 'shipper': 'BASF SE Carl Bosch Strasse 38', 'destiny_port': 'CLVAP', 'consignee': 'BASF CHILE SA', 'manifest': '450', 'detail': '1'}\n"
     ]
    }
   ],
   "source": [
    "# Get table\n",
    "try:\n",
    "    table = tables[3]\n",
    "    \n",
    "    # Get rows\n",
    "    rows = table.find_elements_by_css_selector(\"tr:not(:first-child)\")\n",
    "    print(len(rows), \"knowledges found\")\n",
    "    \n",
    "    for row in rows:\n",
    "        # Get cells\n",
    "        cells = row.find_elements_by_tag_name(\"td\")\n",
    "\n",
    "        # Declare knowledge\n",
    "        knowledge = {\n",
    "            \"year\": manifest[\"year\"],\n",
    "            \"manifest\": manifest[\"manifest\"]\n",
    "        }\n",
    "        \n",
    "        # Get origin port\n",
    "        knowledge[\"origin_port\"] = cells[0].text.strip()\n",
    "\n",
    "        # Get knowledge identifier\n",
    "        knowledge[\"knowledge\"] = cells[2].text.strip()\n",
    "\n",
    "        # Get detail number\n",
    "        knowledge[\"detail\"] = cells[4].text.strip()\n",
    "\n",
    "        # Get consignee\n",
    "        knowledge[\"consignee\"] = cells[14].text.strip()\n",
    "\n",
    "        # Get shipper\n",
    "        knowledge[\"shipper\"] = cells[15].text.strip()\n",
    "        \n",
    "        # Get destiny port\n",
    "        knowledge[\"destiny_port\"] = cells[17].text.strip()\n",
    "        \n",
    "        # Get transmission date\n",
    "        text = cells[20].text.strip()\n",
    "        try:\n",
    "            date = datetime.strptime(text, \"%d/%m/%Y %I:%M:%S %p\")\n",
    "            knowledge[\"transmission\"] = date\n",
    "        except ValueError:\n",
    "            knowledge[\"transmission\"] = None\n",
    "\n",
    "        # Save knowledge\n",
    "        print(knowledge)\n",
    "        break\n",
    "except IndexError:\n",
    "    print(\"no knowledges found\")"
   ]
  },
  {
   "cell_type": "code",
   "execution_count": 32,
   "metadata": {},
   "outputs": [],
   "source": [
    "driver.close()"
   ]
  },
  {
   "cell_type": "markdown",
   "metadata": {},
   "source": [
    "## Check database"
   ]
  },
  {
   "cell_type": "code",
   "execution_count": null,
   "metadata": {},
   "outputs": [],
   "source": []
  }
 ],
 "metadata": {
  "kernelspec": {
   "display_name": "Python 3",
   "language": "python",
   "name": "python3"
  },
  "language_info": {
   "codemirror_mode": {
    "name": "ipython",
    "version": 3
   },
   "file_extension": ".py",
   "mimetype": "text/x-python",
   "name": "python",
   "nbconvert_exporter": "python",
   "pygments_lexer": "ipython3",
   "version": "3.5.3"
  }
 },
 "nbformat": 4,
 "nbformat_minor": 2
}
