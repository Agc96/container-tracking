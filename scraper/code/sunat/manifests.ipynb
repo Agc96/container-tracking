{
 "cells": [
  {
   "cell_type": "markdown",
   "metadata": {},
   "source": [
    "# Find manifests"
   ]
  },
  {
   "cell_type": "code",
   "execution_count": 1,
   "metadata": {},
   "outputs": [],
   "source": [
    "from datetime import datetime, timedelta\n",
    "from pymongo import MongoClient\n",
    "from selenium import webdriver\n",
    "\n",
    "import time"
   ]
  },
  {
   "cell_type": "code",
   "execution_count": 2,
   "metadata": {},
   "outputs": [],
   "source": [
    "client = MongoClient()\n",
    "database = client[\"tracking_scraper\"]\n",
    "multiple_collection = database[\"manifests\"]"
   ]
  },
  {
   "cell_type": "markdown",
   "metadata": {},
   "source": [
    "## Input"
   ]
  },
  {
   "cell_type": "code",
   "execution_count": 3,
   "metadata": {},
   "outputs": [],
   "source": [
    "# Go to URL\n",
    "driver = webdriver.Chrome(executable_path = \"../../driver/chromedriver\")\n",
    "driver.get(\"http://www.aduanet.gob.pe/aduanas/informao/HRMCFLlega.htm\")\n",
    "time.sleep(5)\n",
    "\n",
    "# Set date\n",
    "element = driver.find_elements_by_name(\"CMc2_Fecha1\")[0]\n",
    "value = datetime.today() + timedelta(-26)\n",
    "element.clear()\n",
    "element.send_keys(datetime.strftime(value, \"%d/%m/%Y\"))\n",
    "time.sleep(1)\n",
    "\n",
    "# Submit\n",
    "button = driver.find_elements_by_css_selector(\"input[type=button]\")[0]\n",
    "button.click()\n",
    "time.sleep(5)"
   ]
  },
  {
   "cell_type": "markdown",
   "metadata": {},
   "source": [
    "## Output"
   ]
  },
  {
   "cell_type": "code",
   "execution_count": 26,
   "metadata": {},
   "outputs": [],
   "source": [
    "def insert_or_update(collection, document, query_keys):\n",
    "    # Create shallow copy of document, with specified keys, for query\n",
    "    query_doc = {}\n",
    "    for key in query_keys:\n",
    "        query_doc[key] = document[key]\n",
    "    \n",
    "    # Create shallow copy of document for updating\n",
    "    update_doc = dict(document)\n",
    "    update_doc[\"updated_at\"] = datetime.utcnow()\n",
    "    \n",
    "    # Try to update\n",
    "    result = collection.update_one(query_doc, {\n",
    "        \"$set\": update_doc\n",
    "    })\n",
    "    if result.matched_count > 0:\n",
    "        print(\"updated:\", query_doc)\n",
    "        return\n",
    "    \n",
    "    # If update was unsuccessful, insert document\n",
    "    document[\"created_at\"] = datetime.utcnow()\n",
    "    document[\"updated_at\"] = None\n",
    "    document[\"processed\"] = False\n",
    "    \n",
    "    result = collection.insert_one(insert_doc)\n",
    "    print(\"insert:\", query_doc, result.inserted_id)"
   ]
  },
  {
   "cell_type": "code",
   "execution_count": 4,
   "metadata": {},
   "outputs": [],
   "source": [
    "# Get table\n",
    "table = driver.find_elements_by_tag_name(\"table\")[3]\n",
    "\n",
    "# Get manifest rows\n",
    "rows = table.find_elements_by_css_selector(\"tr:not(:first-child)\")\n",
    "for row in rows:\n",
    "    manifest = {}\n",
    "    \n",
    "    # Get cells\n",
    "    cells = row.find_elements_by_tag_name(\"td\")\n",
    "    \n",
    "    # Get manifest year and number\n",
    "    split = cells[0].text.split(\" - \")\n",
    "    manifest[\"year\"] = \"20\" + split[0]\n",
    "    manifest[\"manifest\"] = split[1]\n",
    "    \n",
    "    # Get manifest arrival date\n",
    "    text = cells[1].text.strip()\n",
    "    try:\n",
    "        date = datetime.strptime(text, \"%d/%m/%Y\")\n",
    "        manifest[\"arrival\"] = date\n",
    "    except ValueError:\n",
    "        manifest[\"arrival\"] = None\n",
    "    \n",
    "    # Get manifest discharge date\n",
    "    text = cells[2].text.strip()\n",
    "    try:\n",
    "        date = datetime.strptime(text, \"%d/%m/%Y\")\n",
    "        manifest[\"discharge\"] = date\n",
    "    except ValueError:\n",
    "        manifest[\"discharge\"] = None\n",
    "    \n",
    "    # Get manifest ship\n",
    "    text = cells[3].text.strip()\n",
    "    manifest[\"ship\"] = text\n",
    "    \n",
    "    # Save to database if it exists\n",
    "    insert_or_update(multiple_collection, manifest, [\"year\", \"manifest\"])"
   ]
  },
  {
   "cell_type": "code",
   "execution_count": 5,
   "metadata": {},
   "outputs": [],
   "source": [
    "driver.close()"
   ]
  },
  {
   "cell_type": "markdown",
   "metadata": {},
   "source": [
    "## Check database"
   ]
  },
  {
   "cell_type": "code",
   "execution_count": 6,
   "metadata": {},
   "outputs": [
    {
     "name": "stdout",
     "output_type": "stream",
     "text": [
      "{'_id': ObjectId('5c92e2b69303fc1fa350e804'), 'processed': False, 'discharge': datetime.datetime(2019, 2, 23, 0, 0), 'manifest': '456', 'updated_at': None, 'year': '2019', 'created_at': datetime.datetime(2019, 3, 21, 1, 2, 46, 665000), 'ship': 'SAN ANTONIO EXPRESS', 'arrival': datetime.datetime(2019, 2, 22, 0, 0)}\n",
      "Continue by pressing Enter, or type 'quit' to exit: \n",
      "{'_id': ObjectId('5c92e2b69303fc1fa350e805'), 'processed': False, 'discharge': None, 'manifest': '462', 'updated_at': None, 'year': '2019', 'created_at': datetime.datetime(2019, 3, 21, 1, 2, 46, 750000), 'ship': 'FAIRCHEM FORTE', 'arrival': datetime.datetime(2019, 2, 22, 0, 0)}\n",
      "Continue by pressing Enter, or type 'quit' to exit: \n",
      "{'_id': ObjectId('5c92e2b69303fc1fa350e806'), 'processed': False, 'discharge': datetime.datetime(2019, 2, 23, 0, 0), 'manifest': '400', 'updated_at': None, 'year': '2019', 'created_at': datetime.datetime(2019, 3, 21, 1, 2, 46, 827000), 'ship': 'MOL BEYOND', 'arrival': datetime.datetime(2019, 2, 22, 0, 0)}\n",
      "Continue by pressing Enter, or type 'quit' to exit: \n",
      "{'_id': ObjectId('5c92e2b69303fc1fa350e807'), 'processed': False, 'discharge': datetime.datetime(2019, 2, 24, 0, 0), 'manifest': '449', 'updated_at': None, 'year': '2019', 'created_at': datetime.datetime(2019, 3, 21, 1, 2, 46, 898000), 'ship': 'AGIOS MINAS', 'arrival': datetime.datetime(2019, 2, 22, 0, 0)}\n",
      "Continue by pressing Enter, or type 'quit' to exit: \n",
      "{'_id': ObjectId('5c92e2b79303fc1fa350e808'), 'processed': False, 'discharge': None, 'manifest': '458', 'updated_at': None, 'year': '2019', 'created_at': datetime.datetime(2019, 3, 21, 1, 2, 46, 971000), 'ship': 'PU YUAN 801', 'arrival': datetime.datetime(2019, 2, 22, 0, 0)}\n",
      "Continue by pressing Enter, or type 'quit' to exit: \n",
      "{'_id': ObjectId('5c92e2b79303fc1fa350e809'), 'processed': False, 'discharge': datetime.datetime(2019, 2, 23, 0, 0), 'manifest': '445', 'updated_at': None, 'year': '2019', 'created_at': datetime.datetime(2019, 3, 21, 1, 2, 47, 43000), 'ship': 'LEDA MAERSK', 'arrival': datetime.datetime(2019, 2, 22, 0, 0)}\n",
      "Continue by pressing Enter, or type 'quit' to exit: \n",
      "{'_id': ObjectId('5c92e2b79303fc1fa350e80a'), 'processed': False, 'discharge': datetime.datetime(2019, 2, 26, 0, 0), 'manifest': '305', 'updated_at': None, 'year': '2019', 'created_at': datetime.datetime(2019, 3, 21, 1, 2, 47, 116000), 'ship': 'TURICUM', 'arrival': datetime.datetime(2019, 2, 22, 0, 0)}\n",
      "Continue by pressing Enter, or type 'quit' to exit: \n",
      "{'_id': ObjectId('5c92e2b79303fc1fa350e80b'), 'processed': False, 'discharge': None, 'manifest': '505', 'updated_at': None, 'year': '2019', 'created_at': datetime.datetime(2019, 3, 21, 1, 2, 47, 191000), 'ship': 'REINA DE LA PAZ', 'arrival': datetime.datetime(2019, 2, 22, 0, 0)}\n",
      "Continue by pressing Enter, or type 'quit' to exit: \n",
      "{'_id': ObjectId('5c92e2b79303fc1fa350e80c'), 'processed': False, 'discharge': datetime.datetime(2019, 2, 22, 0, 0), 'manifest': '473', 'updated_at': None, 'year': '2019', 'created_at': datetime.datetime(2019, 3, 21, 1, 2, 47, 270000), 'ship': 'ALEGRIAS', 'arrival': datetime.datetime(2019, 2, 22, 0, 0)}\n",
      "Continue by pressing Enter, or type 'quit' to exit: \n",
      "{'_id': ObjectId('5c92e2b79303fc1fa350e80d'), 'processed': False, 'discharge': None, 'manifest': '420', 'updated_at': None, 'year': '2019', 'created_at': datetime.datetime(2019, 3, 21, 1, 2, 47, 342000), 'ship': 'SEVEN SEAS EXPLORER', 'arrival': datetime.datetime(2019, 2, 22, 0, 0)}\n",
      "Continue by pressing Enter, or type 'quit' to exit: \n",
      "{'_id': ObjectId('5c92e2b79303fc1fa350e80e'), 'processed': False, 'discharge': datetime.datetime(2019, 2, 26, 0, 0), 'manifest': '396', 'updated_at': None, 'year': '2019', 'created_at': datetime.datetime(2019, 3, 21, 1, 2, 47, 423000), 'ship': 'KMARIN JASMINE', 'arrival': datetime.datetime(2019, 2, 22, 0, 0)}\n",
      "Continue by pressing Enter, or type 'quit' to exit: quit\n"
     ]
    }
   ],
   "source": [
    "for manifest in multiple_collection.find():\n",
    "    print(manifest)\n",
    "    text = input(\"Continue by pressing Enter, or type 'quit' to exit: \")\n",
    "    if text.lower() == \"quit\":\n",
    "        break"
   ]
  },
  {
   "cell_type": "code",
   "execution_count": null,
   "metadata": {},
   "outputs": [],
   "source": []
  }
 ],
 "metadata": {
  "kernelspec": {
   "display_name": "Python 3",
   "language": "python",
   "name": "python3"
  },
  "language_info": {
   "codemirror_mode": {
    "name": "ipython",
    "version": 3
   },
   "file_extension": ".py",
   "mimetype": "text/x-python",
   "name": "python",
   "nbconvert_exporter": "python",
   "pygments_lexer": "ipython3",
   "version": "3.5.3"
  }
 },
 "nbformat": 4,
 "nbformat_minor": 2
}
