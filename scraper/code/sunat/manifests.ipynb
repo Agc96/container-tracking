{
 "cells": [
  {
   "cell_type": "markdown",
   "metadata": {},
   "source": [
    "# Find manifests"
   ]
  },
  {
   "cell_type": "code",
   "execution_count": 1,
   "metadata": {},
   "outputs": [],
   "source": [
    "from datetime import datetime, timedelta\n",
    "from pymongo import MongoClient\n",
    "from selenium import webdriver\n",
    "\n",
    "import logging\n",
    "import time"
   ]
  },
  {
   "cell_type": "code",
   "execution_count": 2,
   "metadata": {},
   "outputs": [],
   "source": [
    "today = datetime.now().strftime(\"%Y%m%d\")\n",
    "logging.basicConfig(filename = \"../../logs/manifests-\" + today + \".log\", level = logging.INFO,\n",
    "                    format = \"[%(levelname)s %(asctime)s] %(message)s\")\n",
    "\n",
    "client = MongoClient()\n",
    "database = client[\"scraper2\"]\n",
    "manifests_table = database[\"manifests\"]"
   ]
  },
  {
   "cell_type": "markdown",
   "metadata": {},
   "source": [
    "## Input"
   ]
  },
  {
   "cell_type": "code",
   "execution_count": 3,
   "metadata": {},
   "outputs": [],
   "source": [
    "# Go to URL\n",
    "driver = webdriver.Chrome(executable_path = \"../../driver/chromedriver\")\n",
    "driver.get(\"http://www.aduanet.gob.pe/aduanas/informao/HRMCFLlega.htm\")\n",
    "time.sleep(5)\n",
    "\n",
    "# Set date\n",
    "element = driver.find_elements_by_name(\"CMc2_Fecha1\")[0]\n",
    "value = datetime.today() + timedelta(-2)\n",
    "element.clear()\n",
    "element.send_keys(datetime.strftime(value, \"%d/%m/%Y\"))\n",
    "time.sleep(1)\n",
    "\n",
    "# Submit\n",
    "button = driver.find_elements_by_css_selector(\"input[type=button]\")[0]\n",
    "button.click()\n",
    "time.sleep(5)"
   ]
  },
  {
   "cell_type": "markdown",
   "metadata": {},
   "source": [
    "## Output"
   ]
  },
  {
   "cell_type": "code",
   "execution_count": 4,
   "metadata": {},
   "outputs": [],
   "source": [
    "def insert_or_update(collection, document, query_keys):\n",
    "    # Create shallow copy of document, with specified keys, for query\n",
    "    query_doc = {}\n",
    "    for key in query_keys:\n",
    "        query_doc[key] = document[key]\n",
    "    \n",
    "    # Create shallow copy of document for updating\n",
    "    update_doc = dict(document)\n",
    "    update_doc[\"updated_at\"] = datetime.utcnow()\n",
    "    \n",
    "    # Try to update\n",
    "    result = collection.update_one(query_doc, {\n",
    "        \"$set\": update_doc\n",
    "    })\n",
    "    if result.matched_count > 0:\n",
    "        logging.info(\"updated: %s\", query_doc)\n",
    "        return\n",
    "    \n",
    "    # If update was unsuccessful, insert document\n",
    "    document[\"created_at\"] = datetime.utcnow()\n",
    "    document[\"updated_at\"] = None\n",
    "    document[\"processed\"] = False\n",
    "    \n",
    "    result = collection.insert_one(document)\n",
    "    logging.info(\"insert: %s\", query_doc)"
   ]
  },
  {
   "cell_type": "code",
   "execution_count": 5,
   "metadata": {},
   "outputs": [],
   "source": [
    "# Get table\n",
    "table = driver.find_elements_by_tag_name(\"table\")[3]\n",
    "\n",
    "# Get manifest rows\n",
    "rows = table.find_elements_by_css_selector(\"tr:not(:first-child)\")\n",
    "for row in rows:\n",
    "    manifest = {}\n",
    "    \n",
    "    # Get cells\n",
    "    cells = row.find_elements_by_tag_name(\"td\")\n",
    "    \n",
    "    # Get manifest year and number\n",
    "    split = cells[0].text.split(\" - \")\n",
    "    manifest[\"year\"] = \"20\" + split[0]\n",
    "    manifest[\"manifest\"] = split[1]\n",
    "    logging.info(\"manifest: %s-%s\", manifest[\"year\"], manifest[\"manifest\"])\n",
    "    \n",
    "    # Get manifest arrival date\n",
    "    text = cells[1].text.strip()\n",
    "    try:\n",
    "        date = datetime.strptime(text, \"%d/%m/%Y\")\n",
    "        manifest[\"arrival\"] = date\n",
    "    except ValueError:\n",
    "        logging.info(\"arrival info not found\")\n",
    "        manifest[\"arrival\"] = None\n",
    "    \n",
    "    # Get manifest discharge date\n",
    "    text = cells[2].text.strip()\n",
    "    try:\n",
    "        date = datetime.strptime(text, \"%d/%m/%Y\")\n",
    "        manifest[\"discharge\"] = date\n",
    "    except ValueError:\n",
    "        logging.info(\"discharge info not found\")\n",
    "        manifest[\"discharge\"] = None\n",
    "    \n",
    "    # Get manifest ship\n",
    "    text = cells[3].text.strip()\n",
    "    manifest[\"ship\"] = text\n",
    "    \n",
    "    # Save to database if it exists\n",
    "    insert_or_update(manifests_table, manifest, [\"year\", \"manifest\"])"
   ]
  },
  {
   "cell_type": "code",
   "execution_count": 6,
   "metadata": {},
   "outputs": [],
   "source": [
    "driver.close()"
   ]
  },
  {
   "cell_type": "code",
   "execution_count": null,
   "metadata": {},
   "outputs": [],
   "source": []
  }
 ],
 "metadata": {
  "kernelspec": {
   "display_name": "Python 3",
   "language": "python",
   "name": "python3"
  },
  "language_info": {
   "codemirror_mode": {
    "name": "ipython",
    "version": 3
   },
   "file_extension": ".py",
   "mimetype": "text/x-python",
   "name": "python",
   "nbconvert_exporter": "python",
   "pygments_lexer": "ipython3",
   "version": "3.7.1"
  }
 },
 "nbformat": 4,
 "nbformat_minor": 2
}
