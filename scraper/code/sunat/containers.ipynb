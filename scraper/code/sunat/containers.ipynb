{
 "cells": [
  {
   "cell_type": "code",
   "execution_count": 1,
   "metadata": {},
   "outputs": [],
   "source": [
    "from datetime import datetime, timedelta\n",
    "from pymongo import MongoClient\n",
    "from selenium import webdriver\n",
    "\n",
    "import time\n",
    "import logging"
   ]
  },
  {
   "cell_type": "code",
   "execution_count": 2,
   "metadata": {},
   "outputs": [],
   "source": [
    "today = datetime.now().strftime(\"%Y%m%d\")\n",
    "logging.basicConfig(filename = \"../../logs/containers-\" + today + \".log\", level = logging.INFO,\n",
    "                    format = \"[%(levelname)s %(asctime)s] %(message)s\")\n",
    "\n",
    "client = MongoClient()\n",
    "database = client[\"scraper3\"]\n",
    "knowledge_table = database[\"knowledges\"]\n",
    "container_table = database[\"containers\"]\n",
    "container_prefixes = database[\"container_prefixes\"]"
   ]
  },
  {
   "cell_type": "markdown",
   "metadata": {},
   "source": [
    "## Input"
   ]
  },
  {
   "cell_type": "code",
   "execution_count": 3,
   "metadata": {},
   "outputs": [],
   "source": [
    "def execute_input(driver, knowledge):\n",
    "    # logging.info(\"knowledge: %s\", knowledge)\n",
    "    link = (\"http://www.aduanet.gob.pe/cl-ad-itconsmanifiesto/manifiestoITS01Alias?accion=consultar\"\n",
    "            \"DetalleConocimientoEmbarque&CMc2_Anno={year}&CMc2_Numero={manifest}&CMc2_NumDet={detail}&\"\n",
    "            \"CG_cadu=118&CMc2_TipM=mc&CMc2_numcon={knowledge}\").format(**knowledge)\n",
    "    driver.get(link)\n",
    "    time.sleep(5)"
   ]
  },
  {
   "cell_type": "markdown",
   "metadata": {},
   "source": [
    "## Interaction with the database"
   ]
  },
  {
   "cell_type": "code",
   "execution_count": 4,
   "metadata": {},
   "outputs": [],
   "source": [
    "def insert_or_update(collection, document, query_keys):\n",
    "    # Create shallow copy of document, with specified keys, for query\n",
    "    query_doc = {}\n",
    "    for key in query_keys:\n",
    "        query_doc[key] = document[key]\n",
    "    \n",
    "    # Create shallow copy of document for updating\n",
    "    # update_doc = dict(document)\n",
    "    # update_doc[\"updated_at\"] = datetime.utcnow()\n",
    "    \n",
    "    # Try to update\n",
    "    result = collection.update_one(query_doc, {\n",
    "        \"$set\": document\n",
    "    })\n",
    "    if result.matched_count > 0:\n",
    "        logging.info(\"updated: %s\", query_doc)\n",
    "        return\n",
    "    \n",
    "    # If update was unsuccessful, insert document\n",
    "    # document[\"created_at\"] = datetime.utcnow()\n",
    "    # document[\"updated_at\"] = None\n",
    "    if \"processed\" not in document:\n",
    "        document[\"processed\"] = False\n",
    "\n",
    "    result = collection.insert_one(document)\n",
    "    logging.info(\"insert: %s\", query_doc)"
   ]
  },
  {
   "cell_type": "markdown",
   "metadata": {},
   "source": [
    "## Output"
   ]
  },
  {
   "cell_type": "code",
   "execution_count": 5,
   "metadata": {},
   "outputs": [],
   "source": [
    "def get_output_parent(driver):\n",
    "    # Get tables\n",
    "    tables = driver.find_elements_by_tag_name(\"table\")\n",
    "    \n",
    "    # Check if it has enough tables\n",
    "    if len(tables) < 3:\n",
    "        raise Exception(\"not enough tables, driver may be in a 404 or 503 error page, aborting.\")\n",
    "    if len(tables) < 7:\n",
    "        logging.info(\"no containers found\")\n",
    "        return None\n",
    "    \n",
    "    return tables"
   ]
  },
  {
   "cell_type": "code",
   "execution_count": 6,
   "metadata": {},
   "outputs": [],
   "source": [
    "def execute_multiple_output(driver, knowledge, parent):\n",
    "    # Get rows\n",
    "    detail_rows = parent[2].find_elements_by_css_selector(\"tr:not(:first-child)\")\n",
    "    container_rows = parent[3].find_elements_by_css_selector(\"tr:not(:first-child)\")\n",
    "    logging.info(\"%d containers found\", len(container_rows))\n",
    "    \n",
    "    # Iterate through rows\n",
    "    for index, row in enumerate(container_rows):\n",
    "        container = {}\n",
    "        \n",
    "        # Get cells\n",
    "        cells = row.find_elements_by_tag_name(\"td\")\n",
    "\n",
    "        # Get container number\n",
    "        container[\"container\"] = cells[0].text.strip()\n",
    "        \n",
    "        # Get container size\n",
    "        try:\n",
    "            container[\"sunat_size\"] = cells[1].text.strip()\n",
    "        except IndexError:\n",
    "            container[\"sunat_size\"] = None\n",
    "            logging.info(\"container size not found\")\n",
    "        \n",
    "        # Get container tara\n",
    "        try:\n",
    "            text = cells[5].text.strip()\n",
    "            container[\"sunat_tara\"] = float(text.replace(\",\", \"\"))\n",
    "        except IndexError:\n",
    "            container[\"sunat_tara\"] = None\n",
    "            logging.info(\"container tara not found\")\n",
    "        except ValueError:\n",
    "            container[\"sunat_tara\"] = None\n",
    "            logging.info(\"container tara could not be read\")\n",
    "        \n",
    "        try:\n",
    "            detail_cells = detail_rows[index].find_elements_by_tag_name(\"td\")\n",
    "            \n",
    "            # Get detail package count\n",
    "            try:\n",
    "                text = detail_cells[0].text.strip()\n",
    "                container[\"sunat_package_count\"] = int(text.replace(\",\", \"\"))\n",
    "            except IndexError:\n",
    "                container[\"sunat_package_count\"] = None\n",
    "                logging.info(\"package count not found\")\n",
    "            except ValueError:\n",
    "                container[\"sunat_package_count\"] = None\n",
    "                logging.info(\"package count could not be processed\")\n",
    "            \n",
    "            # Get detail weight\n",
    "            try:\n",
    "                text = detail_cells[1].text.strip()\n",
    "                container[\"sunat_weight\"] = float(text.replace(\",\", \"\"))\n",
    "            except IndexError:\n",
    "                container[\"sunat_weight\"] = None\n",
    "                logging.info(\"weight not found\")\n",
    "            except ValueError:\n",
    "                container[\"sunat_weight\"] = None\n",
    "                logging.info(\"weight could not be processed\")\n",
    "        \n",
    "        except IndexError:\n",
    "            logging.info(\"detail row not found\")\n",
    "            \n",
    "        # Check if container has carrier assigned\n",
    "        result = container_prefixes.find_one({\n",
    "            \"prefix\": container[\"container\"][:4].upper()\n",
    "        })\n",
    "        if result is not None:\n",
    "            # logging.warning(\"carrier found! Use this as quick as you can.\")\n",
    "            container[\"carrier\"] = result[\"carrier\"]\n",
    "        else:\n",
    "            # logging.info(\"carrier not found\")\n",
    "            container[\"carrier\"] = None\n",
    "        \n",
    "        # Save container\n",
    "        insert_or_update(container_table, container, [\"container\"])"
   ]
  },
  {
   "cell_type": "code",
   "execution_count": 7,
   "metadata": {},
   "outputs": [],
   "source": [
    "def update_single(driver, knowledge):\n",
    "    knowledge[\"processed\"] = True\n",
    "    insert_or_update(knowledge_table, knowledge, [\"year\", \"manifest\", \"detail\"])\n",
    "    time.sleep(5)"
   ]
  },
  {
   "cell_type": "markdown",
   "metadata": {},
   "source": [
    "## Iteration"
   ]
  },
  {
   "cell_type": "code",
   "execution_count": 8,
   "metadata": {},
   "outputs": [],
   "source": [
    "while True:\n",
    "    # Find knowledges\n",
    "    cursor = knowledge_table.find({\"processed\": False}).limit(1000)\n",
    "    knowledges = list(cursor)\n",
    "    if len(knowledges) <= 0:\n",
    "        break\n",
    "    # print(knowledges_count, \"knowledges left\")\n",
    "    \n",
    "    # Execute scraper\n",
    "    driver = webdriver.Chrome(executable_path = \"../../driver/chromedriver\")\n",
    "    for knowledge in knowledges:\n",
    "        try:\n",
    "            execute_input(driver, knowledge)\n",
    "            parent = get_output_parent(driver)\n",
    "            if parent is not None:\n",
    "                execute_multiple_output(driver, knowledge, parent)\n",
    "            update_single(driver, knowledge)\n",
    "        except Exception:\n",
    "            logging.exception(\"Exception occured\")\n",
    "            break\n",
    "    driver.close()\n",
    "    # Sleep 1 minute\n",
    "    time.sleep(60)"
   ]
  },
  {
   "cell_type": "code",
   "execution_count": 9,
   "metadata": {},
   "outputs": [],
   "source": [
    "try:\n",
    "    driver.close()\n",
    "except:\n",
    "    pass"
   ]
  },
  {
   "cell_type": "code",
   "execution_count": null,
   "metadata": {},
   "outputs": [],
   "source": []
  }
 ],
 "metadata": {
  "kernelspec": {
   "display_name": "Python 3",
   "language": "python",
   "name": "python3"
  },
  "language_info": {
   "codemirror_mode": {
    "name": "ipython",
    "version": 3
   },
   "file_extension": ".py",
   "mimetype": "text/x-python",
   "name": "python",
   "nbconvert_exporter": "python",
   "pygments_lexer": "ipython3",
   "version": "3.7.1"
  }
 },
 "nbformat": 4,
 "nbformat_minor": 2
}
