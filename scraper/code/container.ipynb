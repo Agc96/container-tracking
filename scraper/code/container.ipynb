{
 "cells": [
  {
   "cell_type": "code",
   "execution_count": 2,
   "metadata": {},
   "outputs": [],
   "source": [
    "from selenium import webdriver\n",
    "# from selenium.webdriver.common.keys import Keys\n",
    "# from selenium.webdriver.common.by import By\n",
    "\n",
    "import re\n",
    "import json\n",
    "\n",
    "import selenium.common.exceptions"
   ]
  },
  {
   "cell_type": "code",
   "execution_count": 1,
   "metadata": {},
   "outputs": [
    {
     "ename": "NameError",
     "evalue": "name 'self' is not defined",
     "output_type": "error",
     "traceback": [
      "\u001b[0;31m---------------------------------------------------------------------------\u001b[0m",
      "\u001b[0;31mNameError\u001b[0m                                 Traceback (most recent call last)",
      "\u001b[0;32m<ipython-input-1-3f83a2477789>\u001b[0m in \u001b[0;36m<module>\u001b[0;34m()\u001b[0m\n\u001b[0;32m----> 1\u001b[0;31m \u001b[0;32mclass\u001b[0m \u001b[0mContainerScraper\u001b[0m\u001b[0;34m:\u001b[0m\u001b[0;34m\u001b[0m\u001b[0m\n\u001b[0m\u001b[1;32m      2\u001b[0m \u001b[0;34m\u001b[0m\u001b[0m\n\u001b[1;32m      3\u001b[0m     \u001b[0;32mdef\u001b[0m \u001b[0m_selector_finder_by_id\u001b[0m \u001b[0;34m(\u001b[0m\u001b[0mself\u001b[0m\u001b[0;34m)\u001b[0m\u001b[0;34m:\u001b[0m\u001b[0;34m\u001b[0m\u001b[0m\n\u001b[1;32m      4\u001b[0m         \u001b[0;32mreturn\u001b[0m \u001b[0mself\u001b[0m\u001b[0;34m.\u001b[0m\u001b[0mdriver\u001b[0m\u001b[0;34m.\u001b[0m\u001b[0mfind_element_by_id\u001b[0m\u001b[0;34m\u001b[0m\u001b[0m\n\u001b[1;32m      5\u001b[0m \u001b[0;34m\u001b[0m\u001b[0m\n",
      "\u001b[0;32m<ipython-input-1-3f83a2477789>\u001b[0m in \u001b[0;36mContainerScraper\u001b[0;34m()\u001b[0m\n\u001b[1;32m      5\u001b[0m \u001b[0;34m\u001b[0m\u001b[0m\n\u001b[1;32m      6\u001b[0m     selector_finder = {\n\u001b[0;32m----> 7\u001b[0;31m         \u001b[0;34m\"id\"\u001b[0m    \u001b[0;34m:\u001b[0m \u001b[0mself\u001b[0m\u001b[0;34m.\u001b[0m\u001b[0mdriver\u001b[0m\u001b[0;34m.\u001b[0m\u001b[0mfind_elements_by_id\u001b[0m\u001b[0;34m,\u001b[0m\u001b[0;34m\u001b[0m\u001b[0m\n\u001b[0m\u001b[1;32m      8\u001b[0m         \u001b[0;34m\"class\"\u001b[0m \u001b[0;34m:\u001b[0m \u001b[0mself\u001b[0m\u001b[0;34m.\u001b[0m\u001b[0mdriver\u001b[0m\u001b[0;34m.\u001b[0m\u001b[0mfind_elements_by_class_name\u001b[0m\u001b[0;34m,\u001b[0m\u001b[0;34m\u001b[0m\u001b[0m\n\u001b[1;32m      9\u001b[0m         \u001b[0;34m\"css\"\u001b[0m   \u001b[0;34m:\u001b[0m \u001b[0mself\u001b[0m\u001b[0;34m.\u001b[0m\u001b[0mdriver\u001b[0m\u001b[0;34m.\u001b[0m\u001b[0mfind_elements_by_css_selector\u001b[0m\u001b[0;34m,\u001b[0m\u001b[0;34m\u001b[0m\u001b[0m\n",
      "\u001b[0;31mNameError\u001b[0m: name 'self' is not defined"
     ]
    }
   ],
   "source": [
    "class ContainerScraper:\n",
    "    \n",
    "    def _selector_finder_by_id (self):\n",
    "        return self.driver.find_element_by_id\n",
    "    \n",
    "    selector_finder = {\n",
    "        \"id\"    : self.driver.find_elements_by_id,\n",
    "        \"class\" : self.driver.find_elements_by_class_name,\n",
    "        \"css\"   : self.driver.find_elements_by_css_selector,\n",
    "        \"tag\"   : self.driver.find_elements_by_tag_name,\n",
    "        \"xpath\" : self.driver.find_elements_by_xpath\n",
    "    }\n",
    "    \n",
    "    def __init__(self, carrier, container):\n",
    "        self.driver = webdriver.Firefox()\n",
    "        self.config = json.dumps(carrier + \".json\")\n",
    "        self.container = container\n",
    "        self.tracking = {\n",
    "            \"general\": {\n",
    "                \"container_number\": container\n",
    "            },\n",
    "            \"container\": {\n",
    "                \"number\": container\n",
    "            },\n",
    "            \"last_route\": {},\n",
    "            \"movements\": []\n",
    "        }\n",
    "    \n",
    "    def go_to_page (self):\n",
    "        url = self.config[\"url\"].format(container = self.container)\n",
    "        self.driver.get(url)\n",
    "\n",
    "    def save_general_info (self):\n",
    "        general_info = self.config[\"output\"][\"general_info\"]\n",
    "        \n",
    "        # Obtener el tipo de búsqueda\n",
    "        selector_type = selector_types.get(general_info[\"type\"])\n",
    "        if (selector_type is None):\n",
    "            return False\n",
    "        \n",
    "        # Obtener la lista de elementos\n",
    "        elements = self.driver.find_elements(selector_types[general_info[\"type\"]], general_info[\"selector\"])\n",
    "        \n",
    "        # Guardar cada atributo definido según la información del elemento\n",
    "        for attribute, index in general_info[\"attributes\"].items():\n",
    "            try:\n",
    "                tracking[attribute] = elements[index].text\n",
    "            except IndexError:\n",
    "                return False\n",
    "        return True\n",
    "    \n",
    "    \"\"\"\n",
    "    Private function that saves an attribute to the tracking dictionary from elements[index].\n",
    "    Returns True if the attribute found and the attribute is required, True otherwise\n",
    "    \"\"\"\n",
    "    def _save_general_attribute (self, attribute, elements, index = 0, required = True):\n",
    "        try:\n",
    "            self.tracking[\"general\"][attribute] = elements[index].text\n",
    "            return True\n",
    "        except IndexError:\n",
    "            return required"
   ]
  },
  {
   "cell_type": "code",
   "execution_count": 5,
   "metadata": {},
   "outputs": [],
   "source": [
    "class ContainerScraper:\n",
    "    \n",
    "    selector_types = {\n",
    "        \"id\"    : By.ID,\n",
    "        \"class\" : By.CLASS_NAME,\n",
    "        \"css\"   : By.CSS_SELECTOR,\n",
    "        \"tag\"   : By.TAG_NAME,\n",
    "        \"xpath\" : By.XPATH\n",
    "    }\n",
    "    \n",
    "    def __init__(self, driver, container):\n",
    "        self.driver = driver\n",
    "        self.info = {\n",
    "            \"general\": {\n",
    "                \"container_number\": container\n",
    "            },\n",
    "            \"movements\": []\n",
    "        }\n",
    "    \n",
    "    \"\"\"\n",
    "    Obtiene la lista de elementos DOM HTML en base a un selector y a un tipo de selector (CSS, ID, clase, etc.)\n",
    "    \"\"\"\n",
    "    def __find_elements(self, key, selector):\n",
    "        try:\n",
    "            return self.driver.find_elements(selector_types[key], selector)\n",
    "        except KeyError:\n",
    "            return None\n",
    "    \n",
    "    \"\"\"\n",
    "    Obtiene el texto de un elemento DOM HTML en un índice específico.\n",
    "    \"\"\"\n",
    "    def __get_element_text(self, elements, index = 0): #, required = True\n",
    "        try:\n",
    "            return elements[index].text\n",
    "        except IndexError:\n",
    "            return None"
   ]
  },
  {
   "cell_type": "code",
   "execution_count": null,
   "metadata": {},
   "outputs": [],
   "source": [
    "class ScraperActionSwitcher:\n",
    "    "
   ]
  }
 ],
 "metadata": {
  "kernelspec": {
   "display_name": "Python 3",
   "language": "python",
   "name": "python3"
  },
  "language_info": {
   "codemirror_mode": {
    "name": "ipython",
    "version": 3
   },
   "file_extension": ".py",
   "mimetype": "text/x-python",
   "name": "python",
   "nbconvert_exporter": "python",
   "pygments_lexer": "ipython3",
   "version": "3.5.3"
  }
 },
 "nbformat": 4,
 "nbformat_minor": 2
}
