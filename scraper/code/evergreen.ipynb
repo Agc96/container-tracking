{
 "cells": [
  {
   "cell_type": "code",
   "execution_count": 40,
   "metadata": {},
   "outputs": [],
   "source": [
    "from selenium import webdriver\n",
    "from selenium.webdriver.common.keys import Keys\n",
    "from selenium.webdriver.common.by import By\n",
    "\n",
    "import re\n",
    "import json"
   ]
  },
  {
   "cell_type": "code",
   "execution_count": 41,
   "metadata": {},
   "outputs": [],
   "source": [
    "container = \"TEMU6276603\"\n",
    "tracking = {\n",
    "    \"general\": {\n",
    "        \"container_number\": container\n",
    "    },\n",
    "    \"movements\": []\n",
    "}\n",
    "url = \"https://www.shipmentlink.com/servlet/TDB1_CargoTracking.do\""
   ]
  },
  {
   "cell_type": "code",
   "execution_count": 42,
   "metadata": {},
   "outputs": [],
   "source": [
    "driver = webdriver.Firefox()\n",
    "driver.get(url)"
   ]
  },
  {
   "cell_type": "code",
   "execution_count": 44,
   "metadata": {},
   "outputs": [
    {
     "name": "stdout",
     "output_type": "stream",
     "text": [
      "clicked\n"
     ]
    }
   ],
   "source": [
    "# If necessary, click button from language popup\n",
    "\n",
    "popup = driver.find_elements(By.ID, \"shipmentlink_lang_layer\")\n",
    "popup_style = popup[0].value_of_css_property(\"display\")\n",
    "\n",
    "if popup_style != 'none':\n",
    "    popup_buttons = popup[0].find_elements(By.TAG_NAME, \"button\")\n",
    "    try:\n",
    "        # print(\"about to click\")\n",
    "        popup_buttons[1].click()\n",
    "        print(\"clicked\")\n",
    "        # return True\n",
    "    except IndexError:\n",
    "        # return False\n",
    "        pass"
   ]
  },
  {
   "cell_type": "code",
   "execution_count": 45,
   "metadata": {},
   "outputs": [],
   "source": [
    "# Select \"search by container\"\n",
    "\n",
    "container_checkbox = driver.find_elements(By.CSS_SELECTOR, \"[name=SEL][value=s_cntr]\")\n",
    "container_checkbox[0].click()"
   ]
  },
  {
   "cell_type": "code",
   "execution_count": 46,
   "metadata": {},
   "outputs": [],
   "source": [
    "# Enter container code\n",
    "\n",
    "container_input = driver.find_elements(By.ID, \"NO\")\n",
    "container_input[0].send_keys(\"TEMU6276603\")"
   ]
  },
  {
   "cell_type": "code",
   "execution_count": null,
   "metadata": {},
   "outputs": [],
   "source": [
    "# TODO: Process captcha\n",
    "# captcha_input = driver.find_elements(By.ID, \"captcha_input\")"
   ]
  },
  {
   "cell_type": "code",
   "execution_count": 47,
   "metadata": {},
   "outputs": [],
   "source": [
    "# Press button to submit form\n",
    "\n",
    "button = driver.find_elements(By.CSS_SELECTOR, \".f12rown3 input[type=button]\")\n",
    "try:\n",
    "    button[1].click()\n",
    "except IndexError:\n",
    "    print(\"button not found\")"
   ]
  },
  {
   "cell_type": "code",
   "execution_count": 52,
   "metadata": {},
   "outputs": [],
   "source": [
    "# Estimated arrival date\n",
    "elements = driver.find_elements(By.CLASS_NAME, \"f13tabb2\")\n",
    "text_group = elements[1].text.split('\\n')\n",
    "\n",
    "try:\n",
    "    tracking[\"general\"][\"estimated_arrival_date\"] = text_group[1]\n",
    "except IndexError:\n",
    "    print(\"estimated arrival date not found\")"
   ]
  },
  {
   "cell_type": "code",
   "execution_count": 63,
   "metadata": {
    "scrolled": false
   },
   "outputs": [],
   "source": [
    "# Vessel voyage on B/L\n",
    "elements = driver.find_elements(By.CSS_SELECTOR, \"td.f12wrdb2\")\n",
    "try:\n",
    "    regex = re.match(r\"(.*?) *\\(.*?\\)\", elements[1].text)\n",
    "    if regex:\n",
    "        tracking[\"general\"][\"vessel_voyage\"] = regex.group(1)\n",
    "    else:\n",
    "        print(\"vessel voyage regex failed\")\n",
    "except IndexError:\n",
    "    print(\"vessel voyage not found\")"
   ]
  },
  {
   "cell_type": "code",
   "execution_count": 66,
   "metadata": {},
   "outputs": [],
   "source": [
    "elements = driver.find_elements(By.CLASS_NAME, \"f12rown1\")\n",
    "\n",
    "# Container type\n",
    "tracking[\"general\"][\"container_type\"] = elements[2].text\n",
    "\n",
    "# Container tara\n",
    "tracking[\"general\"][\"container_tara\"] = elements[8].text"
   ]
  },
  {
   "cell_type": "code",
   "execution_count": 69,
   "metadata": {},
   "outputs": [],
   "source": [
    "# Movement information\n",
    "elements = driver.find_elements(By.CLASS_NAME, \"f12rown1\")\n",
    "tracking[\"movements\"] = []\n",
    "movement = {}\n",
    "\n",
    "# Movement date\n",
    "movement[\"date\"] = elements[3].text\n",
    "\n",
    "# Movement status\n",
    "movement[\"status\"] = elements[4].text\n",
    "\n",
    "# Movement location\n",
    "movement[\"location\"] = elements[5].text\n",
    "\n",
    "# Movement vessel voyage\n",
    "regex = re.match(r\"(.*) (.*?)$\", elements[6].text)\n",
    "movement[\"transport_ship\"] = regex.group(1)\n",
    "movement[\"transport_voyage\"] = regex.group(2)\n",
    "\n",
    "tracking[\"movements\"].append(movement)"
   ]
  },
  {
   "cell_type": "code",
   "execution_count": 70,
   "metadata": {},
   "outputs": [
    {
     "data": {
      "text/plain": [
       "{'general': {'container_number': 'TEMU6276603',\n",
       "  'container_tara': '6273 KGS',\n",
       "  'container_type': \"40'(SH)\",\n",
       "  'estimated_arrival_date': 'MAR-10-2019',\n",
       "  'vessel_voyage': 'JIANG HANG 982 190222'},\n",
       " 'movements': [{'date': 'MAR-04-2019',\n",
       "   'location': 'SHEKOU, CHINA (CN)',\n",
       "   'status': 'Transship container loaded on vessel',\n",
       "   'transport_ship': 'EVER BEAMY',\n",
       "   'transport_voyage': '0815-007B'}]}"
      ]
     },
     "execution_count": 70,
     "metadata": {},
     "output_type": "execute_result"
    }
   ],
   "source": [
    "tracking"
   ]
  },
  {
   "cell_type": "code",
   "execution_count": 71,
   "metadata": {},
   "outputs": [],
   "source": [
    "driver.close()"
   ]
  },
  {
   "cell_type": "code",
   "execution_count": 73,
   "metadata": {},
   "outputs": [],
   "source": [
    "import json\n",
    "with open('evergreen/' + container + '.json', 'w') as file:\n",
    "    json.dump(tracking, file)"
   ]
  },
  {
   "cell_type": "code",
   "execution_count": null,
   "metadata": {},
   "outputs": [],
   "source": []
  }
 ],
 "metadata": {
  "kernelspec": {
   "display_name": "Python 3",
   "language": "python",
   "name": "python3"
  },
  "language_info": {
   "codemirror_mode": {
    "name": "ipython",
    "version": 3
   },
   "file_extension": ".py",
   "mimetype": "text/x-python",
   "name": "python",
   "nbconvert_exporter": "python",
   "pygments_lexer": "ipython3",
   "version": "3.5.3"
  }
 },
 "nbformat": 4,
 "nbformat_minor": 2
}
