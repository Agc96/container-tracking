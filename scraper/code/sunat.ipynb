{
 "cells": [
  {
   "cell_type": "code",
   "execution_count": 21,
   "metadata": {},
   "outputs": [],
   "source": [
    "from selenium import webdriver\n",
    "from selenium.webdriver.common.keys import Keys\n",
    "\n",
    "from datetime import datetime, timedelta"
   ]
  },
  {
   "cell_type": "code",
   "execution_count": 4,
   "metadata": {},
   "outputs": [],
   "source": [
    "# TODO: Cambiar webdriver a Chrome\n",
    "\n",
    "driver = webdriver.Firefox(executable_path = \"../driver/geckodriver\")\n",
    "driver.get(\"http://www.aduanet.gob.pe/aduanas/informao/HRMCFLlega.htm\")"
   ]
  },
  {
   "cell_type": "markdown",
   "metadata": {},
   "source": [
    "# Find manifests\n",
    "\n",
    "## Input"
   ]
  },
  {
   "cell_type": "code",
   "execution_count": 43,
   "metadata": {},
   "outputs": [],
   "source": [
    "date_input = driver.find_elements_by_name(\"CMc2_Fecha1\")[0]"
   ]
  },
  {
   "cell_type": "code",
   "execution_count": 44,
   "metadata": {},
   "outputs": [],
   "source": [
    "last_month = datetime.strftime(datetime.today() - timedelta(25), \"%d/%m/%Y\")"
   ]
  },
  {
   "cell_type": "code",
   "execution_count": 45,
   "metadata": {},
   "outputs": [],
   "source": [
    "date_input.clear()\n",
    "date_input.send_keys(last_month)"
   ]
  },
  {
   "cell_type": "code",
   "execution_count": 46,
   "metadata": {},
   "outputs": [],
   "source": [
    "button = driver.find_elements_by_css_selector(\"input[type=button]\")[0]"
   ]
  },
  {
   "cell_type": "code",
   "execution_count": 47,
   "metadata": {},
   "outputs": [],
   "source": [
    "button.click()"
   ]
  },
  {
   "cell_type": "markdown",
   "metadata": {},
   "source": [
    "## Output"
   ]
  },
  {
   "cell_type": "code",
   "execution_count": 48,
   "metadata": {},
   "outputs": [],
   "source": [
    "table = driver.find_elements_by_tag_name(\"table\")[3]"
   ]
  },
  {
   "cell_type": "code",
   "execution_count": 49,
   "metadata": {},
   "outputs": [],
   "source": [
    "table_manifests = table.find_elements_by_css_selector(\"tr:not(:first-child) a\")"
   ]
  },
  {
   "cell_type": "code",
   "execution_count": 51,
   "metadata": {},
   "outputs": [],
   "source": [
    "manifests = []\n",
    "for table_manifest in table_manifests:\n",
    "    split = table_manifest.text.split(\" - \")\n",
    "    manifests.append({\n",
    "        \"year\": \"20\" + split[0],\n",
    "        \"manifest\": split[1]\n",
    "    })"
   ]
  },
  {
   "cell_type": "code",
   "execution_count": 52,
   "metadata": {},
   "outputs": [
    {
     "data": {
      "text/plain": [
       "[{'year': '2019', 'manifest': '283'},\n",
       " {'year': '2019', 'manifest': '315'},\n",
       " {'year': '2019', 'manifest': '310'},\n",
       " {'year': '2019', 'manifest': '392'},\n",
       " {'year': '2019', 'manifest': '377'},\n",
       " {'year': '2019', 'manifest': '124'},\n",
       " {'year': '2019', 'manifest': '371'},\n",
       " {'year': '2019', 'manifest': '372'},\n",
       " {'year': '2019', 'manifest': '361'},\n",
       " {'year': '2019', 'manifest': '460'},\n",
       " {'year': '2019', 'manifest': '368'},\n",
       " {'year': '2019', 'manifest': '398'},\n",
       " {'year': '2019', 'manifest': '415'},\n",
       " {'year': '2019', 'manifest': '386'},\n",
       " {'year': '2019', 'manifest': '347'},\n",
       " {'year': '2019', 'manifest': '417'},\n",
       " {'year': '2019', 'manifest': '406'},\n",
       " {'year': '2019', 'manifest': '407'},\n",
       " {'year': '2019', 'manifest': '356'},\n",
       " {'year': '2019', 'manifest': '419'},\n",
       " {'year': '2019', 'manifest': '443'},\n",
       " {'year': '2019', 'manifest': '434'},\n",
       " {'year': '2019', 'manifest': '378'},\n",
       " {'year': '2019', 'manifest': '346'},\n",
       " {'year': '2019', 'manifest': '422'},\n",
       " {'year': '2019', 'manifest': '192'},\n",
       " {'year': '2019', 'manifest': '240'},\n",
       " {'year': '2019', 'manifest': '373'},\n",
       " {'year': '2019', 'manifest': '360'},\n",
       " {'year': '2019', 'manifest': '292'},\n",
       " {'year': '2019', 'manifest': '384'},\n",
       " {'year': '2019', 'manifest': '451'},\n",
       " {'year': '2019', 'manifest': '354'},\n",
       " {'year': '2019', 'manifest': '404'},\n",
       " {'year': '2019', 'manifest': '488'},\n",
       " {'year': '2019', 'manifest': '448'},\n",
       " {'year': '2019', 'manifest': '410'},\n",
       " {'year': '2019', 'manifest': '46'},\n",
       " {'year': '2019', 'manifest': '383'},\n",
       " {'year': '2019', 'manifest': '436'},\n",
       " {'year': '2019', 'manifest': '465'},\n",
       " {'year': '2019', 'manifest': '494'},\n",
       " {'year': '2019', 'manifest': '439'},\n",
       " {'year': '2019', 'manifest': '450'},\n",
       " {'year': '2019', 'manifest': '453'},\n",
       " {'year': '2019', 'manifest': '467'},\n",
       " {'year': '2019', 'manifest': '456'},\n",
       " {'year': '2019', 'manifest': '462'},\n",
       " {'year': '2019', 'manifest': '400'},\n",
       " {'year': '2019', 'manifest': '449'},\n",
       " {'year': '2019', 'manifest': '458'},\n",
       " {'year': '2019', 'manifest': '445'},\n",
       " {'year': '2019', 'manifest': '305'},\n",
       " {'year': '2019', 'manifest': '505'},\n",
       " {'year': '2019', 'manifest': '473'},\n",
       " {'year': '2019', 'manifest': '420'},\n",
       " {'year': '2019', 'manifest': '396'},\n",
       " {'year': '2019', 'manifest': '492'},\n",
       " {'year': '2019', 'manifest': '463'},\n",
       " {'year': '2019', 'manifest': '464'},\n",
       " {'year': '2019', 'manifest': '306'},\n",
       " {'year': '2019', 'manifest': '498'},\n",
       " {'year': '2019', 'manifest': '440'},\n",
       " {'year': '2019', 'manifest': '408'},\n",
       " {'year': '2019', 'manifest': '461'},\n",
       " {'year': '2019', 'manifest': '529'},\n",
       " {'year': '2019', 'manifest': '500'},\n",
       " {'year': '2019', 'manifest': '431'},\n",
       " {'year': '2019', 'manifest': '424'},\n",
       " {'year': '2019', 'manifest': '432'},\n",
       " {'year': '2019', 'manifest': '482'},\n",
       " {'year': '2019', 'manifest': '466'},\n",
       " {'year': '2019', 'manifest': '514'},\n",
       " {'year': '2019', 'manifest': '457'},\n",
       " {'year': '2019', 'manifest': '411'},\n",
       " {'year': '2019', 'manifest': '446'},\n",
       " {'year': '2019', 'manifest': '438'},\n",
       " {'year': '2019', 'manifest': '442'},\n",
       " {'year': '2019', 'manifest': '452'},\n",
       " {'year': '2019', 'manifest': '508'},\n",
       " {'year': '2019', 'manifest': '454'},\n",
       " {'year': '2019', 'manifest': '478'},\n",
       " {'year': '2019', 'manifest': '405'},\n",
       " {'year': '2019', 'manifest': '512'},\n",
       " {'year': '2019', 'manifest': '427'},\n",
       " {'year': '2019', 'manifest': '516'},\n",
       " {'year': '2019', 'manifest': '530'},\n",
       " {'year': '2019', 'manifest': '381'},\n",
       " {'year': '2019', 'manifest': '469'},\n",
       " {'year': '2019', 'manifest': '353'},\n",
       " {'year': '2019', 'manifest': '437'},\n",
       " {'year': '2019', 'manifest': '369'},\n",
       " {'year': '2019', 'manifest': '485'},\n",
       " {'year': '2019', 'manifest': '397'},\n",
       " {'year': '2019', 'manifest': '418'},\n",
       " {'year': '2019', 'manifest': '433'},\n",
       " {'year': '2019', 'manifest': '481'},\n",
       " {'year': '2019', 'manifest': '525'},\n",
       " {'year': '2019', 'manifest': '470'},\n",
       " {'year': '2019', 'manifest': '455'},\n",
       " {'year': '2019', 'manifest': '435'},\n",
       " {'year': '2019', 'manifest': '493'},\n",
       " {'year': '2019', 'manifest': '413'},\n",
       " {'year': '2019', 'manifest': '367'},\n",
       " {'year': '2019', 'manifest': '504'},\n",
       " {'year': '2019', 'manifest': '541'},\n",
       " {'year': '2019', 'manifest': '476'},\n",
       " {'year': '2019', 'manifest': '486'},\n",
       " {'year': '2019', 'manifest': '517'},\n",
       " {'year': '2019', 'manifest': '563'},\n",
       " {'year': '2019', 'manifest': '510'},\n",
       " {'year': '2019', 'manifest': '511'},\n",
       " {'year': '2019', 'manifest': '509'},\n",
       " {'year': '2019', 'manifest': '483'},\n",
       " {'year': '2019', 'manifest': '497'},\n",
       " {'year': '2019', 'manifest': '523'},\n",
       " {'year': '2019', 'manifest': '532'},\n",
       " {'year': '2019', 'manifest': '487'},\n",
       " {'year': '2019', 'manifest': '395'},\n",
       " {'year': '2019', 'manifest': '562'},\n",
       " {'year': '2019', 'manifest': '503'},\n",
       " {'year': '2019', 'manifest': '537'},\n",
       " {'year': '2019', 'manifest': '519'},\n",
       " {'year': '2019', 'manifest': '409'},\n",
       " {'year': '2019', 'manifest': '552'},\n",
       " {'year': '2019', 'manifest': '535'},\n",
       " {'year': '2019', 'manifest': '565'},\n",
       " {'year': '2019', 'manifest': '484'},\n",
       " {'year': '2019', 'manifest': '540'},\n",
       " {'year': '2019', 'manifest': '506'},\n",
       " {'year': '2019', 'manifest': '521'},\n",
       " {'year': '2019', 'manifest': '526'},\n",
       " {'year': '2019', 'manifest': '499'},\n",
       " {'year': '2019', 'manifest': '554'},\n",
       " {'year': '2019', 'manifest': '536'},\n",
       " {'year': '2019', 'manifest': '471'},\n",
       " {'year': '2019', 'manifest': '539'},\n",
       " {'year': '2019', 'manifest': '558'},\n",
       " {'year': '2019', 'manifest': '349'},\n",
       " {'year': '2019', 'manifest': '416'},\n",
       " {'year': '2019', 'manifest': '507'},\n",
       " {'year': '2019', 'manifest': '480'},\n",
       " {'year': '2019', 'manifest': '566'},\n",
       " {'year': '2019', 'manifest': '441'},\n",
       " {'year': '2019', 'manifest': '502'},\n",
       " {'year': '2019', 'manifest': '495'},\n",
       " {'year': '2019', 'manifest': '426'},\n",
       " {'year': '2019', 'manifest': '545'},\n",
       " {'year': '2019', 'manifest': '546'},\n",
       " {'year': '2019', 'manifest': '490'},\n",
       " {'year': '2019', 'manifest': '491'},\n",
       " {'year': '2019', 'manifest': '527'},\n",
       " {'year': '2019', 'manifest': '602'},\n",
       " {'year': '2019', 'manifest': '598'},\n",
       " {'year': '2019', 'manifest': '538'},\n",
       " {'year': '2019', 'manifest': '412'},\n",
       " {'year': '2019', 'manifest': '579'},\n",
       " {'year': '2019', 'manifest': '533'},\n",
       " {'year': '2019', 'manifest': '531'},\n",
       " {'year': '2019', 'manifest': '528'},\n",
       " {'year': '2019', 'manifest': '542'},\n",
       " {'year': '2019', 'manifest': '414'},\n",
       " {'year': '2019', 'manifest': '472'},\n",
       " {'year': '2019', 'manifest': '568'},\n",
       " {'year': '2019', 'manifest': '496'},\n",
       " {'year': '2019', 'manifest': '520'},\n",
       " {'year': '2019', 'manifest': '564'},\n",
       " {'year': '2019', 'manifest': '597'},\n",
       " {'year': '2019', 'manifest': '551'},\n",
       " {'year': '2019', 'manifest': '543'},\n",
       " {'year': '2019', 'manifest': '548'},\n",
       " {'year': '2019', 'manifest': '576'},\n",
       " {'year': '2019', 'manifest': '596'},\n",
       " {'year': '2019', 'manifest': '590'},\n",
       " {'year': '2019', 'manifest': '553'},\n",
       " {'year': '2019', 'manifest': '567'},\n",
       " {'year': '2019', 'manifest': '588'},\n",
       " {'year': '2019', 'manifest': '544'},\n",
       " {'year': '2019', 'manifest': '574'},\n",
       " {'year': '2019', 'manifest': '595'},\n",
       " {'year': '2019', 'manifest': '601'},\n",
       " {'year': '2019', 'manifest': '575'},\n",
       " {'year': '2019', 'manifest': '550'},\n",
       " {'year': '2019', 'manifest': '477'},\n",
       " {'year': '2019', 'manifest': '524'},\n",
       " {'year': '2019', 'manifest': '569'},\n",
       " {'year': '2019', 'manifest': '589'},\n",
       " {'year': '2019', 'manifest': '570'},\n",
       " {'year': '2019', 'manifest': '549'},\n",
       " {'year': '2019', 'manifest': '659'},\n",
       " {'year': '2019', 'manifest': '444'},\n",
       " {'year': '2019', 'manifest': '556'},\n",
       " {'year': '2019', 'manifest': '423'},\n",
       " {'year': '2019', 'manifest': '593'},\n",
       " {'year': '2019', 'manifest': '603'},\n",
       " {'year': '2019', 'manifest': '630'},\n",
       " {'year': '2019', 'manifest': '652'},\n",
       " {'year': '2019', 'manifest': '577'},\n",
       " {'year': '2019', 'manifest': '609'},\n",
       " {'year': '2019', 'manifest': '626'},\n",
       " {'year': '2019', 'manifest': '620'},\n",
       " {'year': '2019', 'manifest': '655'},\n",
       " {'year': '2019', 'manifest': '670'},\n",
       " {'year': '2019', 'manifest': '611'},\n",
       " {'year': '2019', 'manifest': '591'},\n",
       " {'year': '2019', 'manifest': '653'},\n",
       " {'year': '2019', 'manifest': '627'},\n",
       " {'year': '2019', 'manifest': '617'},\n",
       " {'year': '2019', 'manifest': '656'},\n",
       " {'year': '2019', 'manifest': '618'},\n",
       " {'year': '2019', 'manifest': '559'},\n",
       " {'year': '2019', 'manifest': '640'},\n",
       " {'year': '2019', 'manifest': '641'},\n",
       " {'year': '2019', 'manifest': '610'},\n",
       " {'year': '2019', 'manifest': '48'},\n",
       " {'year': '2019', 'manifest': '380'},\n",
       " {'year': '2019', 'manifest': '669'},\n",
       " {'year': '2019', 'manifest': '613'},\n",
       " {'year': '2019', 'manifest': '459'},\n",
       " {'year': '2019', 'manifest': '644'},\n",
       " {'year': '2019', 'manifest': '614'},\n",
       " {'year': '2019', 'manifest': '616'},\n",
       " {'year': '2019', 'manifest': '674'},\n",
       " {'year': '2019', 'manifest': '619'},\n",
       " {'year': '2019', 'manifest': '649'},\n",
       " {'year': '2019', 'manifest': '604'},\n",
       " {'year': '2019', 'manifest': '628'},\n",
       " {'year': '2019', 'manifest': '621'},\n",
       " {'year': '2019', 'manifest': '515'},\n",
       " {'year': '2019', 'manifest': '573'},\n",
       " {'year': '2019', 'manifest': '671'},\n",
       " {'year': '2019', 'manifest': '629'},\n",
       " {'year': '2019', 'manifest': '647'},\n",
       " {'year': '2019', 'manifest': '623'},\n",
       " {'year': '2019', 'manifest': '661'},\n",
       " {'year': '2019', 'manifest': '678'},\n",
       " {'year': '2019', 'manifest': '664'},\n",
       " {'year': '2019', 'manifest': '475'},\n",
       " {'year': '2019', 'manifest': '425'},\n",
       " {'year': '2019', 'manifest': '654'},\n",
       " {'year': '2019', 'manifest': '587'}]"
      ]
     },
     "execution_count": 52,
     "metadata": {},
     "output_type": "execute_result"
    }
   ],
   "source": [
    "manifests"
   ]
  },
  {
   "cell_type": "code",
   "execution_count": 54,
   "metadata": {},
   "outputs": [],
   "source": [
    "import json\n",
    "with open(\"../db/manifests.json\", \"w\") as file:\n",
    "    json.dump(manifests, file)"
   ]
  },
  {
   "cell_type": "markdown",
   "metadata": {},
   "source": [
    "# Find containers\n",
    "\n",
    "## Input"
   ]
  },
  {
   "cell_type": "code",
   "execution_count": null,
   "metadata": {},
   "outputs": [],
   "source": [
    "# driver.get(http://www.aduanet.gob.pe/cl-ad-itconsmanifiesto/manifiestoITS01Alias?accion=cargarFrmConsultaManifiesto&tipo=M)"
   ]
  },
  {
   "cell_type": "code",
   "execution_count": 56,
   "metadata": {},
   "outputs": [
    {
     "name": "stdout",
     "output_type": "stream",
     "text": [
      "{'year': '2019', 'manifest': '283'}\n"
     ]
    }
   ],
   "source": [
    "manifest = manifests[0]\n",
    "print(manifest)"
   ]
  },
  {
   "cell_type": "code",
   "execution_count": 55,
   "metadata": {},
   "outputs": [],
   "source": [
    "year_input = driver.find_elements_by_name(\"CMc1_Anno\")[0]\n",
    "manifest_input = driver.find_elements_by_name(\"CMc1_Numero\")[0]"
   ]
  },
  {
   "cell_type": "code",
   "execution_count": 57,
   "metadata": {},
   "outputs": [],
   "source": [
    "year_input.clear()\n",
    "year_input.send_keys(manifest[\"year\"])"
   ]
  },
  {
   "cell_type": "code",
   "execution_count": 58,
   "metadata": {},
   "outputs": [],
   "source": [
    "manifest_input.clear()\n",
    "manifest_input.send_keys(manifest[\"manifest\"])"
   ]
  },
  {
   "cell_type": "code",
   "execution_count": 59,
   "metadata": {},
   "outputs": [],
   "source": [
    "button = driver.find_elements_by_css_selector(\"input[type=button]\")[0]\n",
    "button.click()"
   ]
  },
  {
   "cell_type": "markdown",
   "metadata": {},
   "source": [
    "# End"
   ]
  },
  {
   "cell_type": "code",
   "execution_count": 60,
   "metadata": {},
   "outputs": [],
   "source": [
    "driver.close()"
   ]
  },
  {
   "cell_type": "markdown",
   "metadata": {},
   "source": [
    "Dentro de un contenedor\n",
    "- cada cliente llena cierto volumen que se coloca en un contenedor\n",
    "- un agente de carga origen envía a un destino => para aduanas se maneja con los manifiestos\n",
    "\n",
    "cuando la nave llega al puerto\n",
    "\n",
    "ABCDE\n",
    "AB: dos primeras iniciales del pais\n",
    "CDE: tres primeras iniciales del puerto\n",
    "\n",
    "DFSU2255679\n",
    "\n",
    "table[3]\n",
    "\n",
    "tr:not(:first-child)\n",
    "\n",
    "td[0]\n"
   ]
  },
  {
   "cell_type": "code",
   "execution_count": null,
   "metadata": {},
   "outputs": [],
   "source": []
  }
 ],
 "metadata": {
  "kernelspec": {
   "display_name": "Python 3",
   "language": "python",
   "name": "python3"
  },
  "language_info": {
   "codemirror_mode": {
    "name": "ipython",
    "version": 3
   },
   "file_extension": ".py",
   "mimetype": "text/x-python",
   "name": "python",
   "nbconvert_exporter": "python",
   "pygments_lexer": "ipython3",
   "version": "3.7.0"
  }
 },
 "nbformat": 4,
 "nbformat_minor": 2
}
