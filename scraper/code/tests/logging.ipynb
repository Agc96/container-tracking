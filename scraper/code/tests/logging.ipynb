{
 "cells": [
  {
   "cell_type": "code",
   "execution_count": 3,
   "metadata": {},
   "outputs": [],
   "source": [
    "import logging\n",
    "logging.basicConfig(filename = \"scraper.log\", level = logging.DEBUG,\n",
    "                    format = \"[%(levelname)s %(asctime)s] %(message)s\")"
   ]
  },
  {
   "cell_type": "code",
   "execution_count": 4,
   "metadata": {},
   "outputs": [
    {
     "name": "stderr",
     "output_type": "stream",
     "text": [
      "[DEBUG 2019-03-22 17:42:08,390] tracking_scraper: test debug message\n",
      "[INFO 2019-03-22 17:42:08,396] tracking_scraper: test info message\n",
      "[WARNING 2019-03-22 17:42:08,398] tracking_scraper: test warning message\n",
      "[ERROR 2019-03-22 17:42:08,400] tracking_scraper: test error message\n"
     ]
    }
   ],
   "source": [
    "handler = logging.FileHandler(\"test_logger.log\")\n",
    "handler.setLevel(logging.DEBUG)\n",
    "handler.setFormatter(logging.Formatter(\"[%(levelname)s %(asctime)s] %(name)s: %(message)s\"))\n",
    "\n",
    "logger = logging.getLogger(\"tracking_scraper\")\n",
    "logger.addHandler(handler)\n",
    "\n",
    "logger.debug(\"test debug message\")\n",
    "logger.info(\"test info message\")\n",
    "logger.warning(\"test warning message\")\n",
    "logger.error(\"test error message\")"
   ]
  },
  {
   "cell_type": "code",
   "execution_count": null,
   "metadata": {},
   "outputs": [],
   "source": [
    "logger.(\"insert: %s [%d]\", query_doc, result.inserted_id)"
   ]
  },
  {
   "cell_type": "code",
   "execution_count": 9,
   "metadata": {},
   "outputs": [
    {
     "name": "stderr",
     "output_type": "stream",
     "text": [
      "[DEBUG 2019-03-22 17:53:24,758] root: 5 found\n"
     ]
    }
   ],
   "source": [
    "logging.debug(\"%d found\", len([1,2,3,4,5]))"
   ]
  },
  {
   "cell_type": "code",
   "execution_count": null,
   "metadata": {},
   "outputs": [],
   "source": []
  }
 ],
 "metadata": {
  "kernelspec": {
   "display_name": "Python 3",
   "language": "python",
   "name": "python3"
  },
  "language_info": {
   "codemirror_mode": {
    "name": "ipython",
    "version": 3
   },
   "file_extension": ".py",
   "mimetype": "text/x-python",
   "name": "python",
   "nbconvert_exporter": "python",
   "pygments_lexer": "ipython3",
   "version": "3.5.3"
  }
 },
 "nbformat": 4,
 "nbformat_minor": 2
}
