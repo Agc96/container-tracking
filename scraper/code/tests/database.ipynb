{
 "cells": [
  {
   "cell_type": "code",
   "execution_count": 1,
   "metadata": {},
   "outputs": [],
   "source": [
    "from pymongo import MongoClient\n",
    "\n",
    "client = MongoClient()\n",
    "database = client[\"tracking_scraper\"]"
   ]
  },
  {
   "cell_type": "code",
   "execution_count": 2,
   "metadata": {},
   "outputs": [],
   "source": [
    "manifests_table  = database[\"manifests\"]\n",
    "knowledges_table = database[\"knowledges\"]\n",
    "containers_table = database[\"containers\"]\n",
    "prefixes_table   = database[\"container_prefixes\"]\n",
    "carriers_table   = database[\"carriers\"]"
   ]
  },
  {
   "cell_type": "code",
   "execution_count": 3,
   "metadata": {},
   "outputs": [],
   "source": [
    "def query_containers_all(carrier_name):\n",
    "    # Create query\n",
    "    query = make_container_query(carrier_name)\n",
    "    items = containers_table.find(query).sort(\"_id\", -1)\n",
    "    # Print each by each\n",
    "    iterate_containers_all(items)\n",
    "\n",
    "def iterate_containers_all(items):\n",
    "    for item in items:\n",
    "        show_container_info(item)\n",
    "        if input(\"Press Enter to continue, or type 'quit' to exit: \").lower() == \"quit\":\n",
    "            break\n",
    "\n",
    "def make_container_query(carrier_name):\n",
    "    return {\n",
    "        \"carrier\": carrier_name,\n",
    "        \"processed\": False\n",
    "    }"
   ]
  },
  {
   "cell_type": "code",
   "execution_count": 4,
   "metadata": {},
   "outputs": [],
   "source": [
    "def query_containers(carrier_name):\n",
    "    # Create query\n",
    "    query = make_container_query(carrier_name)\n",
    "    # Print first 5 items\n",
    "    iterate_containers(query, 1, 5)\n",
    "    # Print last 5 items\n",
    "    iterate_containers(query, -1, 5)\n",
    "\n",
    "def iterate_containers(query, order_by, limit_count):\n",
    "    items = containers_table.find(query).sort(\"_id\", order_by).limit(limit_count)\n",
    "    for item in items:\n",
    "        show_container_info(item)\n",
    "\n",
    "def show_container_info(item):\n",
    "    print(\"Container:\", item[\"container\"])\n",
    "    print(\"- Manifest + detail:\", item[\"year\"] + \"-\" + item[\"manifest\"], \"@\", item[\"detail\"])\n",
    "    print(\"- Created at:\", item[\"_id\"].generation_time.strftime(\"%d/%m/%Y %H:%M:%S\"))"
   ]
  },
  {
   "cell_type": "code",
   "execution_count": 5,
   "metadata": {},
   "outputs": [],
   "source": [
    "def count_containers(carrier_name):\n",
    "    query = make_container_query(carrier_name)\n",
    "    return containers_table.count_documents(query)\n",
    "\n",
    "def distinct_containers(carrier_name):\n",
    "    query = make_container_query(carrier_name)\n",
    "    items = containers_table.distinct(\"container\", query)\n",
    "    return len(items)\n",
    "\n",
    "def distinct_containers_all(carrier_name):\n",
    "    query = make_container_query(carrier_name)\n",
    "    items = containers_table.distinct(\"container\", query)\n",
    "    print(items)\n",
    "    # iterate_containers_all(items)"
   ]
  },
  {
   "cell_type": "markdown",
   "metadata": {},
   "source": [
    "## Textainer"
   ]
  },
  {
   "cell_type": "code",
   "execution_count": 15,
   "metadata": {},
   "outputs": [
    {
     "name": "stdout",
     "output_type": "stream",
     "text": [
      "Container: TGBU5402076\n",
      "- Manifest + detail: 2019-450 @ 23\n",
      "- Created at: 23/03/2019 05:01:14\n",
      "Container: TGBU6638019\n",
      "- Manifest + detail: 2019-450 @ 68\n",
      "- Created at: 23/03/2019 05:08:57\n",
      "Container: TGHU3270291\n",
      "- Manifest + detail: 2019-450 @ 75\n",
      "- Created at: 23/03/2019 05:10:10\n",
      "Container: TEMU3806660\n",
      "- Manifest + detail: 2019-450 @ 80\n",
      "- Created at: 23/03/2019 05:11:01\n",
      "Container: TGHU4876787\n",
      "- Manifest + detail: 2019-450 @ 94\n",
      "- Created at: 23/03/2019 05:13:26\n",
      "Container: TGHU9921153\n",
      "- Manifest + detail: 2019-613 @ C51\n",
      "- Created at: 31/03/2019 01:27:49\n",
      "Container: TEMU9032730\n",
      "- Manifest + detail: 2019-613 @ C61\n",
      "- Created at: 31/03/2019 01:26:05\n",
      "Container: TGHU9571883\n",
      "- Manifest + detail: 2019-613 @ C62\n",
      "- Created at: 31/03/2019 01:25:54\n",
      "Container: TGHU9759206\n",
      "- Manifest + detail: 2019-613 @ C63\n",
      "- Created at: 31/03/2019 01:25:44\n",
      "Container: TEMU9519440\n",
      "- Manifest + detail: 2019-613 @ C69\n",
      "- Created at: 31/03/2019 01:24:42\n"
     ]
    }
   ],
   "source": [
    "query_containers(\"Textainer\")\n",
    "# count_containers(\"Textainer\")"
   ]
  },
  {
   "cell_type": "code",
   "execution_count": 7,
   "metadata": {},
   "outputs": [
    {
     "data": {
      "text/plain": [
       "7255"
      ]
     },
     "execution_count": 7,
     "metadata": {},
     "output_type": "execute_result"
    }
   ],
   "source": [
    "distinct_containers(\"Textainer\")"
   ]
  },
  {
   "cell_type": "markdown",
   "metadata": {},
   "source": [
    "## Hapag-Lloyd"
   ]
  },
  {
   "cell_type": "code",
   "execution_count": 8,
   "metadata": {},
   "outputs": [
    {
     "data": {
      "text/plain": [
       "9987"
      ]
     },
     "execution_count": 8,
     "metadata": {},
     "output_type": "execute_result"
    }
   ],
   "source": [
    "# query_containers(\"Hapag-Lloyd\")\n",
    "count_containers(\"Hapag-Lloyd\")"
   ]
  },
  {
   "cell_type": "code",
   "execution_count": 9,
   "metadata": {},
   "outputs": [
    {
     "data": {
      "text/plain": [
       "9453"
      ]
     },
     "execution_count": 9,
     "metadata": {},
     "output_type": "execute_result"
    }
   ],
   "source": [
    "distinct_containers(\"Hapag-Lloyd\")"
   ]
  },
  {
   "cell_type": "markdown",
   "metadata": {},
   "source": [
    "## Evergreen"
   ]
  },
  {
   "cell_type": "code",
   "execution_count": 10,
   "metadata": {},
   "outputs": [
    {
     "data": {
      "text/plain": [
       "1974"
      ]
     },
     "execution_count": 10,
     "metadata": {},
     "output_type": "execute_result"
    }
   ],
   "source": [
    "# query_containers(\"Evergreen\")\n",
    "count_containers(\"Evergreen\")"
   ]
  },
  {
   "cell_type": "code",
   "execution_count": 14,
   "metadata": {},
   "outputs": [
    {
     "data": {
      "text/plain": [
       "1936"
      ]
     },
     "execution_count": 14,
     "metadata": {},
     "output_type": "execute_result"
    }
   ],
   "source": [
    "distinct_containers(\"Evergreen\")"
   ]
  },
  {
   "cell_type": "markdown",
   "metadata": {},
   "source": [
    "## Maersk"
   ]
  },
  {
   "cell_type": "code",
   "execution_count": 12,
   "metadata": {},
   "outputs": [
    {
     "data": {
      "text/plain": [
       "11031"
      ]
     },
     "execution_count": 12,
     "metadata": {},
     "output_type": "execute_result"
    }
   ],
   "source": [
    "# query_containers(\"Maersk\")\n",
    "count_containers(\"Maersk\")"
   ]
  },
  {
   "cell_type": "code",
   "execution_count": 13,
   "metadata": {},
   "outputs": [
    {
     "data": {
      "text/plain": [
       "10571"
      ]
     },
     "execution_count": 13,
     "metadata": {},
     "output_type": "execute_result"
    }
   ],
   "source": [
    "distinct_containers(\"Maersk\")"
   ]
  },
  {
   "cell_type": "code",
   "execution_count": null,
   "metadata": {},
   "outputs": [],
   "source": []
  }
 ],
 "metadata": {
  "kernelspec": {
   "display_name": "Python 3",
   "language": "python",
   "name": "python3"
  },
  "language_info": {
   "codemirror_mode": {
    "name": "ipython",
    "version": 3
   },
   "file_extension": ".py",
   "mimetype": "text/x-python",
   "name": "python",
   "nbconvert_exporter": "python",
   "pygments_lexer": "ipython3",
   "version": "3.5.3"
  }
 },
 "nbformat": 4,
 "nbformat_minor": 2
}
