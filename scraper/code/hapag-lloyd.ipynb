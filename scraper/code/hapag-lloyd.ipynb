{
 "cells": [
  {
   "cell_type": "code",
   "execution_count": 36,
   "metadata": {},
   "outputs": [],
   "source": [
    "from selenium import webdriver\n",
    "from selenium.webdriver.common.keys import Keys\n",
    "from selenium.webdriver.common.by import By\n",
    "\n",
    "import re\n",
    "import json"
   ]
  },
  {
   "cell_type": "code",
   "execution_count": 11,
   "metadata": {},
   "outputs": [],
   "source": [
    "elements = driver.find_elements(By.CLASS_NAME, \"inputNonEdit\")\n",
    "\n",
    "# Container type\n",
    "tracking[\"general\"][\"container_type\"] = elements[0].text\n",
    "\n",
    "# Container description\n",
    "tracking[\"general\"][\"container_description\"] = elements[1].text\n",
    "\n",
    "# Container dimensions\n",
    "text_group = elements[2].text.split(\" X \")\n",
    "tracking[\"general\"][\"container_length\"] = text_group[0]\n",
    "tracking[\"general\"][\"container_height\"] = text_group[2]\n",
    "tracking[\"general\"][\"container_width\"]  = text_group[1]\n",
    "\n",
    "# Container tare\n",
    "tracking[\"container\"][\"tare\"] = elements[3].text\n",
    "\n",
    "# Container maximum payload\n",
    "tracking[\"container\"][\"max_payload\"] = elements[4].text"
   ]
  },
  {
   "cell_type": "code",
   "execution_count": 15,
   "metadata": {},
   "outputs": [],
   "source": [
    "elements = driver.find_elements(By.CSS_SELECTOR, '.hal-table tbody tr')\n",
    "tracking[\"movements\"] = []\n",
    "\n",
    "for element in elements:\n",
    "    # Get items and create new movement\n",
    "    items = element.find_elements(By.TAG_NAME, 'td')\n",
    "    movement = {\n",
    "        \"transport\": {}\n",
    "    }\n",
    "    \n",
    "    # Container status in movement\n",
    "    movement[\"status\"] = items[0].text\n",
    "    \n",
    "    # Container location in movement\n",
    "    movement[\"location\"] = items[1].text\n",
    "    \n",
    "    # Container movement date\n",
    "    movement[\"date\"] = items[2].text\n",
    "    \n",
    "    # Container movement time\n",
    "    movement[\"time\"] = items[3].text\n",
    "    \n",
    "    # Container movement transport ship\n",
    "    movement[\"transport_ship\"] = items[4].text\n",
    "    \n",
    "    # Container movement transport voyage number\n",
    "    try:\n",
    "        text = items[5].text\n",
    "        if (len(text) > 0):\n",
    "            movement[\"transport_voyage\"] = text\n",
    "    except IndexError:\n",
    "        pass\n",
    "    \n",
    "    # Add movement to list\n",
    "    tracking[\"movements\"].append(movement)\n"
   ]
  },
  {
   "cell_type": "code",
   "execution_count": 16,
   "metadata": {},
   "outputs": [
    {
     "data": {
      "text/plain": [
       "{'container': {'description': 'REEFER CONTAINER',\n",
       "  'dimensions': {'height': '9\\'6\"', 'length': \"40'\", 'width': \"8'\"},\n",
       "  'max_payload': '29360',\n",
       "  'tare': '4640',\n",
       "  'type': '45RT'},\n",
       " 'general': {},\n",
       " 'last_route': {},\n",
       " 'movements': [{'date': '2019-01-26',\n",
       "   'location': 'CALLAO',\n",
       "   'status': 'Gate out empty',\n",
       "   'time': '09:59',\n",
       "   'transport_ship': 'Truck'},\n",
       "  {'date': '2019-01-27',\n",
       "   'location': 'CALLAO',\n",
       "   'status': 'Arrival in',\n",
       "   'time': '06:01',\n",
       "   'transport_ship': 'Truck'},\n",
       "  {'date': '2019-01-29',\n",
       "   'location': 'CALLAO',\n",
       "   'status': 'Loaded',\n",
       "   'time': '07:51',\n",
       "   'transport_ship': 'CAP SAN TAINARO',\n",
       "   'transport_voyage': '8151N'},\n",
       "  {'date': '2019-01-29',\n",
       "   'location': 'CALLAO',\n",
       "   'status': 'Vessel departed',\n",
       "   'time': '23:42',\n",
       "   'transport_ship': 'CAP SAN TAINARO',\n",
       "   'transport_voyage': '8151N'},\n",
       "  {'date': '2019-02-19',\n",
       "   'location': 'ROTTERDAM',\n",
       "   'status': 'Vessel arrived',\n",
       "   'time': '16:42',\n",
       "   'transport_ship': 'CAP SAN TAINARO',\n",
       "   'transport_voyage': '8151N'},\n",
       "  {'date': '2019-02-20',\n",
       "   'location': 'ROTTERDAM',\n",
       "   'status': 'Discharged',\n",
       "   'time': '06:36',\n",
       "   'transport_ship': 'CAP SAN TAINARO',\n",
       "   'transport_voyage': '8151N'},\n",
       "  {'date': '2019-02-20',\n",
       "   'location': 'ROTTERDAM',\n",
       "   'status': 'Departure from',\n",
       "   'time': '09:16',\n",
       "   'transport_ship': 'Truck'},\n",
       "  {'date': '2019-02-20',\n",
       "   'location': 'ROTTERDAM',\n",
       "   'status': 'Gate in empty',\n",
       "   'time': '10:43',\n",
       "   'transport_ship': 'Truck'}]}"
      ]
     },
     "execution_count": 16,
     "metadata": {},
     "output_type": "execute_result"
    }
   ],
   "source": [
    "tracking"
   ]
  },
  {
   "cell_type": "code",
   "execution_count": 17,
   "metadata": {},
   "outputs": [],
   "source": [
    "driver.close()"
   ]
  },
  {
   "cell_type": "code",
   "execution_count": 18,
   "metadata": {},
   "outputs": [],
   "source": [
    "import json\n",
    "with open('hapag-lloyd/' + container + '.json', 'w') as file:\n",
    "    json.dump(tracking, file)"
   ]
  },
  {
   "cell_type": "code",
   "execution_count": null,
   "metadata": {},
   "outputs": [],
   "source": []
  }
 ],
 "metadata": {
  "kernelspec": {
   "display_name": "Python 3",
   "language": "python",
   "name": "python3"
  },
  "language_info": {
   "codemirror_mode": {
    "name": "ipython",
    "version": 3
   },
   "file_extension": ".py",
   "mimetype": "text/x-python",
   "name": "python",
   "nbconvert_exporter": "python",
   "pygments_lexer": "ipython3",
   "version": "3.5.3"
  }
 },
 "nbformat": 4,
 "nbformat_minor": 2
}
