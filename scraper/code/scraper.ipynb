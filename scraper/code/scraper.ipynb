{
 "cells": [
  {
   "cell_type": "code",
   "execution_count": 9,
   "metadata": {},
   "outputs": [],
   "source": [
    "from datetime import datetime, timedelta\n",
    "from selenium import webdriver\n",
    "from selenium.common.exceptions import *\n",
    "from selenium.webdriver.common.by import By\n",
    "\n",
    "import json\n",
    "import re\n",
    "import sys"
   ]
  },
  {
   "cell_type": "markdown",
   "metadata": {},
   "source": [
    "## Selector class"
   ]
  },
  {
   "cell_type": "code",
   "execution_count": 11,
   "metadata": {},
   "outputs": [
    {
     "data": {
      "text/plain": [
       "datetime.datetime(2019, 2, 22, 22, 19, 43, 737395)"
      ]
     },
     "execution_count": 11,
     "metadata": {},
     "output_type": "execute_result"
    }
   ],
   "source": [
    "datetime.today() + timedelta(-25)"
   ]
  },
  {
   "cell_type": "markdown",
   "metadata": {},
   "source": [
    "## Main scraper class"
   ]
  },
  {
   "cell_type": "code",
   "execution_count": null,
   "metadata": {},
   "outputs": [],
   "source": [
    "class Scraper:\n",
    "    \"\"\"\n",
    "    Main scraper class.\n",
    "    \"\"\"\n",
    "    \n",
    "    def __init__(self, metadata, driver = None):\n",
    "        self.__metadata = metadata\n",
    "        self.__driver   = driver\n",
    "        if driver is None:\n",
    "            try:\n",
    "                self.__driver = webdriver.Firefox(executable_path = \"../driver/geckodriver\")\n",
    "            except WebDriverException as ex:\n",
    "                self.__close_driver(\"Error creating Selenium driver\", ex)\n",
    "    \n",
    "    def __close_driver(self):\n",
    "        try:\n",
    "            self.__driver.close()\n",
    "        except AttributeError:\n",
    "            pass # "
   ]
  }
 ],
 "metadata": {
  "kernelspec": {
   "display_name": "Python 3",
   "language": "python",
   "name": "python3"
  },
  "language_info": {
   "codemirror_mode": {
    "name": "ipython",
    "version": 3
   },
   "file_extension": ".py",
   "mimetype": "text/x-python",
   "name": "python",
   "nbconvert_exporter": "python",
   "pygments_lexer": "ipython3",
   "version": "3.5.3"
  }
 },
 "nbformat": 4,
 "nbformat_minor": 2
}
