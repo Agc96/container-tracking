{
 "cells": [
  {
   "cell_type": "markdown",
   "metadata": {},
   "source": [
    "# Hapag-Lloyd"
   ]
  },
  {
   "cell_type": "code",
   "execution_count": 11,
   "metadata": {},
   "outputs": [],
   "source": [
    "from datetime import datetime\n",
    "from selenium import webdriver\n",
    "from selenium.webdriver.common.keys import Keys\n",
    "from selenium.webdriver.common.by import By\n",
    "from selenium.webdriver.support.ui import WebDriverWait\n",
    "from selenium.webdriver.support import expected_conditions as EC\n",
    "\n",
    "import re\n",
    "import json\n",
    "import time"
   ]
  },
  {
   "cell_type": "code",
   "execution_count": 12,
   "metadata": {},
   "outputs": [],
   "source": [
    "container = {\n",
    "    \"year\": \"2019\",\n",
    "    \"manifest\": \"450\",\n",
    "    \"detail\": \"874\",\n",
    "    \"container\": \"HLXU5183586\",\n",
    "    \"carrier\": \"Hapag-Lloyd\"\n",
    "}"
   ]
  },
  {
   "cell_type": "code",
   "execution_count": 15,
   "metadata": {},
   "outputs": [],
   "source": [
    "with open(\"../../config/\" + container[\"carrier\"] + \".json\") as file:\n",
    "    config = json.load(file)"
   ]
  },
  {
   "cell_type": "code",
   "execution_count": 16,
   "metadata": {},
   "outputs": [
    {
     "data": {
      "text/plain": [
       "{'name': 'Hapag-Lloyd',\n",
       " 'general': {'url': 'https://www.hapag-lloyd.com/en/online-business/tracing/tracing-by-container.html?container={container}',\n",
       "  'date_format': '%Y-%m-%d',\n",
       "  'time_format': '%H:%M'},\n",
       " 'input': [{'type': 'class',\n",
       "   'value': 'error',\n",
       "   'command': {'type': 'assert', 'value': False}},\n",
       "  {'type': 'id',\n",
       "   'value': 'hal-cookieconsent-button',\n",
       "   'command': {'type': 'click', 'value': False, 'required': False}}],\n",
       " 'output': [{'type': 'class',\n",
       "   'value': 'inputNonEdit',\n",
       "   'commands': [{'index': 0,\n",
       "     'type': 'save',\n",
       "     'value': 'container_type',\n",
       "     'required': False},\n",
       "    {'index': 1,\n",
       "     'type': 'save',\n",
       "     'value': 'container_description',\n",
       "     'required': True},\n",
       "    {'index': 2,\n",
       "     'type': 'split',\n",
       "     'value': ' X ',\n",
       "     'commands': [{'index': 0,\n",
       "       'type': 'save',\n",
       "       'value': 'container_length',\n",
       "       'required': False},\n",
       "      {'index': 2,\n",
       "       'type': 'save',\n",
       "       'value': 'container_height',\n",
       "       'required': False},\n",
       "      {'index': 1,\n",
       "       'type': 'save',\n",
       "       'value': 'container_width',\n",
       "       'required': False}]},\n",
       "    {'index': 3, 'type': 'save', 'value': 'container_tare', 'required': False},\n",
       "    {'index': 4,\n",
       "     'type': 'save',\n",
       "     'value': 'container_max_payload',\n",
       "     'required': False},\n",
       "    {'index': 5,\n",
       "     'type': 'regex',\n",
       "     'value': 'The container (.*?) (in|from) (.*?) at (.*?) ',\n",
       "     'commands': [{'index': 0,\n",
       "       'type': 'save',\n",
       "       'value': 'last_status',\n",
       "       'required': True},\n",
       "      {'index': 2, 'type': 'save', 'value': 'last_location', 'required': True},\n",
       "      {'index': 3,\n",
       "       'type': 'save',\n",
       "       'value': 'last_date',\n",
       "       'required': True}]}]}],\n",
       " 'movements': {'parent': {'type': 'css', 'value': '.hal-table tbody tr'},\n",
       "  'common': None,\n",
       "  'specific': [{'type': 'tag',\n",
       "    'value': 'td',\n",
       "    'commands': [{'index': 0,\n",
       "      'type': 'save',\n",
       "      'value': 'status',\n",
       "      'required': True},\n",
       "     {'index': 1, 'type': 'save', 'value': 'location', 'required': True},\n",
       "     {'index': 2, 'type': 'save', 'value': 'date', 'required': True},\n",
       "     {'index': 3, 'type': 'save', 'value': 'time', 'required': False},\n",
       "     {'index': 4,\n",
       "      'type': 'save',\n",
       "      'value': 'transport_ship',\n",
       "      'required': False},\n",
       "     {'index': 5,\n",
       "      'type': 'save',\n",
       "      'value': 'transport_voyage',\n",
       "      'required': False}]}],\n",
       "  'multiple': True}}"
      ]
     },
     "execution_count": 16,
     "metadata": {},
     "output_type": "execute_result"
    }
   ],
   "source": [
    "config"
   ]
  },
  {
   "cell_type": "markdown",
   "metadata": {},
   "source": [
    "## Input commands"
   ]
  },
  {
   "cell_type": "code",
   "execution_count": 9,
   "metadata": {},
   "outputs": [
    {
     "name": "stdout",
     "output_type": "stream",
     "text": [
      "<selenium.webdriver.firefox.webelement.FirefoxWebElement (session=\"add64742-6c12-44b9-b7a0-f43bb8f30ad2\", element=\"08cf1b24-1394-4863-9816-8185825dc6a6\")>\n"
     ]
    }
   ],
   "source": [
    "driver = webdriver.Firefox(executable_path = \"../../driver/geckodriver\")\n",
    "link = \"https://www.hapag-lloyd.com/en/online-business/tracing/tracing-by-container.html?container={container}\"\n",
    "container = {\n",
    "    \"container\": \"HLXU5183586\"\n",
    "}\n",
    "driver.get(link.format(**container))\n",
    "\n",
    "initial_time = time.time()\n",
    "while True:\n",
    "    try:\n",
    "        do_input_commands()\n",
    "button = WebDriverWait(driver, 60).until(EC.presence_of_element_located((By.ID, \"hal-cookieconsent-button\")))\n",
    "button.click()"
   ]
  },
  {
   "cell_type": "code",
   "execution_count": 10,
   "metadata": {},
   "outputs": [],
   "source": [
    "driver.close()"
   ]
  },
  {
   "cell_type": "code",
   "execution_count": 11,
   "metadata": {},
   "outputs": [],
   "source": [
    "elements = driver.find_elements(By.CLASS_NAME, \"inputNonEdit\")\n",
    "\n",
    "# Container type\n",
    "tracking[\"general\"][\"container_type\"] = elements[0].text\n",
    "\n",
    "# Container description\n",
    "tracking[\"general\"][\"container_description\"] = elements[1].text\n",
    "\n",
    "# Container dimensions\n",
    "text_group = elements[2].text.split(\" X \")\n",
    "tracking[\"general\"][\"container_length\"] = text_group[0]\n",
    "tracking[\"general\"][\"container_height\"] = text_group[2]\n",
    "tracking[\"general\"][\"container_width\"]  = text_group[1]\n",
    "\n",
    "# Container tare\n",
    "tracking[\"container\"][\"tare\"] = elements[3].text\n",
    "\n",
    "# Container maximum payload\n",
    "tracking[\"container\"][\"max_payload\"] = elements[4].text"
   ]
  },
  {
   "cell_type": "code",
   "execution_count": 15,
   "metadata": {},
   "outputs": [],
   "source": [
    "elements = driver.find_elements(By.CSS_SELECTOR, '.hal-table tbody tr')\n",
    "tracking[\"movements\"] = []\n",
    "\n",
    "for element in elements:\n",
    "    # Get items and create new movement\n",
    "    items = element.find_elements(By.TAG_NAME, 'td')\n",
    "    movement = {\n",
    "        \"transport\": {}\n",
    "    }\n",
    "    \n",
    "    # Container status in movement\n",
    "    movement[\"status\"] = items[0].text\n",
    "    \n",
    "    # Container location in movement\n",
    "    movement[\"location\"] = items[1].text\n",
    "    \n",
    "    # Container movement date\n",
    "    movement[\"date\"] = items[2].text\n",
    "    \n",
    "    # Container movement time\n",
    "    movement[\"time\"] = items[3].text\n",
    "    \n",
    "    # Container movement transport ship\n",
    "    movement[\"transport_ship\"] = items[4].text\n",
    "    \n",
    "    # Container movement transport voyage number\n",
    "    try:\n",
    "        text = items[5].text\n",
    "        if (len(text) > 0):\n",
    "            movement[\"transport_voyage\"] = text\n",
    "    except IndexError:\n",
    "        pass\n",
    "    \n",
    "    # Add movement to list\n",
    "    tracking[\"movements\"].append(movement)\n"
   ]
  },
  {
   "cell_type": "code",
   "execution_count": 16,
   "metadata": {},
   "outputs": [
    {
     "data": {
      "text/plain": [
       "{'container': {'description': 'REEFER CONTAINER',\n",
       "  'dimensions': {'height': '9\\'6\"', 'length': \"40'\", 'width': \"8'\"},\n",
       "  'max_payload': '29360',\n",
       "  'tare': '4640',\n",
       "  'type': '45RT'},\n",
       " 'general': {},\n",
       " 'last_route': {},\n",
       " 'movements': [{'date': '2019-01-26',\n",
       "   'location': 'CALLAO',\n",
       "   'status': 'Gate out empty',\n",
       "   'time': '09:59',\n",
       "   'transport_ship': 'Truck'},\n",
       "  {'date': '2019-01-27',\n",
       "   'location': 'CALLAO',\n",
       "   'status': 'Arrival in',\n",
       "   'time': '06:01',\n",
       "   'transport_ship': 'Truck'},\n",
       "  {'date': '2019-01-29',\n",
       "   'location': 'CALLAO',\n",
       "   'status': 'Loaded',\n",
       "   'time': '07:51',\n",
       "   'transport_ship': 'CAP SAN TAINARO',\n",
       "   'transport_voyage': '8151N'},\n",
       "  {'date': '2019-01-29',\n",
       "   'location': 'CALLAO',\n",
       "   'status': 'Vessel departed',\n",
       "   'time': '23:42',\n",
       "   'transport_ship': 'CAP SAN TAINARO',\n",
       "   'transport_voyage': '8151N'},\n",
       "  {'date': '2019-02-19',\n",
       "   'location': 'ROTTERDAM',\n",
       "   'status': 'Vessel arrived',\n",
       "   'time': '16:42',\n",
       "   'transport_ship': 'CAP SAN TAINARO',\n",
       "   'transport_voyage': '8151N'},\n",
       "  {'date': '2019-02-20',\n",
       "   'location': 'ROTTERDAM',\n",
       "   'status': 'Discharged',\n",
       "   'time': '06:36',\n",
       "   'transport_ship': 'CAP SAN TAINARO',\n",
       "   'transport_voyage': '8151N'},\n",
       "  {'date': '2019-02-20',\n",
       "   'location': 'ROTTERDAM',\n",
       "   'status': 'Departure from',\n",
       "   'time': '09:16',\n",
       "   'transport_ship': 'Truck'},\n",
       "  {'date': '2019-02-20',\n",
       "   'location': 'ROTTERDAM',\n",
       "   'status': 'Gate in empty',\n",
       "   'time': '10:43',\n",
       "   'transport_ship': 'Truck'}]}"
      ]
     },
     "execution_count": 16,
     "metadata": {},
     "output_type": "execute_result"
    }
   ],
   "source": [
    "tracking"
   ]
  },
  {
   "cell_type": "code",
   "execution_count": 17,
   "metadata": {},
   "outputs": [],
   "source": [
    "driver.close()"
   ]
  },
  {
   "cell_type": "code",
   "execution_count": 18,
   "metadata": {},
   "outputs": [],
   "source": [
    "import json\n",
    "with open('hapag-lloyd/' + container + '.json', 'w') as file:\n",
    "    json.dump(tracking, file)"
   ]
  },
  {
   "cell_type": "code",
   "execution_count": null,
   "metadata": {},
   "outputs": [],
   "source": []
  }
 ],
 "metadata": {
  "kernelspec": {
   "display_name": "Python 3",
   "language": "python",
   "name": "python3"
  },
  "language_info": {
   "codemirror_mode": {
    "name": "ipython",
    "version": 3
   },
   "file_extension": ".py",
   "mimetype": "text/x-python",
   "name": "python",
   "nbconvert_exporter": "python",
   "pygments_lexer": "ipython3",
   "version": "3.7.1"
  }
 },
 "nbformat": 4,
 "nbformat_minor": 2
}
