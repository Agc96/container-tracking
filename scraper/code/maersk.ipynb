{
 "cells": [
  {
   "cell_type": "code",
   "execution_count": 4,
   "metadata": {},
   "outputs": [],
   "source": [
    "from selenium import webdriver\n",
    "from selenium.webdriver.common.keys import Keys\n",
    "from selenium.webdriver.common.by import By\n",
    "\n",
    "import re\n",
    "import json"
   ]
  },
  {
   "cell_type": "code",
   "execution_count": 5,
   "metadata": {},
   "outputs": [],
   "source": [
    "container = \"MAEU6835658\"\n",
    "tracking = {\n",
    "    \"general\": {},\n",
    "    \"container\": {\n",
    "        \"code\": container,\n",
    "        \"dimensions\": {}\n",
    "    },\n",
    "    \"last_route\": {},\n",
    "    \"movements\": []\n",
    "}\n",
    "url = \"https://www.maersk.com/tracking/#tracking/{container}\""
   ]
  },
  {
   "cell_type": "code",
   "execution_count": 6,
   "metadata": {},
   "outputs": [],
   "source": [
    "driver = webdriver.Firefox()\n",
    "driver.get(url.format(container = container))"
   ]
  },
  {
   "cell_type": "code",
   "execution_count": 8,
   "metadata": {},
   "outputs": [],
   "source": [
    "# Click to display\n",
    "button = driver.find_elements(By.CSS_SELECTOR, \".expandable-table__call-to-action .button\")\n",
    "button[0].click()"
   ]
  },
  {
   "cell_type": "code",
   "execution_count": 9,
   "metadata": {},
   "outputs": [],
   "source": [
    "elements = driver.find_elements(By.CLASS_NAME, \"font--display-1--heavy\")\n",
    "\n",
    "# Origin point\n",
    "tracking[\"general\"][\"origin\"]      = elements[0].text\n",
    "\n",
    "# Destination point\n",
    "tracking[\"general\"][\"destination\"] = elements[1].text"
   ]
  },
  {
   "cell_type": "code",
   "execution_count": 10,
   "metadata": {},
   "outputs": [],
   "source": [
    "elements = driver.find_elements(By.CSS_SELECTOR, \".expandable-table__wrapper td\")\n",
    "\n",
    "# Container description\n",
    "subelements = elements[1].find_elements(By.TAG_NAME, \"span\")\n",
    "tracking[\"container\"][\"description\"] = subelements[3].text\n",
    "\n",
    "# Estimated arrival time\n",
    "subelements = elements[2].find_elements(By.TAG_NAME, \"span\")\n",
    "tracking[\"general\"][\"estimated_arrival\"] = subelements[3].text"
   ]
  },
  {
   "cell_type": "code",
   "execution_count": 13,
   "metadata": {},
   "outputs": [],
   "source": [
    "# Last route information\n",
    "subelements = elements[3].find_elements(By.TAG_NAME, \"span\")\n",
    "text_group = subelements[3].text.split('\\n')\n",
    "text_subgroup = text_group[0].split(' • ')\n",
    "\n",
    "# Last route status\n",
    "tracking[\"last_route\"][\"status\"] = text_subgroup[0]\n",
    "# Last route location\n",
    "tracking[\"last_route\"][\"location\"] = text_subgroup[1]\n",
    "# Last route date\n",
    "tracking[\"last_route\"][\"date\"] = text_group[1]"
   ]
  },
  {
   "cell_type": "code",
   "execution_count": 20,
   "metadata": {},
   "outputs": [],
   "source": [
    "# Route information\n",
    "elements = driver.find_elements(By.CLASS_NAME, \"timeline__event-table\")\n",
    "tracking[\"movements\"] = []\n",
    "\n",
    "for element in elements:\n",
    "    movement_common = {}\n",
    "    \n",
    "    # Get common elements\n",
    "    common_subelements = element.find_elements(By.CLASS_NAME, \"\")\n",
    "    \n",
    "    subelements = element.find_elements(By.CLASS_NAME, \"timeline__event-table__row\")\n",
    "    \n",
    "    for i, subelement in enumerate(subelements):\n",
    "        movement_common = {\n",
    "            \"transport\": {}\n",
    "        }\n",
    "        \n",
    "        if i == 0:\n",
    "            text_group = subelement.text.split('\\n')\n",
    "            \n",
    "            # Get movement terminal name for all movements in subelement\n",
    "            movement_common[\"terminal\"] = text_group[0]\n",
    "            \n",
    "            # Get movement location for all movements in subelement\n",
    "            movement_common[\"location\"] = text_group[1]\n",
    "        \n",
    "        else:\n",
    "            movement_specific = movement_common.copy()\n",
    "            items = subelement.find_elements(By.CLASS_NAME, \"timeline__event-table__cell\")\n",
    "            \n",
    "            text_group = items[0].text.split('\\n')\n",
    "            \n",
    "            # Get movement date and time\n",
    "            movement_specific[\"date\"] = text_group[0]\n",
    "            try:\n",
    "                movement_specific[\"time\"] = text_group[1]\n",
    "            except IndexError:\n",
    "                pass\n",
    "            \n",
    "            text_group = items[1].text.split('\\n')\n",
    "            text_subgroup = text_group[0].split(' on ')\n",
    "            \n",
    "            # Get movement status and voyage\n",
    "            movement_specific[\"status\"] = text_subgroup[0]\n",
    "            try:\n",
    "                movement_specific[\"transport\"][\"ship\"] = text_subgroup[1]\n",
    "            except IndexError:\n",
    "                pass\n",
    "            try:\n",
    "                movement_specific[\"transport\"][\"voyage\"] = text_group[1]\n",
    "            except IndexError:\n",
    "                pass\n",
    "            \n",
    "            # Determine if movement is estimated or real\n",
    "            status = subelement.get_attribute(\"data-status\")\n",
    "            movement_specific[\"is_estimated\"] = (status == \"planned\")\n",
    "            \n",
    "            # Add movement to list\n",
    "            tracking[\"movements\"].append(movement_specific)"
   ]
  },
  {
   "cell_type": "code",
   "execution_count": 21,
   "metadata": {},
   "outputs": [
    {
     "data": {
      "text/plain": [
       "{'container': {'code': 'MAEU6835658',\n",
       "  'description': '20ft Dry Container',\n",
       "  'dimensions': {}},\n",
       " 'general': {'destination': 'Melbourne',\n",
       "  'estimated_arrival': '02 Mar 2019',\n",
       "  'origin': 'Izmit Korfezi'},\n",
       " 'last_route': {'date': '13 Feb 2019',\n",
       "  'location': 'Singapore, Singapore',\n",
       "  'status': 'Load'},\n",
       " 'movements': [{'date': '08 Jan 2019',\n",
       "   'is_estimated': False,\n",
       "   'status': 'Stuffing',\n",
       "   'time': '18:26',\n",
       "   'transport': {}},\n",
       "  {'date': '13 Jan 2019',\n",
       "   'is_estimated': False,\n",
       "   'status': 'Load',\n",
       "   'time': '11:24',\n",
       "   'transport': {'ship': 'MSC RAPALLO', 'voyage': 'Voyage No.903E'}},\n",
       "  {'date': '13 Feb 2019',\n",
       "   'is_estimated': False,\n",
       "   'status': 'Discharge',\n",
       "   'time': '10:46',\n",
       "   'transport': {}},\n",
       "  {'date': '13 Feb 2019',\n",
       "   'is_estimated': False,\n",
       "   'status': 'Load',\n",
       "   'time': '17:14',\n",
       "   'transport': {'ship': 'MOL GROWTH', 'voyage': 'Voyage No.847S'}},\n",
       "  {'date': '02 Mar 2019',\n",
       "   'is_estimated': True,\n",
       "   'status': 'Discharge',\n",
       "   'transport': {}}]}"
      ]
     },
     "execution_count": 21,
     "metadata": {},
     "output_type": "execute_result"
    }
   ],
   "source": [
    "tracking"
   ]
  },
  {
   "cell_type": "code",
   "execution_count": 22,
   "metadata": {},
   "outputs": [],
   "source": [
    "driver.close()"
   ]
  },
  {
   "cell_type": "code",
   "execution_count": 23,
   "metadata": {},
   "outputs": [],
   "source": [
    "import json\n",
    "with open('maersk/' + container + '.json', 'w') as file:\n",
    "    json.dump(tracking, file)"
   ]
  },
  {
   "cell_type": "code",
   "execution_count": null,
   "metadata": {},
   "outputs": [],
   "source": []
  }
 ],
 "metadata": {
  "kernelspec": {
   "display_name": "Python 3",
   "language": "python",
   "name": "python3"
  },
  "language_info": {
   "codemirror_mode": {
    "name": "ipython",
    "version": 3
   },
   "file_extension": ".py",
   "mimetype": "text/x-python",
   "name": "python",
   "nbconvert_exporter": "python",
   "pygments_lexer": "ipython3",
   "version": "3.5.3"
  }
 },
 "nbformat": 4,
 "nbformat_minor": 2
}
