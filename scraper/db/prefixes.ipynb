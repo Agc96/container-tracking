{
 "cells": [
  {
   "cell_type": "code",
   "execution_count": 1,
   "metadata": {},
   "outputs": [],
   "source": [
    "from datetime import datetime\n",
    "from pymongo import MongoClient\n",
    "\n",
    "import json"
   ]
  },
  {
   "cell_type": "code",
   "execution_count": 2,
   "metadata": {},
   "outputs": [],
   "source": [
    "client = MongoClient()\n",
    "database = client[\"tracking_scraper\"]\n",
    "collection = database[\"container_prefixes\"]"
   ]
  },
  {
   "cell_type": "markdown",
   "metadata": {},
   "source": [
    "## Obtener prefijos conocidos"
   ]
  },
  {
   "cell_type": "code",
   "execution_count": 3,
   "metadata": {},
   "outputs": [],
   "source": [
    "with open(\"prefixes.json\", \"r\") as file:\n",
    "    prefixes = json.load(file)"
   ]
  },
  {
   "cell_type": "code",
   "execution_count": 5,
   "metadata": {},
   "outputs": [
    {
     "data": {
      "text/plain": [
       "61"
      ]
     },
     "execution_count": 5,
     "metadata": {},
     "output_type": "execute_result"
    }
   ],
   "source": [
    "len(prefixes)"
   ]
  },
  {
   "cell_type": "code",
   "execution_count": 6,
   "metadata": {},
   "outputs": [],
   "source": [
    "for prefix in prefixes:\n",
    "    prefix[\"created_at\"] = datetime.utcnow()\n",
    "    prefix[\"updated_at\"] = None\n",
    "    collection.insert_one(prefix)"
   ]
  },
  {
   "cell_type": "markdown",
   "metadata": {},
   "source": [
    "## Verificar en base de datos"
   ]
  },
  {
   "cell_type": "code",
   "execution_count": 7,
   "metadata": {},
   "outputs": [
    {
     "name": "stdout",
     "output_type": "stream",
     "text": [
      "{'carrier': 'Hapag-Lloyd', 'prefix': 'AZLU', '_id': ObjectId('5c955f789303fc3b8a7894c6'), 'updated_at': None, 'created_at': datetime.datetime(2019, 3, 22, 22, 19, 36, 971000)}\n",
      "Press Enter to continue, or type 'quit' to exit the program: \n",
      "{'carrier': 'Hapag-Lloyd', 'prefix': 'CASU', '_id': ObjectId('5c955f799303fc3b8a7894c7'), 'updated_at': None, 'created_at': datetime.datetime(2019, 3, 22, 22, 19, 37, 375000)}\n",
      "Press Enter to continue, or type 'quit' to exit the program: \n",
      "{'carrier': 'Hapag-Lloyd', 'prefix': 'CMUU', '_id': ObjectId('5c955f799303fc3b8a7894c8'), 'updated_at': None, 'created_at': datetime.datetime(2019, 3, 22, 22, 19, 37, 376000)}\n",
      "Press Enter to continue, or type 'quit' to exit the program: \n",
      "{'carrier': 'Hapag-Lloyd', 'prefix': 'CPSU', '_id': ObjectId('5c955f799303fc3b8a7894c9'), 'updated_at': None, 'created_at': datetime.datetime(2019, 3, 22, 22, 19, 37, 376000)}\n",
      "Press Enter to continue, or type 'quit' to exit the program: \n",
      "{'carrier': 'Hapag-Lloyd', 'prefix': 'CSQU', '_id': ObjectId('5c955f799303fc3b8a7894ca'), 'updated_at': None, 'created_at': datetime.datetime(2019, 3, 22, 22, 19, 37, 376000)}\n",
      "Press Enter to continue, or type 'quit' to exit the program: \n",
      "{'carrier': 'Hapag-Lloyd', 'prefix': 'CSVU', '_id': ObjectId('5c955f799303fc3b8a7894cb'), 'updated_at': None, 'created_at': datetime.datetime(2019, 3, 22, 22, 19, 37, 377000)}\n",
      "Press Enter to continue, or type 'quit' to exit the program: quit\n"
     ]
    }
   ],
   "source": [
    "cursor = collection.find()\n",
    "for prefix in cursor:\n",
    "    print(prefix)\n",
    "    text = input(\"Press Enter to continue, or type 'quit' to exit the program: \")\n",
    "    if text.lower() == \"quit\":\n",
    "        break"
   ]
  },
  {
   "cell_type": "code",
   "execution_count": 9,
   "metadata": {},
   "outputs": [
    {
     "data": {
      "text/plain": [
       "61"
      ]
     },
     "execution_count": 9,
     "metadata": {},
     "output_type": "execute_result"
    }
   ],
   "source": [
    "collection.count_documents({})"
   ]
  },
  {
   "cell_type": "code",
   "execution_count": null,
   "metadata": {},
   "outputs": [],
   "source": []
  }
 ],
 "metadata": {
  "kernelspec": {
   "display_name": "Python 3",
   "language": "python",
   "name": "python3"
  },
  "language_info": {
   "codemirror_mode": {
    "name": "ipython",
    "version": 3
   },
   "file_extension": ".py",
   "mimetype": "text/x-python",
   "name": "python",
   "nbconvert_exporter": "python",
   "pygments_lexer": "ipython3",
   "version": "3.5.3"
  }
 },
 "nbformat": 4,
 "nbformat_minor": 2
}
