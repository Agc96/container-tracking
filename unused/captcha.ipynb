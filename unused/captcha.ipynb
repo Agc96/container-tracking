{
 "cells": [
  {
   "cell_type": "code",
   "execution_count": 79,
   "metadata": {},
   "outputs": [],
   "source": [
    "from selenium import webdriver\n",
    "from PIL import Image\n",
    "from io import BytesIO\n",
    "import pytesseract"
   ]
  },
  {
   "cell_type": "markdown",
   "metadata": {},
   "source": [
    "## Go to page"
   ]
  },
  {
   "cell_type": "code",
   "execution_count": 90,
   "metadata": {},
   "outputs": [],
   "source": [
    "driver = webdriver.Chrome(executable_path = \"../scraper/driver/chromedriver\")\n",
    "driver.get(\"https://www.shipmentlink.com/servlet/TDB1_CargoTracking.do\")"
   ]
  },
  {
   "cell_type": "code",
   "execution_count": 18,
   "metadata": {},
   "outputs": [],
   "source": [
    "language = driver.find_elements_by_css_selector(\"#shipmentlink_lang_layer button\")[1]\n",
    "language.click()"
   ]
  },
  {
   "cell_type": "code",
   "execution_count": 91,
   "metadata": {},
   "outputs": [],
   "source": [
    "def set_attribute(driver, element, attribute, value):\n",
    "    driver.execute_script(\"arguments[0].setAttribute(arguments[1], arguments[2]);\", element, attribute, value)"
   ]
  },
  {
   "cell_type": "code",
   "execution_count": 92,
   "metadata": {},
   "outputs": [],
   "source": [
    "imgelem = driver.find_element_by_id(\"captchaImg\")\n",
    "set_attribute(driver, imgelem, \"width\", None)\n",
    "set_attribute(driver, imgelem, \"height\", None)"
   ]
  },
  {
   "cell_type": "markdown",
   "metadata": {},
   "source": [
    "## Process"
   ]
  },
  {
   "cell_type": "code",
   "execution_count": 72,
   "metadata": {},
   "outputs": [],
   "source": [
    "def black_and_white(image, pivot = 64, foreground = 0, background = 255):\n",
    "    return Image.eval(image, lambda pixel: foreground if pixel <= pivot else background)"
   ]
  },
  {
   "cell_type": "code",
   "execution_count": 97,
   "metadata": {},
   "outputs": [],
   "source": [
    "def process_image(image):\n",
    "    string = pytesseract.image_to_string(image, config = \"-c tessedit_char_whitelist=ABCDEFGHIJKLMNOPQRSTUVWXYZ --psm 7\")\n",
    "    return string.replace(\" \", \"\")"
   ]
  },
  {
   "cell_type": "code",
   "execution_count": 98,
   "metadata": {},
   "outputs": [
    {
     "name": "stdout",
     "output_type": "stream",
     "text": [
      "WSWH\n"
     ]
    }
   ],
   "source": [
    "imgdata = imgelem.screenshot_as_png\n",
    "imgfile = Image.open(BytesIO(imgdata))\n",
    "imgfile = black_and_white(imgfile, 64)\n",
    "imgstr  = process_image(imgfile)\n",
    "print(imgstr)"
   ]
  },
  {
   "cell_type": "code",
   "execution_count": 88,
   "metadata": {},
   "outputs": [],
   "source": [
    "captcha_input = driver.find_elements_by_id(\"captcha_input\")[0]\n",
    "captcha_input.clear()\n",
    "captcha_input.send_keys(imgstr)"
   ]
  },
  {
   "cell_type": "code",
   "execution_count": 99,
   "metadata": {},
   "outputs": [],
   "source": [
    "driver.close()"
   ]
  },
  {
   "cell_type": "markdown",
   "metadata": {},
   "source": [
    "## Tests"
   ]
  },
  {
   "cell_type": "code",
   "execution_count": 10,
   "metadata": {},
   "outputs": [],
   "source": [
    "a = {\"type\": \"id\", \"selector\": \"etcetera\", \"commands\": [{}, {}, {}], \"required\": True, \"value\": 234.56}"
   ]
  },
  {
   "cell_type": "code",
   "execution_count": 13,
   "metadata": {},
   "outputs": [],
   "source": [
    "def print_command(command):\n",
    "    command_texts = []\n",
    "    for key, value in command.items():\n",
    "        if isinstance(value, list):\n",
    "            command_texts.append('\"{0}\": list({1})'.format(key, len(value)))\n",
    "        elif isinstance(value, dict):\n",
    "            command_texts.append('\"{0}\": dict({1})'.format(key, len(value)))\n",
    "        elif isinstance(value, str):\n",
    "            command_texts.append('\"{0}\": \"{1}\"'.format(key, value))\n",
    "        else:\n",
    "            command_texts.append('\"{0}\": {1}'.format(key, value))\n",
    "    return \"{\" + \", \".join(command_texts) + \"}\""
   ]
  },
  {
   "cell_type": "code",
   "execution_count": 14,
   "metadata": {},
   "outputs": [
    {
     "data": {
      "text/plain": [
       "'{\"type\": \"id\", \"value\": 234.56, \"required\": True, \"commands\": list(3), \"selector\": \"etcetera\"}'"
      ]
     },
     "execution_count": 14,
     "metadata": {},
     "output_type": "execute_result"
    }
   ],
   "source": [
    "print_command(a)"
   ]
  }
 ],
 "metadata": {
  "kernelspec": {
   "display_name": "Python 3",
   "language": "python",
   "name": "python3"
  },
  "language_info": {
   "codemirror_mode": {
    "name": "ipython",
    "version": 3
   },
   "file_extension": ".py",
   "mimetype": "text/x-python",
   "name": "python",
   "nbconvert_exporter": "python",
   "pygments_lexer": "ipython3",
   "version": "3.7.1"
  }
 },
 "nbformat": 4,
 "nbformat_minor": 2
}
