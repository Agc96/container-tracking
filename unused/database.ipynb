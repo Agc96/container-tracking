{
 "cells": [
  {
   "cell_type": "code",
   "execution_count": 1,
   "metadata": {},
   "outputs": [],
   "source": [
    "from pymongo import MongoClient\n",
    "client = MongoClient()"
   ]
  },
  {
   "cell_type": "code",
   "execution_count": 3,
   "metadata": {},
   "outputs": [],
   "source": [
    "db = client[\"tracking_scraper\"]"
   ]
  },
  {
   "cell_type": "code",
   "execution_count": 4,
   "metadata": {},
   "outputs": [],
   "source": [
    "collection = db[\"config\"]"
   ]
  },
  {
   "cell_type": "code",
   "execution_count": 5,
   "metadata": {},
   "outputs": [],
   "source": [
    "hapag_lloyd = {\n",
    "    \"name\": \"Hapag-Lloyd\",\n",
    "    \"general\": {\n",
    "        \"url\": \"https://www.hapag-lloyd.com/en/online-business/tracing/tracing-by-container.html?container={container}\",\n",
    "        \"date_format\": \"%Y-%m-%d\",\n",
    "        \"time_format\": \"%H:%M\"\n",
    "    },\n",
    "    \"input\": [\n",
    "        {\n",
    "            \"type\": \"class\",\n",
    "            \"value\": \"error\",\n",
    "            \"action\": \"abort\"\n",
    "        },\n",
    "        {\n",
    "            \"type\": \"id\",\n",
    "            \"value\": \"hal-cookieconsent-button\",\n",
    "            \"action\": \"cookie\",\n",
    "            \"wait\": False\n",
    "        }\n",
    "    ],\n",
    "    \"output_assert\": None,\n",
    "    \"output_general\": [\n",
    "        {\n",
    "            \"type\": \"class\",\n",
    "            \"value\": \"inputNonEdit\",\n",
    "            \"elements\": [\n",
    "                {\n",
    "                    \"index\": 0,\n",
    "                    \"attribute\": \"container_type\",\n",
    "                    \"required\": False\n",
    "                },\n",
    "                {\n",
    "                    \"index\": 1,\n",
    "                    \"attribute\": \"container_description\",\n",
    "                    \"required\": True\n",
    "                },\n",
    "                {\n",
    "                    \"index\": 2,\n",
    "                    \"type\": \"split\",\n",
    "                    \"value\": \" X \",\n",
    "                    \"elements\": [\n",
    "                        {\n",
    "                            \"index\": 0,\n",
    "                            \"attribute\": \"container_length\",\n",
    "                            \"required\": False\n",
    "                        }, {\n",
    "                            \"index\": 2,\n",
    "                            \"attribute\": \"container_height\",\n",
    "                            \"required\": False\n",
    "                        }, {\n",
    "                            \"index\": 1,\n",
    "                            \"attribute\": \"container_width\",\n",
    "                            \"required\": False\n",
    "                        }\n",
    "                    ]\n",
    "                },\n",
    "                {\n",
    "                    \"index\": 3,\n",
    "                    \"attribute\": \"container_tare\",\n",
    "                    \"required\": False\n",
    "                },\n",
    "                {\n",
    "                    \"index\": 4,\n",
    "                    \"attribute\": \"container_max_payload\",\n",
    "                    \"required\": False\n",
    "                },\n",
    "                {\n",
    "                    \"index\": 5,\n",
    "                    \"type\": \"regex\",\n",
    "                    \"value\": \"The container (.*?) (in|from) (.*?) at (.*?) \",\n",
    "                    \"elements\": [\n",
    "                        {\n",
    "                            \"index\": 0,\n",
    "                            \"attribute\": \"last_status\",\n",
    "                            \"required\": True\n",
    "                        },\n",
    "                        {\n",
    "                            \"index\": 2,\n",
    "                            \"attribute\": \"last_location\",\n",
    "                            \"required\": True\n",
    "                        },\n",
    "                        {\n",
    "                            \"index\": 3,\n",
    "                            \"attribute\": \"last_date\",\n",
    "                            \"required\": True\n",
    "                        }\n",
    "                    ]\n",
    "                }\n",
    "            ]\n",
    "        }\n",
    "    ],\n",
    "    \"output_movements\": {\n",
    "        \"parent\": {\n",
    "            \"type\": \"css\",\n",
    "            \"value\": \".hal-table tbody tr\"\n",
    "        },\n",
    "        \"common\": None,\n",
    "        \"specific\": [\n",
    "            {\n",
    "                \"type\": \"tag\",\n",
    "                \"value\": \"td\",\n",
    "                \"elements\": [\n",
    "                    {\n",
    "                        \"index\": 0,\n",
    "                        \"attribute\": \"status\",\n",
    "                        \"required\": True\n",
    "                    },\n",
    "                    {\n",
    "                        \"index\": 1,\n",
    "                        \"attribute\": \"location\",\n",
    "                        \"required\": True\n",
    "                    },\n",
    "                    {\n",
    "                        \"index\": 2,\n",
    "                        \"attribute\": \"date\",\n",
    "                        \"required\": True\n",
    "                    },\n",
    "                    {\n",
    "                        \"index\": 3,\n",
    "                        \"attribute\": \"time\",\n",
    "                        \"required\": False\n",
    "                    },\n",
    "                    {\n",
    "                        \"index\": 4,\n",
    "                        \"attribute\": \"transport_ship\",\n",
    "                        \"required\": False\n",
    "                    },\n",
    "                    {\n",
    "                        \"index\": 5,\n",
    "                        \"attribute\": \"transport_voyage\",\n",
    "                        \"required\": False\n",
    "                    }\n",
    "                ]\n",
    "            }\n",
    "        ],\n",
    "        \"multiple\": True\n",
    "    }\n",
    "}"
   ]
  },
  {
   "cell_type": "code",
   "execution_count": 6,
   "metadata": {},
   "outputs": [],
   "source": [
    "row_info = collection.insert_one(hapag_lloyd)"
   ]
  },
  {
   "cell_type": "code",
   "execution_count": 9,
   "metadata": {},
   "outputs": [
    {
     "data": {
      "text/plain": [
       "ObjectId('5c84872b9303fc1bd116da76')"
      ]
     },
     "execution_count": 9,
     "metadata": {},
     "output_type": "execute_result"
    }
   ],
   "source": [
    "row_info.inserted_id"
   ]
  },
  {
   "cell_type": "code",
   "execution_count": 10,
   "metadata": {},
   "outputs": [
    {
     "data": {
      "text/plain": [
       "{'_id': ObjectId('5c84872b9303fc1bd116da76'),\n",
       " 'general': {'date_format': '%Y-%m-%d',\n",
       "  'time_format': '%H:%M',\n",
       "  'url': 'https://www.hapag-lloyd.com/en/online-business/tracing/tracing-by-container.html?container={container}'},\n",
       " 'input': [{'action': 'abort', 'type': 'class', 'value': 'error'},\n",
       "  {'action': 'cookie',\n",
       "   'type': 'id',\n",
       "   'value': 'hal-cookieconsent-button',\n",
       "   'wait': False}],\n",
       " 'name': 'Hapag-Lloyd',\n",
       " 'output_assert': None,\n",
       " 'output_general': [{'elements': [{'attribute': 'container_type',\n",
       "     'index': 0,\n",
       "     'required': False},\n",
       "    {'attribute': 'container_description', 'index': 1, 'required': True},\n",
       "    {'elements': [{'attribute': 'container_length',\n",
       "       'index': 0,\n",
       "       'required': False},\n",
       "      {'attribute': 'container_height', 'index': 2, 'required': False},\n",
       "      {'attribute': 'container_width', 'index': 1, 'required': False}],\n",
       "     'index': 2,\n",
       "     'type': 'split',\n",
       "     'value': ' X '},\n",
       "    {'attribute': 'container_tare', 'index': 3, 'required': False},\n",
       "    {'attribute': 'container_max_payload', 'index': 4, 'required': False},\n",
       "    {'elements': [{'attribute': 'last_status', 'index': 0, 'required': True},\n",
       "      {'attribute': 'last_location', 'index': 2, 'required': True},\n",
       "      {'attribute': 'last_date', 'index': 3, 'required': True}],\n",
       "     'index': 5,\n",
       "     'type': 'regex',\n",
       "     'value': 'The container (.*?) (in|from) (.*?) at (.*?) '}],\n",
       "   'type': 'class',\n",
       "   'value': 'inputNonEdit'}],\n",
       " 'output_movements': {'common': None,\n",
       "  'multiple': True,\n",
       "  'parent': {'type': 'css', 'value': '.hal-table tbody tr'},\n",
       "  'specific': [{'elements': [{'attribute': 'status',\n",
       "      'index': 0,\n",
       "      'required': True},\n",
       "     {'attribute': 'location', 'index': 1, 'required': True},\n",
       "     {'attribute': 'date', 'index': 2, 'required': True},\n",
       "     {'attribute': 'time', 'index': 3, 'required': False},\n",
       "     {'attribute': 'transport_ship', 'index': 4, 'required': False},\n",
       "     {'attribute': 'transport_voyage', 'index': 5, 'required': False}],\n",
       "    'type': 'tag',\n",
       "    'value': 'td'}]}}"
      ]
     },
     "execution_count": 10,
     "metadata": {},
     "output_type": "execute_result"
    }
   ],
   "source": [
    "collection.find_one({\n",
    "    \"name\": \"Hapag-Lloyd\"\n",
    "})"
   ]
  },
  {
   "cell_type": "code",
   "execution_count": 11,
   "metadata": {},
   "outputs": [],
   "source": [
    "client.close()"
   ]
  },
  {
   "cell_type": "code",
   "execution_count": null,
   "metadata": {},
   "outputs": [],
   "source": [
    "client = MongoClient()\n",
    "config = client[\"tracking_scraper\"][\"config\"]\n",
    "self.config = config_collection.find_one({\n",
    "    \n",
    "})\n",
    "client.close()"
   ]
  }
 ],
 "metadata": {
  "kernelspec": {
   "display_name": "Python 3",
   "language": "python",
   "name": "python3"
  },
  "language_info": {
   "codemirror_mode": {
    "name": "ipython",
    "version": 3
   },
   "file_extension": ".py",
   "mimetype": "text/x-python",
   "name": "python",
   "nbconvert_exporter": "python",
   "pygments_lexer": "ipython3",
   "version": "3.5.3"
  }
 },
 "nbformat": 4,
 "nbformat_minor": 2
}
