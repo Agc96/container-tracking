{
 "cells": [
  {
   "cell_type": "code",
   "execution_count": 1,
   "metadata": {},
   "outputs": [],
   "source": [
    "from datetime import datetime\n",
    "\n",
    "from env import *\n",
    "import smtplib\n",
    "import ssl"
   ]
  },
  {
   "cell_type": "code",
   "execution_count": 2,
   "metadata": {},
   "outputs": [],
   "source": [
    "class TrackingScraperEmail:\n",
    "    def __init__(self):\n",
    "        self.date = datetime.now().strftime(\"%d/%m/%Y a las %H:%M\")\n",
    "        self.message = \"\"\"Subject: Ha finalizado el scraper\n",
    "\n",
    "Hola {user},\n",
    "Te informamos que la aplicacion termino de ejecutarse el {date}.\n",
    "No sabemos si ha terminado su ejecucion o ha ocurrido algun error, pero es mejor que revises el log.\n",
    "Saludos,\n",
    "El equipo de Tracking Scraper\"\"\"\n",
    "        \n",
    "    def send(self):\n",
    "        message = self.message.format(date = self.date, user = EMAIL_TO[\"name\"])\n",
    "        with smtplib.SMTP_SSL(EMAIL_SMTP, EMAIL_PORT) as server:\n",
    "            server.login(EMAIL_FROM[\"email\"], EMAIL_FROM[\"pass\"])\n",
    "            server.sendmail(EMAIL_FROM[\"email\"], EMAIL_TO[\"email\"], message)"
   ]
  },
  {
   "cell_type": "code",
   "execution_count": 3,
   "metadata": {},
   "outputs": [],
   "source": [
    "TrackingScraperEmail().send()"
   ]
  },
  {
   "cell_type": "code",
   "execution_count": null,
   "metadata": {},
   "outputs": [],
   "source": []
  }
 ],
 "metadata": {
  "kernelspec": {
   "display_name": "Python 3",
   "language": "python",
   "name": "python3"
  },
  "language_info": {
   "codemirror_mode": {
    "name": "ipython",
    "version": 3
   },
   "file_extension": ".py",
   "mimetype": "text/x-python",
   "name": "python",
   "nbconvert_exporter": "python",
   "pygments_lexer": "ipython3",
   "version": "3.7.1"
  }
 },
 "nbformat": 4,
 "nbformat_minor": 2
}
