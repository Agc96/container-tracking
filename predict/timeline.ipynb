{
 "cells": [
  {
   "cell_type": "code",
   "execution_count": 32,
   "metadata": {},
   "outputs": [],
   "source": [
    "from pymongo import MongoClient\n",
    "\n",
    "import pandas as pd\n",
    "import numpy as np\n",
    "import matplotlib.pyplot as plt"
   ]
  },
  {
   "cell_type": "code",
   "execution_count": 35,
   "metadata": {},
   "outputs": [],
   "source": [
    "database        = MongoClient()[\"scraper2\"]\n",
    "movements_table = database[\"container_movements\"]"
   ]
  },
  {
   "cell_type": "code",
   "execution_count": null,
   "metadata": {},
   "outputs": [],
   "source": [
    "select = {\n",
    "    \"_id\": 0,\n",
    "    \"container\": 1,\n",
    "    \"date\": 1,\n",
    "    \"status\": 1,\n",
    "    \"location\": 1,\n",
    "    \"latitude\": 1,\n",
    "    \"longitude\": 1\n",
    "}"
   ]
  },
  {
   "cell_type": "markdown",
   "metadata": {},
   "source": [
    "## Maersk"
   ]
  },
  {
   "cell_type": "code",
   "execution_count": 49,
   "metadata": {},
   "outputs": [
    {
     "name": "stdout",
     "output_type": "stream",
     "text": [
      "9\n"
     ]
    }
   ],
   "source": [
    "maersk_query = {\n",
    "    \"container\": \"MRKU5264777\"\n",
    "}\n",
    "\n",
    "cursor = movements.find(maersk_query, select).sort(\"date\", 1)\n",
    "maersk = list(cursor)\n",
    "\n",
    "print(len(maersk))"
   ]
  },
  {
   "cell_type": "code",
   "execution_count": 50,
   "metadata": {
    "scrolled": true
   },
   "outputs": [
    {
     "data": {
      "text/html": [
       "<div>\n",
       "<style scoped>\n",
       "    .dataframe tbody tr th:only-of-type {\n",
       "        vertical-align: middle;\n",
       "    }\n",
       "\n",
       "    .dataframe tbody tr th {\n",
       "        vertical-align: top;\n",
       "    }\n",
       "\n",
       "    .dataframe thead th {\n",
       "        text-align: right;\n",
       "    }\n",
       "</style>\n",
       "<table border=\"1\" class=\"dataframe\">\n",
       "  <thead>\n",
       "    <tr style=\"text-align: right;\">\n",
       "      <th></th>\n",
       "      <th>container</th>\n",
       "      <th>date</th>\n",
       "      <th>latitude</th>\n",
       "      <th>location</th>\n",
       "      <th>longitude</th>\n",
       "      <th>status</th>\n",
       "    </tr>\n",
       "  </thead>\n",
       "  <tbody>\n",
       "    <tr>\n",
       "      <th>0</th>\n",
       "      <td>MRKU5264777</td>\n",
       "      <td>2019-02-12 18:32:00</td>\n",
       "      <td>3.002762</td>\n",
       "      <td>Cogent Container Depot (M) Sdn Bhd\\nPort Klang...</td>\n",
       "      <td>101.396674</td>\n",
       "      <td>Gate out</td>\n",
       "    </tr>\n",
       "    <tr>\n",
       "      <th>1</th>\n",
       "      <td>MRKU5264777</td>\n",
       "      <td>2019-02-13 21:35:00</td>\n",
       "      <td>3.002762</td>\n",
       "      <td>Westport\\nPort Klang, Selangor, Malaysia</td>\n",
       "      <td>101.396674</td>\n",
       "      <td>Gate in</td>\n",
       "    </tr>\n",
       "    <tr>\n",
       "      <th>2</th>\n",
       "      <td>MRKU5264777</td>\n",
       "      <td>2019-02-15 01:13:00</td>\n",
       "      <td>3.002762</td>\n",
       "      <td>Westport\\nPort Klang, Selangor, Malaysia</td>\n",
       "      <td>101.396674</td>\n",
       "      <td>Load</td>\n",
       "    </tr>\n",
       "    <tr>\n",
       "      <th>3</th>\n",
       "      <td>MRKU5264777</td>\n",
       "      <td>2019-02-21 02:57:00</td>\n",
       "      <td>22.350627</td>\n",
       "      <td>Hongkong/Hk International Terminals\\nHong Kong...</td>\n",
       "      <td>114.184916</td>\n",
       "      <td>Discharge</td>\n",
       "    </tr>\n",
       "    <tr>\n",
       "      <th>4</th>\n",
       "      <td>MRKU5264777</td>\n",
       "      <td>2019-02-24 15:17:00</td>\n",
       "      <td>22.350627</td>\n",
       "      <td>Hongkong/Hk International Terminals\\nHong Kong...</td>\n",
       "      <td>114.184916</td>\n",
       "      <td>Gate out</td>\n",
       "    </tr>\n",
       "    <tr>\n",
       "      <th>5</th>\n",
       "      <td>MRKU5264777</td>\n",
       "      <td>2019-02-24 15:29:00</td>\n",
       "      <td>22.350627</td>\n",
       "      <td>Hong Kong Modern Terminals Ltd\\nHong Kong, Hon...</td>\n",
       "      <td>114.184916</td>\n",
       "      <td>Gate in</td>\n",
       "    </tr>\n",
       "    <tr>\n",
       "      <th>6</th>\n",
       "      <td>MRKU5264777</td>\n",
       "      <td>2019-03-05 15:51:00</td>\n",
       "      <td>22.350627</td>\n",
       "      <td>Hong Kong Modern Terminals Ltd\\nHong Kong, Hon...</td>\n",
       "      <td>114.184916</td>\n",
       "      <td>Load</td>\n",
       "    </tr>\n",
       "    <tr>\n",
       "      <th>7</th>\n",
       "      <td>MRKU5264777</td>\n",
       "      <td>2019-04-05 23:29:00</td>\n",
       "      <td>-12.066667</td>\n",
       "      <td>APM Terminals in Callao Port\\nCallao, Peru</td>\n",
       "      <td>-77.150000</td>\n",
       "      <td>Discharge</td>\n",
       "    </tr>\n",
       "    <tr>\n",
       "      <th>8</th>\n",
       "      <td>MRKU5264777</td>\n",
       "      <td>2019-04-06 14:11:00</td>\n",
       "      <td>-12.066667</td>\n",
       "      <td>APM Terminals in Callao Port\\nCallao, Peru</td>\n",
       "      <td>-77.150000</td>\n",
       "      <td>Gate out</td>\n",
       "    </tr>\n",
       "  </tbody>\n",
       "</table>\n",
       "</div>"
      ],
      "text/plain": [
       "     container                date   latitude  \\\n",
       "0  MRKU5264777 2019-02-12 18:32:00   3.002762   \n",
       "1  MRKU5264777 2019-02-13 21:35:00   3.002762   \n",
       "2  MRKU5264777 2019-02-15 01:13:00   3.002762   \n",
       "3  MRKU5264777 2019-02-21 02:57:00  22.350627   \n",
       "4  MRKU5264777 2019-02-24 15:17:00  22.350627   \n",
       "5  MRKU5264777 2019-02-24 15:29:00  22.350627   \n",
       "6  MRKU5264777 2019-03-05 15:51:00  22.350627   \n",
       "7  MRKU5264777 2019-04-05 23:29:00 -12.066667   \n",
       "8  MRKU5264777 2019-04-06 14:11:00 -12.066667   \n",
       "\n",
       "                                            location   longitude     status  \n",
       "0  Cogent Container Depot (M) Sdn Bhd\\nPort Klang...  101.396674   Gate out  \n",
       "1           Westport\\nPort Klang, Selangor, Malaysia  101.396674    Gate in  \n",
       "2           Westport\\nPort Klang, Selangor, Malaysia  101.396674       Load  \n",
       "3  Hongkong/Hk International Terminals\\nHong Kong...  114.184916  Discharge  \n",
       "4  Hongkong/Hk International Terminals\\nHong Kong...  114.184916   Gate out  \n",
       "5  Hong Kong Modern Terminals Ltd\\nHong Kong, Hon...  114.184916    Gate in  \n",
       "6  Hong Kong Modern Terminals Ltd\\nHong Kong, Hon...  114.184916       Load  \n",
       "7         APM Terminals in Callao Port\\nCallao, Peru  -77.150000  Discharge  \n",
       "8         APM Terminals in Callao Port\\nCallao, Peru  -77.150000   Gate out  "
      ]
     },
     "execution_count": 50,
     "metadata": {},
     "output_type": "execute_result"
    }
   ],
   "source": [
    "maersk_df = pd.DataFrame(maersk)\n",
    "maersk_df"
   ]
  },
  {
   "cell_type": "markdown",
   "metadata": {},
   "source": [
    "## Hapag-Lloyd"
   ]
  },
  {
   "cell_type": "code",
   "execution_count": 51,
   "metadata": {},
   "outputs": [
    {
     "name": "stdout",
     "output_type": "stream",
     "text": [
      "7\n"
     ]
    }
   ],
   "source": [
    "hapaglloyd_query = {\n",
    "    \"container\": \"FSCU5670046\"\n",
    "}\n",
    "\n",
    "cursor = movements.find(hapaglloyd_query, select).sort(\"date\", 1)\n",
    "hapaglloyd = list(cursor)\n",
    "\n",
    "print(len(hapaglloyd))"
   ]
  },
  {
   "cell_type": "code",
   "execution_count": 52,
   "metadata": {},
   "outputs": [
    {
     "data": {
      "text/html": [
       "<div>\n",
       "<style scoped>\n",
       "    .dataframe tbody tr th:only-of-type {\n",
       "        vertical-align: middle;\n",
       "    }\n",
       "\n",
       "    .dataframe tbody tr th {\n",
       "        vertical-align: top;\n",
       "    }\n",
       "\n",
       "    .dataframe thead th {\n",
       "        text-align: right;\n",
       "    }\n",
       "</style>\n",
       "<table border=\"1\" class=\"dataframe\">\n",
       "  <thead>\n",
       "    <tr style=\"text-align: right;\">\n",
       "      <th></th>\n",
       "      <th>container</th>\n",
       "      <th>date</th>\n",
       "      <th>latitude</th>\n",
       "      <th>location</th>\n",
       "      <th>longitude</th>\n",
       "      <th>status</th>\n",
       "    </tr>\n",
       "  </thead>\n",
       "  <tbody>\n",
       "    <tr>\n",
       "      <th>0</th>\n",
       "      <td>FSCU5670046</td>\n",
       "      <td>2019-03-12 07:33:00</td>\n",
       "      <td>51.221110</td>\n",
       "      <td>ANTWERP</td>\n",
       "      <td>4.399708</td>\n",
       "      <td>Gate out empty</td>\n",
       "    </tr>\n",
       "    <tr>\n",
       "      <th>1</th>\n",
       "      <td>FSCU5670046</td>\n",
       "      <td>2019-03-12 14:37:00</td>\n",
       "      <td>51.221110</td>\n",
       "      <td>ANTWERP</td>\n",
       "      <td>4.399708</td>\n",
       "      <td>Arrival in</td>\n",
       "    </tr>\n",
       "    <tr>\n",
       "      <th>2</th>\n",
       "      <td>FSCU5670046</td>\n",
       "      <td>2019-03-26 12:59:00</td>\n",
       "      <td>51.221110</td>\n",
       "      <td>ANTWERP</td>\n",
       "      <td>4.399708</td>\n",
       "      <td>Loaded</td>\n",
       "    </tr>\n",
       "    <tr>\n",
       "      <th>3</th>\n",
       "      <td>FSCU5670046</td>\n",
       "      <td>2019-03-26 21:54:00</td>\n",
       "      <td>51.221110</td>\n",
       "      <td>ANTWERP</td>\n",
       "      <td>4.399708</td>\n",
       "      <td>Vessel departed</td>\n",
       "    </tr>\n",
       "    <tr>\n",
       "      <th>4</th>\n",
       "      <td>FSCU5670046</td>\n",
       "      <td>2019-04-07 03:30:00</td>\n",
       "      <td>36.846292</td>\n",
       "      <td>NORFOLK, VA</td>\n",
       "      <td>-76.292925</td>\n",
       "      <td>Vessel arrived</td>\n",
       "    </tr>\n",
       "    <tr>\n",
       "      <th>5</th>\n",
       "      <td>FSCU5670046</td>\n",
       "      <td>2019-04-07 09:25:00</td>\n",
       "      <td>36.846292</td>\n",
       "      <td>NORFOLK, VA</td>\n",
       "      <td>-76.292925</td>\n",
       "      <td>Discharged</td>\n",
       "    </tr>\n",
       "    <tr>\n",
       "      <th>6</th>\n",
       "      <td>FSCU5670046</td>\n",
       "      <td>2019-04-09 16:49:00</td>\n",
       "      <td>36.846292</td>\n",
       "      <td>NORFOLK, VA</td>\n",
       "      <td>-76.292925</td>\n",
       "      <td>Departure from</td>\n",
       "    </tr>\n",
       "  </tbody>\n",
       "</table>\n",
       "</div>"
      ],
      "text/plain": [
       "     container                date   latitude     location  longitude  \\\n",
       "0  FSCU5670046 2019-03-12 07:33:00  51.221110      ANTWERP   4.399708   \n",
       "1  FSCU5670046 2019-03-12 14:37:00  51.221110      ANTWERP   4.399708   \n",
       "2  FSCU5670046 2019-03-26 12:59:00  51.221110      ANTWERP   4.399708   \n",
       "3  FSCU5670046 2019-03-26 21:54:00  51.221110      ANTWERP   4.399708   \n",
       "4  FSCU5670046 2019-04-07 03:30:00  36.846292  NORFOLK, VA -76.292925   \n",
       "5  FSCU5670046 2019-04-07 09:25:00  36.846292  NORFOLK, VA -76.292925   \n",
       "6  FSCU5670046 2019-04-09 16:49:00  36.846292  NORFOLK, VA -76.292925   \n",
       "\n",
       "            status  \n",
       "0   Gate out empty  \n",
       "1       Arrival in  \n",
       "2           Loaded  \n",
       "3  Vessel departed  \n",
       "4   Vessel arrived  \n",
       "5       Discharged  \n",
       "6   Departure from  "
      ]
     },
     "execution_count": 52,
     "metadata": {},
     "output_type": "execute_result"
    }
   ],
   "source": [
    "hapag_df = pd.DataFrame(hapaglloyd)\n",
    "hapag_df"
   ]
  },
  {
   "cell_type": "markdown",
   "metadata": {},
   "source": [
    "## Evergreen"
   ]
  },
  {
   "cell_type": "code",
   "execution_count": 53,
   "metadata": {},
   "outputs": [
    {
     "name": "stdout",
     "output_type": "stream",
     "text": [
      "2\n"
     ]
    }
   ],
   "source": [
    "evergreen_query = {\n",
    "    \"container\": \"EGSU9089973\"\n",
    "}\n",
    "\n",
    "cursor = movements.find(evergreen_query, select).sort(\"date\", 1)\n",
    "evergreen = list(cursor)\n",
    "\n",
    "print(len(evergreen))"
   ]
  },
  {
   "cell_type": "code",
   "execution_count": 54,
   "metadata": {},
   "outputs": [
    {
     "data": {
      "text/html": [
       "<div>\n",
       "<style scoped>\n",
       "    .dataframe tbody tr th:only-of-type {\n",
       "        vertical-align: middle;\n",
       "    }\n",
       "\n",
       "    .dataframe tbody tr th {\n",
       "        vertical-align: top;\n",
       "    }\n",
       "\n",
       "    .dataframe thead th {\n",
       "        text-align: right;\n",
       "    }\n",
       "</style>\n",
       "<table border=\"1\" class=\"dataframe\">\n",
       "  <thead>\n",
       "    <tr style=\"text-align: right;\">\n",
       "      <th></th>\n",
       "      <th>container</th>\n",
       "      <th>date</th>\n",
       "      <th>latitude</th>\n",
       "      <th>location</th>\n",
       "      <th>longitude</th>\n",
       "      <th>status</th>\n",
       "    </tr>\n",
       "  </thead>\n",
       "  <tbody>\n",
       "    <tr>\n",
       "      <th>0</th>\n",
       "      <td>EGSU9089973</td>\n",
       "      <td>2019-03-07</td>\n",
       "      <td>-12.066667</td>\n",
       "      <td>CALLAO (PE)</td>\n",
       "      <td>-77.150000</td>\n",
       "      <td>Loaded (FCL) on vessel</td>\n",
       "    </tr>\n",
       "    <tr>\n",
       "      <th>1</th>\n",
       "      <td>EGSU9089973</td>\n",
       "      <td>2019-04-10</td>\n",
       "      <td>22.350627</td>\n",
       "      <td>HONG KONG (HK)</td>\n",
       "      <td>114.184916</td>\n",
       "      <td>Despatched by barge</td>\n",
       "    </tr>\n",
       "  </tbody>\n",
       "</table>\n",
       "</div>"
      ],
      "text/plain": [
       "     container       date   latitude        location   longitude  \\\n",
       "0  EGSU9089973 2019-03-07 -12.066667     CALLAO (PE)  -77.150000   \n",
       "1  EGSU9089973 2019-04-10  22.350627  HONG KONG (HK)  114.184916   \n",
       "\n",
       "                   status  \n",
       "0  Loaded (FCL) on vessel  \n",
       "1     Despatched by barge  "
      ]
     },
     "execution_count": 54,
     "metadata": {},
     "output_type": "execute_result"
    }
   ],
   "source": [
    "evergreen_df = pd.DataFrame(evergreen)\n",
    "evergreen_df"
   ]
  },
  {
   "cell_type": "markdown",
   "metadata": {},
   "source": [
    "## Línea de tiempo"
   ]
  },
  {
   "cell_type": "code",
   "execution_count": 55,
   "metadata": {},
   "outputs": [
    {
     "data": {
      "image/png": "[encoded data removed]",
      "text/plain": [
       "<Figure size 2880x144 with 1 Axes>"
      ]
     },
     "metadata": {},
     "output_type": "display_data"
    }
   ],
   "source": [
    "import matplotlib.dates as mdates\n",
    "\n",
    "plt.figure(figsize = (40, 2))\n",
    "[timeline] = plt.plot(maersk_df[\"date\"], maersk_df[\"status\"], marker = \".\")\n",
    "\n",
    "xaxis = timeline.axes.xaxis\n",
    "xaxis.set_major_locator(mdates.DayLocator())\n",
    "xaxis.set_major_formatter(mdates.DateFormatter('%m-%d'))"
   ]
  },
  {
   "cell_type": "code",
   "execution_count": 14,
   "metadata": {},
   "outputs": [],
   "source": [
    "# from mpl_toolkits.basemap import Basemap"
   ]
  },
  {
   "cell_type": "code",
   "execution_count": null,
   "metadata": {},
   "outputs": [],
   "source": []
  }
 ],
 "metadata": {
  "kernelspec": {
   "display_name": "Python 3",
   "language": "python",
   "name": "python3"
  },
  "language_info": {
   "codemirror_mode": {
    "name": "ipython",
    "version": 3
   },
   "file_extension": ".py",
   "mimetype": "text/x-python",
   "name": "python",
   "nbconvert_exporter": "python",
   "pygments_lexer": "ipython3",
   "version": "3.5.3"
  }
 },
 "nbformat": 4,
 "nbformat_minor": 2
}
