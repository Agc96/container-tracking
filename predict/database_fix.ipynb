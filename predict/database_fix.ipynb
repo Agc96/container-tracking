{
 "cells": [
  {
   "cell_type": "code",
   "execution_count": 1,
   "metadata": {},
   "outputs": [],
   "source": [
    "from pymongo import MongoClient"
   ]
  },
  {
   "cell_type": "code",
   "execution_count": 2,
   "metadata": {},
   "outputs": [],
   "source": [
    "database   = MongoClient()[\"scraper2\"]\n",
    "containers = database[\"containers\"]\n",
    "movements  = database[\"container_movements\"]\n",
    "locations  = database[\"locations\"]"
   ]
  },
  {
   "cell_type": "markdown",
   "metadata": {},
   "source": [
    "# Datos de la naviera"
   ]
  },
  {
   "cell_type": "markdown",
   "metadata": {},
   "source": [
    "## Maersk"
   ]
  },
  {
   "cell_type": "code",
   "execution_count": 3,
   "metadata": {},
   "outputs": [
    {
     "name": "stdout",
     "output_type": "stream",
     "text": [
      "8963 matched, 0 modified\n"
     ]
    }
   ],
   "source": [
    "query = {\n",
    "    \"container\": {\n",
    "        \"$regex\": \"(APMU|COZU|FAAU|FRLU|KNLU|LOTU|MAEU|MALU|MCAU|MCHU|MCRU|MHHU|MIEU|MMAU|MNBU|MRKU|MRSU|MSAU|MSFU|MSKU|MSWU|MVIU|MWCU|MWMU|OCLU|POCU|PONU|SCMU|TORU)\"\n",
    "    }\n",
    "}\n",
    "update = {\n",
    "    \"$set\": {\n",
    "        \"carrier\": \"Maersk\"\n",
    "    }\n",
    "}\n",
    "result = movements.update_many(query, update)\n",
    "print(result.matched_count, \"matched,\", result.modified_count, \"modified\")"
   ]
  },
  {
   "cell_type": "markdown",
   "metadata": {},
   "source": [
    "## Hapag-Lloyd"
   ]
  },
  {
   "cell_type": "code",
   "execution_count": 4,
   "metadata": {},
   "outputs": [
    {
     "name": "stdout",
     "output_type": "stream",
     "text": [
      "53604 matched, 0 modified\n"
     ]
    }
   ],
   "source": [
    "query = {\n",
    "    \"container\": {\n",
    "        \"$regex\": \"(AZLU|CASU|CMUU|CPSU|CSQU|CSVU|FANU|FSCU|HAMU|HLBU|HLCU|HLXU|ITAU|IVLU|LBIU|LNXU|LYKU|MOMU|QIBU|QNNU|TLEU|TMMU|UACU|UAEU|UASU)\"\n",
    "    }\n",
    "}\n",
    "update = {\n",
    "    \"$set\": {\n",
    "        \"carrier\": \"Hapag-Lloyd\"\n",
    "    }\n",
    "}\n",
    "result = movements.update_many(query, update)\n",
    "print(result.matched_count, \"matched,\", result.modified_count, \"modified\")"
   ]
  },
  {
   "cell_type": "markdown",
   "metadata": {},
   "source": [
    "## Evergreen"
   ]
  },
  {
   "cell_type": "code",
   "execution_count": 5,
   "metadata": {},
   "outputs": [
    {
     "name": "stdout",
     "output_type": "stream",
     "text": [
      "2091 matched, 0 modified\n"
     ]
    }
   ],
   "source": [
    "query = {\n",
    "    \"container\": {\n",
    "        \"$regex\": \"(EGHU|EGSU|EISU|EMCU|HMCU|IMTU|LTIU|UGMU)\"\n",
    "    }\n",
    "}\n",
    "update = {\n",
    "    \"$set\": {\n",
    "        \"carrier\": \"Evergreen\"\n",
    "    }\n",
    "}\n",
    "result = movements.update_many(query, update)\n",
    "print(result.matched_count, \"matched,\", result.modified_count, \"modified\")"
   ]
  },
  {
   "cell_type": "markdown",
   "metadata": {},
   "source": [
    "## Textainer"
   ]
  },
  {
   "cell_type": "code",
   "execution_count": 6,
   "metadata": {},
   "outputs": [],
   "source": [
    "query = {\n",
    "    \"container\": {\n",
    "        \"$regex\": \"(AMFU|AMZU|AXIU|CEOU|CHIU|CLHU|GAEU|GATU|GAZU|HCIU|KWCU|LLTU|MAGU|MAXU|MGLU|MLCU|PRSU|TEMU|TENU|TEXU|TGBU|TGHU|TXGU|WCIU|XINU)\"\n",
    "    },\n",
    "    \"processed\": True\n",
    "}\n",
    "select = {\n",
    "    \"_id\": 0,\n",
    "    \"container\": 1,\n",
    "    \"carrier\": 1\n",
    "}\n",
    "cursor = containers.find(query, select)"
   ]
  },
  {
   "cell_type": "code",
   "execution_count": 7,
   "metadata": {
    "scrolled": false
   },
   "outputs": [
    {
     "name": "stdout",
     "output_type": "stream",
     "text": [
      "1956 indexes, 9081 matched, 0 modified\n"
     ]
    }
   ],
   "source": [
    "matched_count  = 0\n",
    "modified_count = 0\n",
    "index = 1\n",
    "for textainer in cursor:\n",
    "    query2 = {\n",
    "        \"container\": textainer[\"container\"]\n",
    "    }\n",
    "    update = {\n",
    "        \"$set\": {\n",
    "            \"carrier\": textainer[\"carrier\"]\n",
    "        }\n",
    "    }\n",
    "    result = movements.update_many(query2, update)\n",
    "    matched_count += result.matched_count\n",
    "    modified_count += result.modified_count\n",
    "    index += 1\n",
    "print(index, \"indexes,\", matched_count, \"matched,\", modified_count, \"modified\")"
   ]
  },
  {
   "cell_type": "markdown",
   "metadata": {},
   "source": [
    "## Ubicaciones erróneas"
   ]
  },
  {
   "cell_type": "code",
   "execution_count": 8,
   "metadata": {},
   "outputs": [
    {
     "name": "stdout",
     "output_type": "stream",
     "text": [
      " Salarno, Italy 46.138917 10.5204375\n",
      " SIN 35.000074 104.999927\n",
      " Morocco 31.1728205 -7.3362482\n",
      " QL 14.9 43.016667\n",
      " Russia 64.6863136 97.7453061\n"
     ]
    }
   ],
   "source": [
    "query = locations.find({\n",
    "    \"location\": {\n",
    "        \"$regex\": \"^ \"\n",
    "    }\n",
    "})\n",
    "\n",
    "bad_locations = list(query)\n",
    "for location in bad_locations:\n",
    "    print(location[\"location\"], location[\"latitude\"], location[\"longitude\"])"
   ]
  },
  {
   "cell_type": "code",
   "execution_count": 9,
   "metadata": {},
   "outputs": [
    {
     "name": "stdout",
     "output_type": "stream",
     "text": [
      "0 matched, 0 modified\n",
      "1 matched, 1 modified\n",
      "4 matched, 4 modified\n",
      "3 matched, 3 modified\n",
      "2 matched, 2 modified\n"
     ]
    }
   ],
   "source": [
    "for location in bad_locations:\n",
    "    result = movements.update_many({\n",
    "        \"latitude\"  : location[\"latitude\"],\n",
    "        \"longitude\" : location[\"longitude\"]\n",
    "    }, {\n",
    "        \"$unset\": {\n",
    "            \"latitude\"  : True,\n",
    "            \"longitude\" : True\n",
    "        }\n",
    "    })\n",
    "    print(result.matched_count, \"matched,\", result.modified_count, \"modified\")"
   ]
  },
  {
   "cell_type": "code",
   "execution_count": 10,
   "metadata": {},
   "outputs": [
    {
     "name": "stdout",
     "output_type": "stream",
     "text": [
      "5\n"
     ]
    }
   ],
   "source": [
    "result = locations.delete_many({\n",
    "    \"location\": {\n",
    "        \"$regex\": \"^ \"\n",
    "    }\n",
    "})\n",
    "print(result.deleted_count)"
   ]
  },
  {
   "cell_type": "markdown",
   "metadata": {},
   "source": [
    "## Ubicaciones imprecisas"
   ]
  },
  {
   "cell_type": "code",
   "execution_count": 11,
   "metadata": {},
   "outputs": [
    {
     "name": "stdout",
     "output_type": "stream",
     "text": [
      "Maersk location: 1 matched, 1 modified\n",
      "Hapag-Lloyd location: 0 matched, 0 modified, 5cc51e5eac8d26eb3e16ed94 upserted\n",
      "Maersk movements: 182 matched, 182 modified\n",
      "Hapag-Lloyd movements: 32 matched, 32 modified\n"
     ]
    }
   ],
   "source": [
    "query_hapag = {\n",
    "    \"location\" : \"PORT KELANG\"\n",
    "}\n",
    "query_maersk = {\n",
    "    \"location\": {\n",
    "        \"$regex\": \"Port Klang\"\n",
    "    }\n",
    "}\n",
    "insert = {\n",
    "    \"latitude\"  : 2.9995164,\n",
    "    \"longitude\" : 101.39144825844\n",
    "}\n",
    "update = {\n",
    "    \"$set\" : {\n",
    "        \"latitude\"  : 2.9995164,\n",
    "        \"longitude\" : 101.39144825844\n",
    "    }\n",
    "}\n",
    "\n",
    "# Upsert locations\n",
    "result = locations.update_many(query_maersk, update)\n",
    "print(\"Maersk location:\", result.matched_count, \"matched,\", result.modified_count, \"modified\")\n",
    "result = locations.update_many(query_hapag, update, upsert = True)\n",
    "print(\"Hapag-Lloyd location:\", result.matched_count, \"matched,\", result.modified_count, \"modified,\",\n",
    "      result.upserted_id, \"upserted\")\n",
    "\n",
    "# Update movements\n",
    "result = movements.update_many(query_maersk, update)\n",
    "print(\"Maersk movements:\", result.matched_count, \"matched,\", result.modified_count, \"modified\")\n",
    "result = movements.update_many(query_hapag, update)\n",
    "print(\"Hapag-Lloyd movements:\", result.matched_count, \"matched,\", result.modified_count, \"modified\")"
   ]
  },
  {
   "cell_type": "code",
   "execution_count": 12,
   "metadata": {},
   "outputs": [
    {
     "name": "stdout",
     "output_type": "stream",
     "text": [
      "Location: 1 matched, 1 modified\n",
      "Container movements: 4025 matched, 4025 modified\n"
     ]
    }
   ],
   "source": [
    "query = {\n",
    "    \"location\" : \"SAN ANTONIO\"\n",
    "}\n",
    "update = {\n",
    "    \"$set\": {\n",
    "        \"latitude\"  : -33.5808615,\n",
    "        \"longitude\" : -71.6132377 \n",
    "    }\n",
    "}\n",
    "\n",
    "# Update location\n",
    "result = locations.update_many(query, update)\n",
    "print(\"Location:\", result.matched_count, \"matched,\", result.modified_count, \"modified\")\n",
    "# Update movements\n",
    "result = movements.update_many(query, update)\n",
    "print(\"Container movements:\", result.matched_count, \"matched,\", result.modified_count, \"modified\")"
   ]
  },
  {
   "cell_type": "code",
   "execution_count": 13,
   "metadata": {},
   "outputs": [
    {
     "name": "stdout",
     "output_type": "stream",
     "text": [
      "Hapag-Lloyd location: 0 matched, 0 modified, 5cc51e5eac8d26eb3e16ed9a upserted\n",
      "Container movements: 14 matched, 14 modified\n"
     ]
    }
   ],
   "source": [
    "query = {\n",
    "    \"location\" : {\n",
    "        \"$regex\" : \"Salerno, Salarno, Italy\"\n",
    "    }\n",
    "}\n",
    "update = {\n",
    "    \"$set\" : {\n",
    "        \"latitude\"  : 40.6803601,\n",
    "        \"longitude\" : 14.7594542\n",
    "    }\n",
    "}\n",
    "\n",
    "# Upsert location\n",
    "result = locations.update_many(query, update, upsert = True)\n",
    "print(\"Hapag-Lloyd location:\", result.matched_count, \"matched,\", result.modified_count, \"modified,\",\n",
    "      result.upserted_id, \"upserted\")\n",
    "\n",
    "# Update movements\n",
    "result = movements.update_many(query, update)\n",
    "print(\"Container movements:\", result.matched_count, \"matched,\", result.modified_count, \"modified\")"
   ]
  },
  {
   "cell_type": "markdown",
   "metadata": {},
   "source": [
    "## Ubicaciones faltantes"
   ]
  },
  {
   "cell_type": "code",
   "execution_count": 14,
   "metadata": {},
   "outputs": [
    {
     "name": "stdout",
     "output_type": "stream",
     "text": [
      "St Petersburg FCT, Russia inserted\n",
      "BRISBANE, QL inserted\n",
      "Port Tangier Mediterranee, Morocco inserted\n",
      "Nansha New Port, Guangdong, China inserted\n",
      "PORT OF ITAGUAI inserted\n",
      "Hazira, GUJARAT, India inserted\n",
      "Sonepat, HARYANA, India inserted\n",
      "TEPEJI DEL RIO, HID inserted\n",
      "Auckland Metroport, New Zealand inserted\n",
      "Ambarli Port Istanbul, Turkey inserted\n",
      "Yuzhny, Ukraine inserted\n",
      "PITEAA inserted\n",
      "GARSTON/MERSYD. inserted\n",
      "BOLZANETO-RIONE DE GENOVA inserted\n"
     ]
    }
   ],
   "source": [
    "new_locations = [\n",
    "    {\n",
    "        \"location\"  : \"St Petersburg FCT, Russia\",\n",
    "        \"latitude\"  : 59.8737069,\n",
    "        \"longitude\" : 30.2197252\n",
    "    },\n",
    "    {\n",
    "        \"location\"  : \"BRISBANE, QL\",\n",
    "        \"latitude\"  : -27.4689682,\n",
    "        \"longitude\" : 153.0234991\n",
    "    },\n",
    "    {\n",
    "        \"location\"  : \"Port Tangier Mediterranee, Morocco\",\n",
    "        \"latitude\"  : 35.86076335,\n",
    "        \"longitude\" : -5.53755836602157\n",
    "    },\n",
    "    {\n",
    "        \"location\"  : \"Nansha New Port, Guangdong, China\",\n",
    "        \"latitude\"  : 22.76905225,\n",
    "        \"longitude\" : 113.60493282976\n",
    "    },\n",
    "    {\n",
    "        \"location\"  : \"PORT OF ITAGUAI\",\n",
    "        \"latitude\"  : -22.8629597,\n",
    "        \"longitude\" : -43.775322\n",
    "    },\n",
    "    {\n",
    "        \"location\"  : \"Hazira, GUJARAT, India\",\n",
    "        \"latitude\"  : 21.0956055,\n",
    "        \"longitude\" : 72.6466021\n",
    "    },\n",
    "    {\n",
    "        \"location\"  : \"Sonepat, HARYANA, India\",\n",
    "        \"latitude\"  : 29.05587195,\n",
    "        \"longitude\" : 76.895369282819\n",
    "    },\n",
    "    {\n",
    "        \"location\"  : \"TEPEJI DEL RIO, HID\",\n",
    "        \"latitude\"  : 19.89368265,\n",
    "        \"longitude\" : -99.3487181526625\n",
    "    },\n",
    "    {\n",
    "        \"location\"  : \"Auckland Metroport, New Zealand\",\n",
    "        \"latitude\"  : -36.9259849,\n",
    "        \"longitude\" : 174.816534034485\n",
    "    },\n",
    "    {\n",
    "        \"location\"  : \"Ambarli Port Istanbul, Turkey\",\n",
    "        \"latitude\"  : 40.9760031,\n",
    "        \"longitude\" : 28.7115604\n",
    "    },\n",
    "    {\n",
    "        \"location\"  : \"Yuzhny, Ukraine\",\n",
    "        \"latitude\"  : 46.6225879,\n",
    "        \"longitude\" : 31.0995364\n",
    "    },\n",
    "    {\n",
    "        \"location\"  : \"PITEAA\",\n",
    "        \"latitude\"  : 65.3134764,\n",
    "        \"longitude\" : 21.4899394\n",
    "    },\n",
    "    {\n",
    "        \"location\"  : \"GARSTON/MERSYD.\",\n",
    "        \"latitude\"  : 53.3522993,\n",
    "        \"longitude\" : -2.8961104\n",
    "    },\n",
    "    {\n",
    "        \"location\"  : \"BOLZANETO-RIONE DE GENOVA\",\n",
    "        \"latitude\"  : 44.458731,\n",
    "        \"longitude\" : 8.9014171\n",
    "    }\n",
    "]\n",
    "\n",
    "for location in new_locations:\n",
    "    count = locations.count_documents(location)\n",
    "    if count == 0:\n",
    "        result = locations.insert_one(location)\n",
    "        print(location[\"location\"], \"inserted\")"
   ]
  },
  {
   "cell_type": "code",
   "execution_count": 15,
   "metadata": {},
   "outputs": [
    {
     "name": "stdout",
     "output_type": "stream",
     "text": [
      "PORTLAND, OR already in database, replacing:\n",
      "4 matched, 1 modified\n",
      "BRISBANE, QL already in database, replacing:\n",
      "11 matched, 11 modified\n",
      "PORT OF ITAGUAI already in database, replacing:\n",
      "9 matched, 9 modified\n",
      "Ambarli Port Istanbul, Turkey already in database, replacing:\n",
      "42 matched, 42 modified\n",
      "Onne, Nigeria already in database, replacing:\n",
      "3 matched, 1 modified\n",
      "St Petersburg FCT, Russia already in database, replacing:\n",
      "75 matched, 75 modified\n",
      "Port Tangier Mediterranee, Morocco already in database, replacing:\n",
      "12 matched, 12 modified\n",
      "Yuzhny, Ukraine already in database, replacing:\n",
      "19 matched, 19 modified\n",
      "Ambarli Port Istanbul, Turkey already in database, replacing:\n",
      "42 matched, 0 modified\n",
      "MAZATLAN, SIN already in database, replacing:\n",
      "83 matched, 1 modified\n",
      "PITEAA already in database, replacing:\n",
      "20 matched, 20 modified\n",
      "GARSTON/MERSYD. already in database, replacing:\n",
      "8 matched, 8 modified\n",
      "Auckland Metroport, New Zealand already in database, replacing:\n",
      "16 matched, 16 modified\n",
      "TEPEJI DEL RIO, HID already in database, replacing:\n",
      "2 matched, 2 modified\n",
      "Hazira, GUJARAT, India already in database, replacing:\n",
      "11 matched, 2 modified\n",
      "Sonepat, HARYANA, India already in database, replacing:\n",
      "2 matched, 2 modified\n",
      "Nansha New Port, Guangdong, China already in database, replacing:\n",
      "39 matched, 39 modified\n",
      "BOLZANETO-RIONE DE GENOVA already in database, replacing:\n",
      "2 matched, 2 modified\n"
     ]
    }
   ],
   "source": [
    "pending = []\n",
    "cursor = movements.distinct(\"location\", {\n",
    "    \"latitude\"  : None,\n",
    "    \"longitude\" : None\n",
    "})\n",
    "for raw_location in cursor:\n",
    "    # Get location query\n",
    "    location_query = {\n",
    "        \"location\": raw_location.split(\"\\n\")[-1]\n",
    "    }\n",
    "    # Check if location exists in database\n",
    "    location = locations.find_one(location_query)\n",
    "    if location:\n",
    "        # Already in database, replace movements\n",
    "        print(location[\"location\"], \"already in database, replacing:\")\n",
    "        movement_query = {\n",
    "            \"location\": {\n",
    "                \"$regex\" : location[\"location\"]\n",
    "            }\n",
    "        }\n",
    "        movement_update = {\n",
    "            \"$set\" : {\n",
    "                \"latitude\"  : location[\"latitude\"],\n",
    "                \"longitude\" : location[\"longitude\"]\n",
    "            }\n",
    "        }\n",
    "        result = movements.update_many(movement_query, movement_update)\n",
    "        print(result.matched_count, \"matched,\", result.modified_count, \"modified\")\n",
    "    else:\n",
    "        pending.append(location_query[\"location\"])"
   ]
  },
  {
   "cell_type": "code",
   "execution_count": 16,
   "metadata": {},
   "outputs": [
    {
     "data": {
      "text/plain": [
       "['WORLD WIDE DUMMY LOCATION EQUIPMENT']"
      ]
     },
     "execution_count": 16,
     "metadata": {},
     "output_type": "execute_result"
    }
   ],
   "source": [
    "pending"
   ]
  },
  {
   "cell_type": "code",
   "execution_count": null,
   "metadata": {},
   "outputs": [],
   "source": []
  }
 ],
 "metadata": {
  "kernelspec": {
   "display_name": "Python 3",
   "language": "python",
   "name": "python3"
  },
  "language_info": {
   "codemirror_mode": {
    "name": "ipython",
    "version": 3
   },
   "file_extension": ".py",
   "mimetype": "text/x-python",
   "name": "python",
   "nbconvert_exporter": "python",
   "pygments_lexer": "ipython3",
   "version": "3.7.1"
  }
 },
 "nbformat": 4,
 "nbformat_minor": 2
}
