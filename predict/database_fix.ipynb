{
 "cells": [
  {
   "cell_type": "code",
   "execution_count": 26,
   "metadata": {},
   "outputs": [],
   "source": [
    "from pymongo import MongoClient"
   ]
  },
  {
   "cell_type": "code",
   "execution_count": 27,
   "metadata": {},
   "outputs": [],
   "source": [
    "database   = MongoClient()[\"scraper2\"]\n",
    "containers = database[\"containers\"]\n",
    "movements  = database[\"container_movements\"]\n",
    "locations  = database[\"locations\"]"
   ]
  },
  {
   "cell_type": "markdown",
   "metadata": {},
   "source": [
    "# Datos de la naviera"
   ]
  },
  {
   "cell_type": "markdown",
   "metadata": {},
   "source": [
    "## Maersk"
   ]
  },
  {
   "cell_type": "code",
   "execution_count": 28,
   "metadata": {},
   "outputs": [
    {
     "name": "stdout",
     "output_type": "stream",
     "text": [
      "3896 matched, 0 modified\n"
     ]
    }
   ],
   "source": [
    "query = {\n",
    "    \"container\": {\n",
    "        \"$regex\": \"(APMU|COZU|FAAU|FRLU|KNLU|LOTU|MAEU|MALU|MCAU|MCHU|MCRU|MHHU|MIEU|MMAU|MNBU|MRKU|MRSU|MSAU|MSFU|MSKU|MSWU|MVIU|MWCU|MWMU|OCLU|POCU|PONU|SCMU|TORU)\"\n",
    "    }\n",
    "}\n",
    "update = {\n",
    "    \"$set\": {\n",
    "        \"carrier\": \"Maersk\"\n",
    "    }\n",
    "}\n",
    "result = movements.update_many(query, update)\n",
    "print(result.matched_count, \"matched,\", result.modified_count, \"modified\")"
   ]
  },
  {
   "cell_type": "markdown",
   "metadata": {},
   "source": [
    "## Hapag-Lloyd"
   ]
  },
  {
   "cell_type": "code",
   "execution_count": 29,
   "metadata": {},
   "outputs": [
    {
     "name": "stdout",
     "output_type": "stream",
     "text": [
      "22600 matched, 0 modified\n"
     ]
    }
   ],
   "source": [
    "query = {\n",
    "    \"container\": {\n",
    "        \"$regex\": \"(AZLU|CASU|CMUU|CPSU|CSQU|CSVU|FANU|FSCU|HAMU|HLBU|HLCU|HLXU|ITAU|IVLU|LBIU|LNXU|LYKU|MOMU|QIBU|QNNU|TLEU|TMMU|UACU|UAEU|UASU)\"\n",
    "    }\n",
    "}\n",
    "update = {\n",
    "    \"$set\": {\n",
    "        \"carrier\": \"Hapag-Lloyd\"\n",
    "    }\n",
    "}\n",
    "result = movements.update_many(query, update)\n",
    "print(result.matched_count, \"matched,\", result.modified_count, \"modified\")"
   ]
  },
  {
   "cell_type": "markdown",
   "metadata": {},
   "source": [
    "## Evergreen"
   ]
  },
  {
   "cell_type": "code",
   "execution_count": 30,
   "metadata": {},
   "outputs": [
    {
     "name": "stdout",
     "output_type": "stream",
     "text": [
      "1671 matched, 0 modified\n"
     ]
    }
   ],
   "source": [
    "query = {\n",
    "    \"container\": {\n",
    "        \"$regex\": \"(EGHU|EGSU|EISU|EMCU|HMCU|IMTU|LTIU|UGMU)\"\n",
    "    }\n",
    "}\n",
    "update = {\n",
    "    \"$set\": {\n",
    "        \"carrier\": \"Evergreen\"\n",
    "    }\n",
    "}\n",
    "result = movements.update_many(query, update)\n",
    "print(result.matched_count, \"matched,\", result.modified_count, \"modified\")"
   ]
  },
  {
   "cell_type": "markdown",
   "metadata": {},
   "source": [
    "## Textainer"
   ]
  },
  {
   "cell_type": "code",
   "execution_count": 31,
   "metadata": {},
   "outputs": [],
   "source": [
    "query = {\n",
    "    \"container\": {\n",
    "        \"$regex\": \"(AMFU|AMZU|AXIU|CEOU|CHIU|CLHU|GAEU|GATU|GAZU|HCIU|KWCU|LLTU|MAGU|MAXU|MGLU|MLCU|PRSU|TEMU|TENU|TEXU|TGBU|TGHU|TXGU|WCIU|XINU)\"\n",
    "    },\n",
    "    \"processed\": True\n",
    "}\n",
    "select = {\n",
    "    \"_id\": 0,\n",
    "    \"container\": 1,\n",
    "    \"carrier\": 1\n",
    "}\n",
    "cursor = containers.find(query, select)"
   ]
  },
  {
   "cell_type": "code",
   "execution_count": 32,
   "metadata": {
    "scrolled": false
   },
   "outputs": [
    {
     "name": "stdout",
     "output_type": "stream",
     "text": [
      "1035 indexes, 4432 matched, 0 modified\n"
     ]
    }
   ],
   "source": [
    "matched_count  = 0\n",
    "modified_count = 0\n",
    "index = 1\n",
    "for textainer in cursor:\n",
    "    query2 = {\n",
    "        \"container\": textainer[\"container\"]\n",
    "    }\n",
    "    update = {\n",
    "        \"$set\": {\n",
    "            \"carrier\": textainer[\"carrier\"]\n",
    "        }\n",
    "    }\n",
    "    result = movements.update_many(query2, update)\n",
    "    matched_count += result.matched_count\n",
    "    modified_count += result.modified_count\n",
    "    index += 1\n",
    "print(index, \"indexes,\", matched_count, \"matched,\", modified_count, \"modified\")"
   ]
  },
  {
   "cell_type": "markdown",
   "metadata": {},
   "source": [
    "## Ubicaciones erróneas"
   ]
  },
  {
   "cell_type": "code",
   "execution_count": 35,
   "metadata": {},
   "outputs": [
    {
     "data": {
      "text/plain": [
       "[{'_id': ObjectId('5cb8385dac8d26eb3e104f62'),\n",
       "  'latitude': 46.138917,\n",
       "  'location': ' Salarno, Italy',\n",
       "  'longitude': 10.5204375},\n",
       " {'_id': ObjectId('5cb8681cac8d26eb3e106938'),\n",
       "  'latitude': 35.000074,\n",
       "  'location': ' SIN',\n",
       "  'longitude': 104.999927},\n",
       " {'_id': ObjectId('5cb87aefac8d26eb3e106ff1'),\n",
       "  'latitude': 31.1728205,\n",
       "  'location': ' Morocco',\n",
       "  'longitude': -7.3362482},\n",
       " {'_id': ObjectId('5cb8ed73ac8d26eb3e10a72d'),\n",
       "  'latitude': 14.9,\n",
       "  'location': ' QL',\n",
       "  'longitude': 43.016667},\n",
       " {'_id': ObjectId('5cba016cac8d26eb3e116618'),\n",
       "  'latitude': 64.6863136,\n",
       "  'location': ' Russia',\n",
       "  'longitude': 97.7453061}]"
      ]
     },
     "execution_count": 35,
     "metadata": {},
     "output_type": "execute_result"
    }
   ],
   "source": [
    "bad_locations = list(locations.find({\n",
    "    \"location\": {\n",
    "        \"$regex\": \"^ \"\n",
    "    }\n",
    "}))\n",
    "bad_locations"
   ]
  },
  {
   "cell_type": "code",
   "execution_count": 36,
   "metadata": {},
   "outputs": [
    {
     "name": "stdout",
     "output_type": "stream",
     "text": [
      "0 matched, 0 modified\n",
      "1 matched, 1 modified\n",
      "4 matched, 4 modified\n",
      "3 matched, 3 modified\n",
      "2 matched, 2 modified\n"
     ]
    }
   ],
   "source": [
    "for bad_location in bad_locations:\n",
    "    result = movements.update_many({\n",
    "        \"latitude\"  : bad_location[\"latitude\"],\n",
    "        \"longitude\" : bad_location[\"longitude\"]\n",
    "    }, {\n",
    "        \"$unset\": {\n",
    "            \"latitude\"  : True,\n",
    "            \"longitude\" : True\n",
    "        }\n",
    "    })\n",
    "    print(result.matched_count, \"matched,\", result.modified_count, \"modified\")"
   ]
  },
  {
   "cell_type": "code",
   "execution_count": null,
   "metadata": {},
   "outputs": [],
   "source": []
  }
 ],
 "metadata": {
  "kernelspec": {
   "display_name": "Python 3",
   "language": "python",
   "name": "python3"
  },
  "language_info": {
   "codemirror_mode": {
    "name": "ipython",
    "version": 3
   },
   "file_extension": ".py",
   "mimetype": "text/x-python",
   "name": "python",
   "nbconvert_exporter": "python",
   "pygments_lexer": "ipython3",
   "version": "3.5.3"
  }
 },
 "nbformat": 4,
 "nbformat_minor": 2
}
