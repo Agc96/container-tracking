{
 "cells": [
  {
   "cell_type": "code",
   "execution_count": 1,
   "metadata": {},
   "outputs": [],
   "source": [
    "from pymongo import MongoClient"
   ]
  },
  {
   "cell_type": "code",
   "execution_count": 9,
   "metadata": {},
   "outputs": [],
   "source": [
    "database   = MongoClient()[\"scraper2\"]\n",
    "containers = database[\"containers\"]\n",
    "movements  = database[\"container_movements\"]\n",
    "locations  = database[\"locations\"]"
   ]
  },
  {
   "cell_type": "markdown",
   "metadata": {},
   "source": [
    "# Datos de la naviera"
   ]
  },
  {
   "cell_type": "markdown",
   "metadata": {},
   "source": [
    "## Maersk"
   ]
  },
  {
   "cell_type": "code",
   "execution_count": 28,
   "metadata": {},
   "outputs": [
    {
     "name": "stdout",
     "output_type": "stream",
     "text": [
      "3896 matched, 0 modified\n"
     ]
    }
   ],
   "source": [
    "query = {\n",
    "    \"container\": {\n",
    "        \"$regex\": \"(APMU|COZU|FAAU|FRLU|KNLU|LOTU|MAEU|MALU|MCAU|MCHU|MCRU|MHHU|MIEU|MMAU|MNBU|MRKU|MRSU|MSAU|MSFU|MSKU|MSWU|MVIU|MWCU|MWMU|OCLU|POCU|PONU|SCMU|TORU)\"\n",
    "    }\n",
    "}\n",
    "update = {\n",
    "    \"$set\": {\n",
    "        \"carrier\": \"Maersk\"\n",
    "    }\n",
    "}\n",
    "result = movements.update_many(query, update)\n",
    "print(result.matched_count, \"matched,\", result.modified_count, \"modified\")"
   ]
  },
  {
   "cell_type": "markdown",
   "metadata": {},
   "source": [
    "## Hapag-Lloyd"
   ]
  },
  {
   "cell_type": "code",
   "execution_count": 29,
   "metadata": {},
   "outputs": [
    {
     "name": "stdout",
     "output_type": "stream",
     "text": [
      "22600 matched, 0 modified\n"
     ]
    }
   ],
   "source": [
    "query = {\n",
    "    \"container\": {\n",
    "        \"$regex\": \"(AZLU|CASU|CMUU|CPSU|CSQU|CSVU|FANU|FSCU|HAMU|HLBU|HLCU|HLXU|ITAU|IVLU|LBIU|LNXU|LYKU|MOMU|QIBU|QNNU|TLEU|TMMU|UACU|UAEU|UASU)\"\n",
    "    }\n",
    "}\n",
    "update = {\n",
    "    \"$set\": {\n",
    "        \"carrier\": \"Hapag-Lloyd\"\n",
    "    }\n",
    "}\n",
    "result = movements.update_many(query, update)\n",
    "print(result.matched_count, \"matched,\", result.modified_count, \"modified\")"
   ]
  },
  {
   "cell_type": "markdown",
   "metadata": {},
   "source": [
    "## Evergreen"
   ]
  },
  {
   "cell_type": "code",
   "execution_count": 30,
   "metadata": {},
   "outputs": [
    {
     "name": "stdout",
     "output_type": "stream",
     "text": [
      "1671 matched, 0 modified\n"
     ]
    }
   ],
   "source": [
    "query = {\n",
    "    \"container\": {\n",
    "        \"$regex\": \"(EGHU|EGSU|EISU|EMCU|HMCU|IMTU|LTIU|UGMU)\"\n",
    "    }\n",
    "}\n",
    "update = {\n",
    "    \"$set\": {\n",
    "        \"carrier\": \"Evergreen\"\n",
    "    }\n",
    "}\n",
    "result = movements.update_many(query, update)\n",
    "print(result.matched_count, \"matched,\", result.modified_count, \"modified\")"
   ]
  },
  {
   "cell_type": "markdown",
   "metadata": {},
   "source": [
    "## Textainer"
   ]
  },
  {
   "cell_type": "code",
   "execution_count": 31,
   "metadata": {},
   "outputs": [],
   "source": [
    "query = {\n",
    "    \"container\": {\n",
    "        \"$regex\": \"(AMFU|AMZU|AXIU|CEOU|CHIU|CLHU|GAEU|GATU|GAZU|HCIU|KWCU|LLTU|MAGU|MAXU|MGLU|MLCU|PRSU|TEMU|TENU|TEXU|TGBU|TGHU|TXGU|WCIU|XINU)\"\n",
    "    },\n",
    "    \"processed\": True\n",
    "}\n",
    "select = {\n",
    "    \"_id\": 0,\n",
    "    \"container\": 1,\n",
    "    \"carrier\": 1\n",
    "}\n",
    "cursor = containers.find(query, select)"
   ]
  },
  {
   "cell_type": "code",
   "execution_count": 32,
   "metadata": {
    "scrolled": false
   },
   "outputs": [
    {
     "name": "stdout",
     "output_type": "stream",
     "text": [
      "1035 indexes, 4432 matched, 0 modified\n"
     ]
    }
   ],
   "source": [
    "matched_count  = 0\n",
    "modified_count = 0\n",
    "index = 1\n",
    "for textainer in cursor:\n",
    "    query2 = {\n",
    "        \"container\": textainer[\"container\"]\n",
    "    }\n",
    "    update = {\n",
    "        \"$set\": {\n",
    "            \"carrier\": textainer[\"carrier\"]\n",
    "        }\n",
    "    }\n",
    "    result = movements.update_many(query2, update)\n",
    "    matched_count += result.matched_count\n",
    "    modified_count += result.modified_count\n",
    "    index += 1\n",
    "print(index, \"indexes,\", matched_count, \"matched,\", modified_count, \"modified\")"
   ]
  },
  {
   "cell_type": "markdown",
   "metadata": {},
   "source": [
    "## Ubicaciones erróneas"
   ]
  },
  {
   "cell_type": "code",
   "execution_count": 10,
   "metadata": {},
   "outputs": [
    {
     "name": "stdout",
     "output_type": "stream",
     "text": [
      "{'_id': ObjectId('5cb8385dac8d26eb3e104f62'), 'location': ' Salarno, Italy', 'latitude': 46.138917, 'longitude': 10.5204375}\n",
      "{'_id': ObjectId('5cb8681cac8d26eb3e106938'), 'location': ' SIN', 'latitude': 35.000074, 'longitude': 104.999927}\n",
      "{'_id': ObjectId('5cb87aefac8d26eb3e106ff1'), 'location': ' Morocco', 'latitude': 31.1728205, 'longitude': -7.3362482}\n",
      "{'_id': ObjectId('5cb8ed73ac8d26eb3e10a72d'), 'location': ' QL', 'latitude': 14.9, 'longitude': 43.016667}\n",
      "{'_id': ObjectId('5cba016cac8d26eb3e116618'), 'location': ' Russia', 'latitude': 64.6863136, 'longitude': 97.7453061}\n"
     ]
    }
   ],
   "source": [
    "query = locations.find({\n",
    "    \"location\": {\n",
    "        \"$regex\": \"^ \"\n",
    "    }\n",
    "})\n",
    "\n",
    "bad_locations = list(query)\n",
    "for location in bad_locations:\n",
    "    print(location)"
   ]
  },
  {
   "cell_type": "code",
   "execution_count": 7,
   "metadata": {},
   "outputs": [
    {
     "name": "stdout",
     "output_type": "stream",
     "text": [
      "0 matched, 0 modified\n",
      "1 matched, 1 modified\n",
      "4 matched, 4 modified\n",
      "3 matched, 3 modified\n",
      "2 matched, 2 modified\n"
     ]
    }
   ],
   "source": [
    "for location in bad_locations:\n",
    "    result = movements.update_many({\n",
    "        \"latitude\"  : location[\"latitude\"],\n",
    "        \"longitude\" : location[\"longitude\"]\n",
    "    }, {\n",
    "        \"$unset\": {\n",
    "            \"latitude\"  : True,\n",
    "            \"longitude\" : True\n",
    "        }\n",
    "    })\n",
    "    print(result.matched_count, \"matched,\", result.modified_count, \"modified\")"
   ]
  },
  {
   "cell_type": "code",
   "execution_count": 11,
   "metadata": {},
   "outputs": [
    {
     "name": "stdout",
     "output_type": "stream",
     "text": [
      "5\n"
     ]
    }
   ],
   "source": [
    "result = locations.delete_many({\n",
    "    \"location\": {\n",
    "        \"$regex\": \"^ \"\n",
    "    }\n",
    "})\n",
    "print(result.deleted_count)"
   ]
  },
  {
   "cell_type": "markdown",
   "metadata": {},
   "source": [
    "## Ubicaciones imprecisas"
   ]
  },
  {
   "cell_type": "code",
   "execution_count": 20,
   "metadata": {},
   "outputs": [
    {
     "name": "stdout",
     "output_type": "stream",
     "text": [
      "Maersk location: 1 matched, 0 modified\n",
      "Hapag-Lloyd location: 1 matched, 0 modified, None upserted\n",
      "Maersk movements: 182 matched, 0 modified\n",
      "Hapag-Lloyd movements: 28 matched, 0 modified\n"
     ]
    }
   ],
   "source": [
    "query_hapag = {\n",
    "    \"location\" : \"PORT KELANG\"\n",
    "}\n",
    "query_maersk = {\n",
    "    \"location\": {\n",
    "        \"$regex\": \"Port Klang\"\n",
    "    }\n",
    "}\n",
    "insert = {\n",
    "    \"latitude\"  : 2.9995164,\n",
    "    \"longitude\" : 101.39144825844\n",
    "}\n",
    "update = {\n",
    "    \"$set\" : {\n",
    "        \"latitude\"  : 2.9995164,\n",
    "        \"longitude\" : 101.39144825844\n",
    "    }\n",
    "}\n",
    "\n",
    "# Upsert locations\n",
    "result = locations.update_many(query_maersk, update)\n",
    "print(\"Maersk location:\", result.matched_count, \"matched,\", result.modified_count, \"modified\")\n",
    "result = locations.update_many(query_hapag, update, upsert = True)\n",
    "print(\"Hapag-Lloyd location:\", result.matched_count, \"matched,\", result.modified_count, \"modified,\",\n",
    "      result.upserted_id, \"upserted\")\n",
    "\n",
    "# Update movements\n",
    "result = movements.update_many(query_maersk, update)\n",
    "print(\"Maersk movements:\", result.matched_count, \"matched,\", result.modified_count, \"modified\")\n",
    "result = movements.update_many(query_hapag, update)\n",
    "print(\"Hapag-Lloyd movements:\", result.matched_count, \"matched,\", result.modified_count, \"modified\")"
   ]
  },
  {
   "cell_type": "code",
   "execution_count": 12,
   "metadata": {},
   "outputs": [
    {
     "name": "stdout",
     "output_type": "stream",
     "text": [
      "Location: 1 matched 1 modified\n",
      "Container movements: 3624 matched 3624 modified\n"
     ]
    }
   ],
   "source": [
    "query = {\n",
    "    \"location\" : \"SAN ANTONIO\"\n",
    "}\n",
    "update = {\n",
    "    \"$set\": {\n",
    "        \"latitude\"  : -33.5808615,\n",
    "        \"longitude\" : -71.6132377 \n",
    "    }\n",
    "}\n",
    "\n",
    "# Update location\n",
    "result = locations.update_many(query, update)\n",
    "print(\"Location:\", result.matched_count, \"matched,\", result.modified_count, \"modified\")\n",
    "# Update movements\n",
    "result = movements.update_many(query, update)\n",
    "print(\"Container movements:\", result.matched_count, \"matched,\", result.modified_count, \"modified\")"
   ]
  },
  {
   "cell_type": "code",
   "execution_count": 21,
   "metadata": {},
   "outputs": [
    {
     "name": "stdout",
     "output_type": "stream",
     "text": [
      "Hapag-Lloyd location: 0 matched, 0 modified, 5cc0fc067ea5731a6955e109 upserted\n",
      "Container movements: 14 matched, 14 modified\n"
     ]
    }
   ],
   "source": [
    "query = {\n",
    "    \"location\" : {\n",
    "        \"$regex\" : \"Salerno, Salarno, Italy\"\n",
    "    }\n",
    "}\n",
    "update = {\n",
    "    \"$set\" : {\n",
    "        \"latitude\"  : 40.6803601,\n",
    "        \"longitude\" : 14.7594542\n",
    "    }\n",
    "}\n",
    "\n",
    "# Upsert location\n",
    "result = locations.update_many(query, update, upsert = True)\n",
    "print(\"Hapag-Lloyd location:\", result.matched_count, \"matched,\", result.modified_count, \"modified,\",\n",
    "      result.upserted_id, \"upserted\")\n",
    "\n",
    "# Update movements\n",
    "result = movements.update_many(query, update)\n",
    "print(\"Container movements:\", result.matched_count, \"matched,\", result.modified_count, \"modified\")"
   ]
  },
  {
   "cell_type": "markdown",
   "metadata": {},
   "source": [
    "## Ubicaciones faltantes"
   ]
  },
  {
   "cell_type": "code",
   "execution_count": 34,
   "metadata": {},
   "outputs": [],
   "source": [
    "pending = []\n",
    "cursor = movements.distinct(\"location\", {\n",
    "    \"latitude\"  : None,\n",
    "    \"longitude\" : None\n",
    "})\n",
    "for raw_location in cursor:\n",
    "    # Get location query\n",
    "    location_query = {\n",
    "        \"location\": raw_location.split(\"\\n\")[-1]\n",
    "    }\n",
    "    # Check if location exists in database\n",
    "    location = locations.find_one(location_query)\n",
    "    if location:\n",
    "        # Already in database, replace movements\n",
    "        print(location[\"location\"], \"already in database, replacing:\")\n",
    "        movement_query = {\n",
    "            \"location\": {\n",
    "                \"$regex\" : location[\"location\"]\n",
    "            }\n",
    "        }\n",
    "        movement_update = {\n",
    "            \"$set\" : {\n",
    "                \"latitude\"  : location[\"latitude\"],\n",
    "                \"longitude\" : location[\"longitude\"]\n",
    "            }\n",
    "        }\n",
    "        result = movements.update_many(movement_query, movement_update)\n",
    "        print(result.matched_count, \"matched,\", result.modified_count, \"modified\")\n",
    "    else:\n",
    "        pending.append(location_query[\"location\"])"
   ]
  },
  {
   "cell_type": "code",
   "execution_count": 35,
   "metadata": {},
   "outputs": [
    {
     "data": {
      "text/plain": [
       "['BRISBANE, QL',\n",
       " 'PORT OF ITAGUAI',\n",
       " 'Ambarli Port Istanbul, Turkey',\n",
       " 'WORLD WIDE DUMMY LOCATION EQUIPMENT',\n",
       " 'St Petersburg FCT, Russia',\n",
       " 'Port Tangier Mediterranee, Morocco',\n",
       " 'Yuzhny, Ukraine',\n",
       " 'Ambarli Port Istanbul, Turkey',\n",
       " 'PITEAA',\n",
       " 'GARSTON/MERSYD.',\n",
       " 'Auckland Metroport, New Zealand',\n",
       " 'TEPEJI DEL RIO, HID',\n",
       " 'Hazira, GUJARAT, India',\n",
       " 'Sonepat, HARYANA, India',\n",
       " 'Nansha New Port, Guangdong, China']"
      ]
     },
     "execution_count": 35,
     "metadata": {},
     "output_type": "execute_result"
    }
   ],
   "source": [
    "pending"
   ]
  },
  {
   "cell_type": "code",
   "execution_count": null,
   "metadata": {},
   "outputs": [],
   "source": []
  }
 ],
 "metadata": {
  "kernelspec": {
   "display_name": "Python 3",
   "language": "python",
   "name": "python3"
  },
  "language_info": {
   "codemirror_mode": {
    "name": "ipython",
    "version": 3
   },
   "file_extension": ".py",
   "mimetype": "text/x-python",
   "name": "python",
   "nbconvert_exporter": "python",
   "pygments_lexer": "ipython3",
   "version": "3.7.0"
  }
 },
 "nbformat": 4,
 "nbformat_minor": 2
}
