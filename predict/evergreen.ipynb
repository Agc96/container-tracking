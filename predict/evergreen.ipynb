{
 "cells": [
  {
   "cell_type": "code",
   "execution_count": 1,
   "metadata": {},
   "outputs": [],
   "source": [
    "from pymongo import MongoClient"
   ]
  },
  {
   "cell_type": "code",
   "execution_count": 2,
   "metadata": {},
   "outputs": [],
   "source": [
    "database   = MongoClient()[\"scraper2\"]\n",
    "containers = database[\"containers\"]\n",
    "movements  = database[\"container_movements\"]"
   ]
  },
  {
   "cell_type": "code",
   "execution_count": 4,
   "metadata": {
    "scrolled": false
   },
   "outputs": [
    {
     "data": {
      "text/plain": [
       "436"
      ]
     },
     "execution_count": 4,
     "metadata": {},
     "output_type": "execute_result"
    }
   ],
   "source": [
    "evergreen = set()\n",
    "query = {\n",
    "    \"carrier\": \"Evergreen\",\n",
    "    \"status\": {\n",
    "        \"$in\": [\"Loaded (FCL) on vessel\", \"Received (FCL)\", \"Received\", \"Discharged (FCL)\"]\n",
    "    }\n",
    "}\n",
    "for movement in movements.find(query):\n",
    "    evergreen.add(movement[\"container\"])\n",
    "\n",
    "evergreen = list(evergreen)\n",
    "len(evergreen)"
   ]
  },
  {
   "cell_type": "code",
   "execution_count": 7,
   "metadata": {
    "scrolled": true
   },
   "outputs": [
    {
     "name": "stdout",
     "output_type": "stream",
     "text": [
      "438 matched, 0 modified\n"
     ]
    }
   ],
   "source": [
    "query = {\n",
    "    \"container\": {\n",
    "        \"$in\": evergreen\n",
    "    }\n",
    "}\n",
    "update = {\n",
    "    \"$set\": {\n",
    "        \"processed\": False\n",
    "    }\n",
    "}\n",
    "result = containers.update_many(query, update)\n",
    "print(result.matched_count, \"matched,\", result.modified_count, \"modified\")"
   ]
  },
  {
   "cell_type": "code",
   "execution_count": null,
   "metadata": {},
   "outputs": [],
   "source": []
  }
 ],
 "metadata": {
  "kernelspec": {
   "display_name": "Python 3",
   "language": "python",
   "name": "python3"
  },
  "language_info": {
   "codemirror_mode": {
    "name": "ipython",
    "version": 3
   },
   "file_extension": ".py",
   "mimetype": "text/x-python",
   "name": "python",
   "nbconvert_exporter": "python",
   "pygments_lexer": "ipython3",
   "version": "3.7.1"
  }
 },
 "nbformat": 4,
 "nbformat_minor": 2
}
