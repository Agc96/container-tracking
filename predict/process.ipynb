{
 "cells": [
  {
   "cell_type": "code",
   "execution_count": 54,
   "metadata": {},
   "outputs": [],
   "source": [
    "from sklearn.model_selection import train_test_split\n",
    "\n",
    "from sklearn.linear_model import LinearRegression\n",
    "from sklearn.isotonic import IsotonicRegression\n",
    "from sklearn.ensemble import RandomForestRegressor\n",
    "from sklearn.tree import DecisionTreeRegressor\n",
    "from sklearn.svm import SVR\n",
    "from sklearn.neural_network import MLPRegressor"
   ]
  },
  {
   "cell_type": "code",
   "execution_count": 2,
   "metadata": {},
   "outputs": [],
   "source": [
    "import pandas as pd\n",
    "import numpy as np"
   ]
  },
  {
   "cell_type": "markdown",
   "metadata": {},
   "source": [
    "# Datasets"
   ]
  },
  {
   "cell_type": "code",
   "execution_count": 3,
   "metadata": {},
   "outputs": [],
   "source": [
    "maersk      = pd.read_csv(\"preprocess-20190425/Maersk-train.csv\", index_col = \"container\")\n",
    "hapag_lloyd = pd.read_csv(\"preprocess-20190425/Hapag-Lloyd-train.csv\", index_col = \"container\")\n",
    "evergreen   = pd.read_csv(\"preprocess-20190425/Evergreen-train.csv\", index_col = \"container\")"
   ]
  },
  {
   "cell_type": "markdown",
   "metadata": {},
   "source": [
    "**Usamos las coordenadas geográficas para poder predecir el tiempo de llegada de los contenedores.**\n",
    "\n",
    "Conservamos la columna del contenedor para poder apreciar la data de forma legible.<br>\n",
    "Al momento de entrenar con las técnicas de aprendizaje de máquina a usar, se limpiará esta columna."
   ]
  },
  {
   "cell_type": "code",
   "execution_count": 4,
   "metadata": {},
   "outputs": [],
   "source": [
    "columns = [\"carrier\", \"first_latitude\", \"first_longitude\", \"last_latitude\", \"last_longitude\", \"timedelta\"]\n",
    "\n",
    "maersk      = maersk[columns]\n",
    "hapag_lloyd = hapag_lloyd[columns]\n",
    "evergreen   = evergreen[columns]"
   ]
  },
  {
   "cell_type": "markdown",
   "metadata": {},
   "source": [
    "### Maersk"
   ]
  },
  {
   "cell_type": "code",
   "execution_count": 5,
   "metadata": {},
   "outputs": [
    {
     "data": {
      "text/html": [
       "<div>\n",
       "<style scoped>\n",
       "    .dataframe tbody tr th:only-of-type {\n",
       "        vertical-align: middle;\n",
       "    }\n",
       "\n",
       "    .dataframe tbody tr th {\n",
       "        vertical-align: top;\n",
       "    }\n",
       "\n",
       "    .dataframe thead th {\n",
       "        text-align: right;\n",
       "    }\n",
       "</style>\n",
       "<table border=\"1\" class=\"dataframe\">\n",
       "  <thead>\n",
       "    <tr style=\"text-align: right;\">\n",
       "      <th></th>\n",
       "      <th>carrier</th>\n",
       "      <th>first_latitude</th>\n",
       "      <th>first_longitude</th>\n",
       "      <th>last_latitude</th>\n",
       "      <th>last_longitude</th>\n",
       "      <th>timedelta</th>\n",
       "    </tr>\n",
       "    <tr>\n",
       "      <th>container</th>\n",
       "      <th></th>\n",
       "      <th></th>\n",
       "      <th></th>\n",
       "      <th></th>\n",
       "      <th></th>\n",
       "      <th></th>\n",
       "    </tr>\n",
       "  </thead>\n",
       "  <tbody>\n",
       "    <tr>\n",
       "      <th>MRKU2577274</th>\n",
       "      <td>1</td>\n",
       "      <td>13.097055</td>\n",
       "      <td>100.915227</td>\n",
       "      <td>-33.045846</td>\n",
       "      <td>-71.619675</td>\n",
       "      <td>50.211111</td>\n",
       "    </tr>\n",
       "    <tr>\n",
       "      <th>MNBU3341806</th>\n",
       "      <td>1</td>\n",
       "      <td>31.225344</td>\n",
       "      <td>121.488892</td>\n",
       "      <td>-12.066667</td>\n",
       "      <td>-77.150000</td>\n",
       "      <td>43.877083</td>\n",
       "    </tr>\n",
       "    <tr>\n",
       "      <th>MSKU3220679</th>\n",
       "      <td>1</td>\n",
       "      <td>31.225344</td>\n",
       "      <td>121.488892</td>\n",
       "      <td>-12.066667</td>\n",
       "      <td>-77.150000</td>\n",
       "      <td>40.819444</td>\n",
       "    </tr>\n",
       "    <tr>\n",
       "      <th>MSKU6382164</th>\n",
       "      <td>1</td>\n",
       "      <td>31.225344</td>\n",
       "      <td>121.488892</td>\n",
       "      <td>-12.066667</td>\n",
       "      <td>-77.150000</td>\n",
       "      <td>40.902083</td>\n",
       "    </tr>\n",
       "    <tr>\n",
       "      <th>MNBU3258585</th>\n",
       "      <td>1</td>\n",
       "      <td>22.350627</td>\n",
       "      <td>114.184916</td>\n",
       "      <td>-12.066667</td>\n",
       "      <td>-77.150000</td>\n",
       "      <td>45.912500</td>\n",
       "    </tr>\n",
       "  </tbody>\n",
       "</table>\n",
       "</div>"
      ],
      "text/plain": [
       "             carrier  first_latitude  first_longitude  last_latitude  \\\n",
       "container                                                              \n",
       "MRKU2577274        1       13.097055       100.915227     -33.045846   \n",
       "MNBU3341806        1       31.225344       121.488892     -12.066667   \n",
       "MSKU3220679        1       31.225344       121.488892     -12.066667   \n",
       "MSKU6382164        1       31.225344       121.488892     -12.066667   \n",
       "MNBU3258585        1       22.350627       114.184916     -12.066667   \n",
       "\n",
       "             last_longitude  timedelta  \n",
       "container                               \n",
       "MRKU2577274      -71.619675  50.211111  \n",
       "MNBU3341806      -77.150000  43.877083  \n",
       "MSKU3220679      -77.150000  40.819444  \n",
       "MSKU6382164      -77.150000  40.902083  \n",
       "MNBU3258585      -77.150000  45.912500  "
      ]
     },
     "execution_count": 5,
     "metadata": {},
     "output_type": "execute_result"
    }
   ],
   "source": [
    "maersk.head()"
   ]
  },
  {
   "cell_type": "code",
   "execution_count": 6,
   "metadata": {},
   "outputs": [
    {
     "data": {
      "text/html": [
       "<div>\n",
       "<style scoped>\n",
       "    .dataframe tbody tr th:only-of-type {\n",
       "        vertical-align: middle;\n",
       "    }\n",
       "\n",
       "    .dataframe tbody tr th {\n",
       "        vertical-align: top;\n",
       "    }\n",
       "\n",
       "    .dataframe thead th {\n",
       "        text-align: right;\n",
       "    }\n",
       "</style>\n",
       "<table border=\"1\" class=\"dataframe\">\n",
       "  <thead>\n",
       "    <tr style=\"text-align: right;\">\n",
       "      <th></th>\n",
       "      <th>carrier</th>\n",
       "      <th>first_latitude</th>\n",
       "      <th>first_longitude</th>\n",
       "      <th>last_latitude</th>\n",
       "      <th>last_longitude</th>\n",
       "      <th>timedelta</th>\n",
       "    </tr>\n",
       "    <tr>\n",
       "      <th>container</th>\n",
       "      <th></th>\n",
       "      <th></th>\n",
       "      <th></th>\n",
       "      <th></th>\n",
       "      <th></th>\n",
       "      <th></th>\n",
       "    </tr>\n",
       "  </thead>\n",
       "  <tbody>\n",
       "    <tr>\n",
       "      <th>MRKU5849530</th>\n",
       "      <td>1</td>\n",
       "      <td>49.453872</td>\n",
       "      <td>11.077298</td>\n",
       "      <td>-33.045846</td>\n",
       "      <td>-71.619675</td>\n",
       "      <td>39.093056</td>\n",
       "    </tr>\n",
       "    <tr>\n",
       "      <th>MRKU7584912</th>\n",
       "      <td>1</td>\n",
       "      <td>49.453872</td>\n",
       "      <td>11.077298</td>\n",
       "      <td>-33.045846</td>\n",
       "      <td>-71.619675</td>\n",
       "      <td>43.445833</td>\n",
       "    </tr>\n",
       "    <tr>\n",
       "      <th>MSKU0099666</th>\n",
       "      <td>1</td>\n",
       "      <td>49.453872</td>\n",
       "      <td>11.077298</td>\n",
       "      <td>-33.045846</td>\n",
       "      <td>-71.619675</td>\n",
       "      <td>39.134028</td>\n",
       "    </tr>\n",
       "    <tr>\n",
       "      <th>MRSU4150258</th>\n",
       "      <td>1</td>\n",
       "      <td>48.395497</td>\n",
       "      <td>10.005890</td>\n",
       "      <td>-33.045846</td>\n",
       "      <td>-71.619675</td>\n",
       "      <td>42.896528</td>\n",
       "    </tr>\n",
       "    <tr>\n",
       "      <th>MRKU4464913</th>\n",
       "      <td>1</td>\n",
       "      <td>48.395497</td>\n",
       "      <td>10.005890</td>\n",
       "      <td>-33.045846</td>\n",
       "      <td>-71.619675</td>\n",
       "      <td>42.550694</td>\n",
       "    </tr>\n",
       "  </tbody>\n",
       "</table>\n",
       "</div>"
      ],
      "text/plain": [
       "             carrier  first_latitude  first_longitude  last_latitude  \\\n",
       "container                                                              \n",
       "MRKU5849530        1       49.453872        11.077298     -33.045846   \n",
       "MRKU7584912        1       49.453872        11.077298     -33.045846   \n",
       "MSKU0099666        1       49.453872        11.077298     -33.045846   \n",
       "MRSU4150258        1       48.395497        10.005890     -33.045846   \n",
       "MRKU4464913        1       48.395497        10.005890     -33.045846   \n",
       "\n",
       "             last_longitude  timedelta  \n",
       "container                               \n",
       "MRKU5849530      -71.619675  39.093056  \n",
       "MRKU7584912      -71.619675  43.445833  \n",
       "MSKU0099666      -71.619675  39.134028  \n",
       "MRSU4150258      -71.619675  42.896528  \n",
       "MRKU4464913      -71.619675  42.550694  "
      ]
     },
     "execution_count": 6,
     "metadata": {},
     "output_type": "execute_result"
    }
   ],
   "source": [
    "maersk.tail()"
   ]
  },
  {
   "cell_type": "markdown",
   "metadata": {},
   "source": [
    "### Hapag-Lloyd"
   ]
  },
  {
   "cell_type": "code",
   "execution_count": 7,
   "metadata": {},
   "outputs": [
    {
     "data": {
      "text/html": [
       "<div>\n",
       "<style scoped>\n",
       "    .dataframe tbody tr th:only-of-type {\n",
       "        vertical-align: middle;\n",
       "    }\n",
       "\n",
       "    .dataframe tbody tr th {\n",
       "        vertical-align: top;\n",
       "    }\n",
       "\n",
       "    .dataframe thead th {\n",
       "        text-align: right;\n",
       "    }\n",
       "</style>\n",
       "<table border=\"1\" class=\"dataframe\">\n",
       "  <thead>\n",
       "    <tr style=\"text-align: right;\">\n",
       "      <th></th>\n",
       "      <th>carrier</th>\n",
       "      <th>first_latitude</th>\n",
       "      <th>first_longitude</th>\n",
       "      <th>last_latitude</th>\n",
       "      <th>last_longitude</th>\n",
       "      <th>timedelta</th>\n",
       "    </tr>\n",
       "    <tr>\n",
       "      <th>container</th>\n",
       "      <th></th>\n",
       "      <th></th>\n",
       "      <th></th>\n",
       "      <th></th>\n",
       "      <th></th>\n",
       "      <th></th>\n",
       "    </tr>\n",
       "  </thead>\n",
       "  <tbody>\n",
       "    <tr>\n",
       "      <th>TGHU0538924</th>\n",
       "      <td>2</td>\n",
       "      <td>25.798845</td>\n",
       "      <td>-100.372833</td>\n",
       "      <td>-12.066667</td>\n",
       "      <td>-77.15</td>\n",
       "      <td>38.034028</td>\n",
       "    </tr>\n",
       "    <tr>\n",
       "      <th>UACU5989812</th>\n",
       "      <td>2</td>\n",
       "      <td>19.432601</td>\n",
       "      <td>-99.133342</td>\n",
       "      <td>-12.066667</td>\n",
       "      <td>-77.15</td>\n",
       "      <td>20.341667</td>\n",
       "    </tr>\n",
       "    <tr>\n",
       "      <th>TGHU6111924</th>\n",
       "      <td>2</td>\n",
       "      <td>22.330800</td>\n",
       "      <td>91.841286</td>\n",
       "      <td>-12.066667</td>\n",
       "      <td>-77.15</td>\n",
       "      <td>58.904167</td>\n",
       "    </tr>\n",
       "    <tr>\n",
       "      <th>HLBU1218814</th>\n",
       "      <td>2</td>\n",
       "      <td>22.330800</td>\n",
       "      <td>91.841286</td>\n",
       "      <td>-12.066667</td>\n",
       "      <td>-77.15</td>\n",
       "      <td>58.649306</td>\n",
       "    </tr>\n",
       "    <tr>\n",
       "      <th>HLXU8347810</th>\n",
       "      <td>2</td>\n",
       "      <td>22.330800</td>\n",
       "      <td>91.841286</td>\n",
       "      <td>-12.066667</td>\n",
       "      <td>-77.15</td>\n",
       "      <td>56.311806</td>\n",
       "    </tr>\n",
       "  </tbody>\n",
       "</table>\n",
       "</div>"
      ],
      "text/plain": [
       "             carrier  first_latitude  first_longitude  last_latitude  \\\n",
       "container                                                              \n",
       "TGHU0538924        2       25.798845      -100.372833     -12.066667   \n",
       "UACU5989812        2       19.432601       -99.133342     -12.066667   \n",
       "TGHU6111924        2       22.330800        91.841286     -12.066667   \n",
       "HLBU1218814        2       22.330800        91.841286     -12.066667   \n",
       "HLXU8347810        2       22.330800        91.841286     -12.066667   \n",
       "\n",
       "             last_longitude  timedelta  \n",
       "container                               \n",
       "TGHU0538924          -77.15  38.034028  \n",
       "UACU5989812          -77.15  20.341667  \n",
       "TGHU6111924          -77.15  58.904167  \n",
       "HLBU1218814          -77.15  58.649306  \n",
       "HLXU8347810          -77.15  56.311806  "
      ]
     },
     "execution_count": 7,
     "metadata": {},
     "output_type": "execute_result"
    }
   ],
   "source": [
    "hapag_lloyd.head()"
   ]
  },
  {
   "cell_type": "code",
   "execution_count": 8,
   "metadata": {},
   "outputs": [
    {
     "data": {
      "text/html": [
       "<div>\n",
       "<style scoped>\n",
       "    .dataframe tbody tr th:only-of-type {\n",
       "        vertical-align: middle;\n",
       "    }\n",
       "\n",
       "    .dataframe tbody tr th {\n",
       "        vertical-align: top;\n",
       "    }\n",
       "\n",
       "    .dataframe thead th {\n",
       "        text-align: right;\n",
       "    }\n",
       "</style>\n",
       "<table border=\"1\" class=\"dataframe\">\n",
       "  <thead>\n",
       "    <tr style=\"text-align: right;\">\n",
       "      <th></th>\n",
       "      <th>carrier</th>\n",
       "      <th>first_latitude</th>\n",
       "      <th>first_longitude</th>\n",
       "      <th>last_latitude</th>\n",
       "      <th>last_longitude</th>\n",
       "      <th>timedelta</th>\n",
       "    </tr>\n",
       "    <tr>\n",
       "      <th>container</th>\n",
       "      <th></th>\n",
       "      <th></th>\n",
       "      <th></th>\n",
       "      <th></th>\n",
       "      <th></th>\n",
       "      <th></th>\n",
       "    </tr>\n",
       "  </thead>\n",
       "  <tbody>\n",
       "    <tr>\n",
       "      <th>HLXU5085471</th>\n",
       "      <td>2</td>\n",
       "      <td>27.211944</td>\n",
       "      <td>119.571389</td>\n",
       "      <td>-12.066667</td>\n",
       "      <td>-77.150000</td>\n",
       "      <td>59.839583</td>\n",
       "    </tr>\n",
       "    <tr>\n",
       "      <th>HLXU3255650</th>\n",
       "      <td>2</td>\n",
       "      <td>-6.175394</td>\n",
       "      <td>106.827183</td>\n",
       "      <td>-12.066667</td>\n",
       "      <td>-77.150000</td>\n",
       "      <td>55.025694</td>\n",
       "    </tr>\n",
       "    <tr>\n",
       "      <th>HLXU5266968</th>\n",
       "      <td>2</td>\n",
       "      <td>23.182451</td>\n",
       "      <td>113.476086</td>\n",
       "      <td>-12.066667</td>\n",
       "      <td>-77.150000</td>\n",
       "      <td>57.204861</td>\n",
       "    </tr>\n",
       "    <tr>\n",
       "      <th>UACU8282470</th>\n",
       "      <td>2</td>\n",
       "      <td>19.432601</td>\n",
       "      <td>-99.133342</td>\n",
       "      <td>-12.066667</td>\n",
       "      <td>-77.150000</td>\n",
       "      <td>25.288194</td>\n",
       "    </tr>\n",
       "    <tr>\n",
       "      <th>FSCU5670046</th>\n",
       "      <td>2</td>\n",
       "      <td>51.221110</td>\n",
       "      <td>4.399708</td>\n",
       "      <td>36.846292</td>\n",
       "      <td>-76.292925</td>\n",
       "      <td>28.386111</td>\n",
       "    </tr>\n",
       "  </tbody>\n",
       "</table>\n",
       "</div>"
      ],
      "text/plain": [
       "             carrier  first_latitude  first_longitude  last_latitude  \\\n",
       "container                                                              \n",
       "HLXU5085471        2       27.211944       119.571389     -12.066667   \n",
       "HLXU3255650        2       -6.175394       106.827183     -12.066667   \n",
       "HLXU5266968        2       23.182451       113.476086     -12.066667   \n",
       "UACU8282470        2       19.432601       -99.133342     -12.066667   \n",
       "FSCU5670046        2       51.221110         4.399708      36.846292   \n",
       "\n",
       "             last_longitude  timedelta  \n",
       "container                               \n",
       "HLXU5085471      -77.150000  59.839583  \n",
       "HLXU3255650      -77.150000  55.025694  \n",
       "HLXU5266968      -77.150000  57.204861  \n",
       "UACU8282470      -77.150000  25.288194  \n",
       "FSCU5670046      -76.292925  28.386111  "
      ]
     },
     "execution_count": 8,
     "metadata": {},
     "output_type": "execute_result"
    }
   ],
   "source": [
    "hapag_lloyd.tail()"
   ]
  },
  {
   "cell_type": "markdown",
   "metadata": {},
   "source": [
    "### Evergreen"
   ]
  },
  {
   "cell_type": "code",
   "execution_count": 9,
   "metadata": {},
   "outputs": [
    {
     "data": {
      "text/html": [
       "<div>\n",
       "<style scoped>\n",
       "    .dataframe tbody tr th:only-of-type {\n",
       "        vertical-align: middle;\n",
       "    }\n",
       "\n",
       "    .dataframe tbody tr th {\n",
       "        vertical-align: top;\n",
       "    }\n",
       "\n",
       "    .dataframe thead th {\n",
       "        text-align: right;\n",
       "    }\n",
       "</style>\n",
       "<table border=\"1\" class=\"dataframe\">\n",
       "  <thead>\n",
       "    <tr style=\"text-align: right;\">\n",
       "      <th></th>\n",
       "      <th>carrier</th>\n",
       "      <th>first_latitude</th>\n",
       "      <th>first_longitude</th>\n",
       "      <th>last_latitude</th>\n",
       "      <th>last_longitude</th>\n",
       "      <th>timedelta</th>\n",
       "    </tr>\n",
       "    <tr>\n",
       "      <th>container</th>\n",
       "      <th></th>\n",
       "      <th></th>\n",
       "      <th></th>\n",
       "      <th></th>\n",
       "      <th></th>\n",
       "      <th></th>\n",
       "    </tr>\n",
       "  </thead>\n",
       "  <tbody>\n",
       "    <tr>\n",
       "      <th>EISU5704208</th>\n",
       "      <td>3</td>\n",
       "      <td>22.620335</td>\n",
       "      <td>120.312038</td>\n",
       "      <td>-33.580861</td>\n",
       "      <td>-71.613238</td>\n",
       "      <td>61.0</td>\n",
       "    </tr>\n",
       "    <tr>\n",
       "      <th>TEMU3454933</th>\n",
       "      <td>3</td>\n",
       "      <td>-12.066667</td>\n",
       "      <td>-77.150000</td>\n",
       "      <td>8.347996</td>\n",
       "      <td>-78.897173</td>\n",
       "      <td>11.0</td>\n",
       "    </tr>\n",
       "    <tr>\n",
       "      <th>EGHU3277563</th>\n",
       "      <td>3</td>\n",
       "      <td>-12.066667</td>\n",
       "      <td>-77.150000</td>\n",
       "      <td>19.127657</td>\n",
       "      <td>-104.284126</td>\n",
       "      <td>12.0</td>\n",
       "    </tr>\n",
       "    <tr>\n",
       "      <th>EGHU3275196</th>\n",
       "      <td>3</td>\n",
       "      <td>-12.066667</td>\n",
       "      <td>-77.150000</td>\n",
       "      <td>19.127657</td>\n",
       "      <td>-104.284126</td>\n",
       "      <td>12.0</td>\n",
       "    </tr>\n",
       "    <tr>\n",
       "      <th>EGHU9142586</th>\n",
       "      <td>3</td>\n",
       "      <td>-12.066667</td>\n",
       "      <td>-77.150000</td>\n",
       "      <td>8.347996</td>\n",
       "      <td>-78.897173</td>\n",
       "      <td>11.0</td>\n",
       "    </tr>\n",
       "  </tbody>\n",
       "</table>\n",
       "</div>"
      ],
      "text/plain": [
       "             carrier  first_latitude  first_longitude  last_latitude  \\\n",
       "container                                                              \n",
       "EISU5704208        3       22.620335       120.312038     -33.580861   \n",
       "TEMU3454933        3      -12.066667       -77.150000       8.347996   \n",
       "EGHU3277563        3      -12.066667       -77.150000      19.127657   \n",
       "EGHU3275196        3      -12.066667       -77.150000      19.127657   \n",
       "EGHU9142586        3      -12.066667       -77.150000       8.347996   \n",
       "\n",
       "             last_longitude  timedelta  \n",
       "container                               \n",
       "EISU5704208      -71.613238       61.0  \n",
       "TEMU3454933      -78.897173       11.0  \n",
       "EGHU3277563     -104.284126       12.0  \n",
       "EGHU3275196     -104.284126       12.0  \n",
       "EGHU9142586      -78.897173       11.0  "
      ]
     },
     "execution_count": 9,
     "metadata": {},
     "output_type": "execute_result"
    }
   ],
   "source": [
    "evergreen.head()"
   ]
  },
  {
   "cell_type": "code",
   "execution_count": 10,
   "metadata": {},
   "outputs": [
    {
     "data": {
      "text/html": [
       "<div>\n",
       "<style scoped>\n",
       "    .dataframe tbody tr th:only-of-type {\n",
       "        vertical-align: middle;\n",
       "    }\n",
       "\n",
       "    .dataframe tbody tr th {\n",
       "        vertical-align: top;\n",
       "    }\n",
       "\n",
       "    .dataframe thead th {\n",
       "        text-align: right;\n",
       "    }\n",
       "</style>\n",
       "<table border=\"1\" class=\"dataframe\">\n",
       "  <thead>\n",
       "    <tr style=\"text-align: right;\">\n",
       "      <th></th>\n",
       "      <th>carrier</th>\n",
       "      <th>first_latitude</th>\n",
       "      <th>first_longitude</th>\n",
       "      <th>last_latitude</th>\n",
       "      <th>last_longitude</th>\n",
       "      <th>timedelta</th>\n",
       "    </tr>\n",
       "    <tr>\n",
       "      <th>container</th>\n",
       "      <th></th>\n",
       "      <th></th>\n",
       "      <th></th>\n",
       "      <th></th>\n",
       "      <th></th>\n",
       "      <th></th>\n",
       "    </tr>\n",
       "  </thead>\n",
       "  <tbody>\n",
       "    <tr>\n",
       "      <th>HMCU9167806</th>\n",
       "      <td>3</td>\n",
       "      <td>-12.066667</td>\n",
       "      <td>-77.15</td>\n",
       "      <td>3.889933</td>\n",
       "      <td>-77.078605</td>\n",
       "      <td>4.0</td>\n",
       "    </tr>\n",
       "    <tr>\n",
       "      <th>EGSU3036148</th>\n",
       "      <td>3</td>\n",
       "      <td>-12.066667</td>\n",
       "      <td>-77.15</td>\n",
       "      <td>8.347996</td>\n",
       "      <td>-78.897173</td>\n",
       "      <td>7.0</td>\n",
       "    </tr>\n",
       "    <tr>\n",
       "      <th>EISU2086127</th>\n",
       "      <td>3</td>\n",
       "      <td>-12.066667</td>\n",
       "      <td>-77.15</td>\n",
       "      <td>8.347996</td>\n",
       "      <td>-78.897173</td>\n",
       "      <td>7.0</td>\n",
       "    </tr>\n",
       "    <tr>\n",
       "      <th>EMCU6081938</th>\n",
       "      <td>3</td>\n",
       "      <td>-12.066667</td>\n",
       "      <td>-77.15</td>\n",
       "      <td>8.347996</td>\n",
       "      <td>-78.897173</td>\n",
       "      <td>7.0</td>\n",
       "    </tr>\n",
       "    <tr>\n",
       "      <th>EGSU9089973</th>\n",
       "      <td>3</td>\n",
       "      <td>-12.066667</td>\n",
       "      <td>-77.15</td>\n",
       "      <td>23.182451</td>\n",
       "      <td>113.476086</td>\n",
       "      <td>35.0</td>\n",
       "    </tr>\n",
       "  </tbody>\n",
       "</table>\n",
       "</div>"
      ],
      "text/plain": [
       "             carrier  first_latitude  first_longitude  last_latitude  \\\n",
       "container                                                              \n",
       "HMCU9167806        3      -12.066667           -77.15       3.889933   \n",
       "EGSU3036148        3      -12.066667           -77.15       8.347996   \n",
       "EISU2086127        3      -12.066667           -77.15       8.347996   \n",
       "EMCU6081938        3      -12.066667           -77.15       8.347996   \n",
       "EGSU9089973        3      -12.066667           -77.15      23.182451   \n",
       "\n",
       "             last_longitude  timedelta  \n",
       "container                               \n",
       "HMCU9167806      -77.078605        4.0  \n",
       "EGSU3036148      -78.897173        7.0  \n",
       "EISU2086127      -78.897173        7.0  \n",
       "EMCU6081938      -78.897173        7.0  \n",
       "EGSU9089973      113.476086       35.0  "
      ]
     },
     "execution_count": 10,
     "metadata": {},
     "output_type": "execute_result"
    }
   ],
   "source": [
    "evergreen.tail()"
   ]
  },
  {
   "cell_type": "markdown",
   "metadata": {},
   "source": [
    "### Juntar datasets"
   ]
  },
  {
   "cell_type": "code",
   "execution_count": 11,
   "metadata": {},
   "outputs": [
    {
     "name": "stdout",
     "output_type": "stream",
     "text": [
      "4986 containers\n"
     ]
    }
   ],
   "source": [
    "dataset = pd.concat([maersk, hapag_lloyd, evergreen])\n",
    "print(len(dataset), \"containers\")"
   ]
  },
  {
   "cell_type": "code",
   "execution_count": 12,
   "metadata": {},
   "outputs": [
    {
     "name": "stdout",
     "output_type": "stream",
     "text": [
      "(4986, 5)\n",
      "(4986,)\n"
     ]
    }
   ],
   "source": [
    "X = dataset.drop(\"timedelta\", axis = 1, inplace = False).values\n",
    "Y = dataset[\"timedelta\"].values\n",
    "\n",
    "print(X.shape)\n",
    "print(Y.shape)"
   ]
  },
  {
   "cell_type": "code",
   "execution_count": 13,
   "metadata": {},
   "outputs": [
    {
     "data": {
      "text/plain": [
       "array([[  1.        ,  13.0970555 , 100.9152266 , -33.0458456 ,\n",
       "        -71.6196749 ],\n",
       "       [  1.        ,  31.2253441 , 121.4888922 , -12.066667  ,\n",
       "        -77.15      ],\n",
       "       [  1.        ,  31.2253441 , 121.4888922 , -12.066667  ,\n",
       "        -77.15      ],\n",
       "       ...,\n",
       "       [  3.        , -12.066667  , -77.15      ,   8.3479957 ,\n",
       "        -78.89717298],\n",
       "       [  3.        , -12.066667  , -77.15      ,   8.3479957 ,\n",
       "        -78.89717298],\n",
       "       [  3.        , -12.066667  , -77.15      ,  23.1824507 ,\n",
       "        113.4760861 ]])"
      ]
     },
     "execution_count": 13,
     "metadata": {},
     "output_type": "execute_result"
    }
   ],
   "source": [
    "X"
   ]
  },
  {
   "cell_type": "code",
   "execution_count": 14,
   "metadata": {},
   "outputs": [
    {
     "data": {
      "text/plain": [
       "array([50.21111111, 43.87708333, 40.81944444, ...,  7.        ,\n",
       "        7.        , 35.        ])"
      ]
     },
     "execution_count": 14,
     "metadata": {},
     "output_type": "execute_result"
    }
   ],
   "source": [
    "Y"
   ]
  },
  {
   "cell_type": "markdown",
   "metadata": {},
   "source": [
    "# Regresión/Predicción usando ML"
   ]
  },
  {
   "cell_type": "code",
   "execution_count": 15,
   "metadata": {},
   "outputs": [],
   "source": [
    "X_train, X_test, Y_train, Y_test = train_test_split(X, Y)"
   ]
  },
  {
   "cell_type": "code",
   "execution_count": 16,
   "metadata": {},
   "outputs": [
    {
     "name": "stdout",
     "output_type": "stream",
     "text": [
      "3739 to train, 1247 to test\n"
     ]
    }
   ],
   "source": [
    "print(len(X_train), \"to train,\", len(X_test), \"to test\")"
   ]
  },
  {
   "cell_type": "markdown",
   "metadata": {},
   "source": [
    "### Random forests"
   ]
  },
  {
   "cell_type": "code",
   "execution_count": 77,
   "metadata": {},
   "outputs": [
    {
     "data": {
      "text/plain": [
       "RandomForestRegressor(bootstrap=True, criterion='mse', max_depth=None,\n",
       "           max_features='auto', max_leaf_nodes=None,\n",
       "           min_impurity_decrease=0.0, min_impurity_split=None,\n",
       "           min_samples_leaf=1, min_samples_split=2,\n",
       "           min_weight_fraction_leaf=0.0, n_estimators=1000, n_jobs=None,\n",
       "           oob_score=False, random_state=0, verbose=0, warm_start=False)"
      ]
     },
     "execution_count": 77,
     "metadata": {},
     "output_type": "execute_result"
    }
   ],
   "source": [
    "regr = RandomForestRegressor(n_estimators = 1000, random_state = 0)\n",
    "regr.fit(X_train, Y_train)"
   ]
  },
  {
   "cell_type": "code",
   "execution_count": 78,
   "metadata": {},
   "outputs": [
    {
     "name": "stdout",
     "output_type": "stream",
     "text": [
      "[0.04123115 0.21304011 0.53074729 0.08760478 0.12737667]\n"
     ]
    }
   ],
   "source": [
    "print(regr.feature_importances_)"
   ]
  },
  {
   "cell_type": "code",
   "execution_count": 79,
   "metadata": {},
   "outputs": [
    {
     "data": {
      "text/plain": [
       "0.7782161092446388"
      ]
     },
     "execution_count": 79,
     "metadata": {},
     "output_type": "execute_result"
    }
   ],
   "source": [
    "regr.score(X_test, Y_test)"
   ]
  },
  {
   "cell_type": "markdown",
   "metadata": {},
   "source": [
    "### Decision trees"
   ]
  },
  {
   "cell_type": "code",
   "execution_count": 120,
   "metadata": {},
   "outputs": [
    {
     "data": {
      "text/plain": [
       "DecisionTreeRegressor(criterion='mse', max_depth=None, max_features=None,\n",
       "           max_leaf_nodes=None, min_impurity_decrease=0.0,\n",
       "           min_impurity_split=None, min_samples_leaf=1,\n",
       "           min_samples_split=2, min_weight_fraction_leaf=0.0,\n",
       "           presort=False, random_state=None, splitter='best')"
      ]
     },
     "execution_count": 120,
     "metadata": {},
     "output_type": "execute_result"
    }
   ],
   "source": [
    "regr = DecisionTreeRegressor(random_state = 0)\n",
    "regr.fit(X_train, Y_train)"
   ]
  },
  {
   "cell_type": "code",
   "execution_count": 121,
   "metadata": {},
   "outputs": [
    {
     "name": "stdout",
     "output_type": "stream",
     "text": [
      "[0.02747649 0.20596234 0.55978234 0.08461522 0.12216361]\n"
     ]
    }
   ],
   "source": [
    "print(regr.feature_importances_)"
   ]
  },
  {
   "cell_type": "code",
   "execution_count": 122,
   "metadata": {},
   "outputs": [
    {
     "data": {
      "text/plain": [
       "0.7572128530822195"
      ]
     },
     "execution_count": 122,
     "metadata": {},
     "output_type": "execute_result"
    }
   ],
   "source": [
    "regr.score(X_test, Y_test)"
   ]
  },
  {
   "cell_type": "markdown",
   "metadata": {},
   "source": [
    "### Support Vector Machines para regresión"
   ]
  },
  {
   "cell_type": "code",
   "execution_count": 36,
   "metadata": {},
   "outputs": [],
   "source": [
    "svr  = SVR(gamma = \"auto\")\n",
    "regr = GridSearchCV(svr, )"
   ]
  },
  {
   "cell_type": "code",
   "execution_count": 38,
   "metadata": {},
   "outputs": [
    {
     "data": {
      "text/plain": [
       "SVR(C=1.0, cache_size=200, coef0=0.0, degree=3, epsilon=0.2, gamma='auto',\n",
       "  kernel='rbf', max_iter=-1, shrinking=True, tol=0.001, verbose=False)"
      ]
     },
     "execution_count": 38,
     "metadata": {},
     "output_type": "execute_result"
    }
   ],
   "source": [
    "regr.fit(X_train, Y_train)"
   ]
  },
  {
   "cell_type": "code",
   "execution_count": 39,
   "metadata": {},
   "outputs": [
    {
     "data": {
      "text/plain": [
       "0.38074622527983587"
      ]
     },
     "execution_count": 39,
     "metadata": {},
     "output_type": "execute_result"
    }
   ],
   "source": [
    "regr.score(X_test, Y_test)"
   ]
  },
  {
   "cell_type": "markdown",
   "metadata": {},
   "source": [
    "### Perceptrón multicapa"
   ]
  },
  {
   "cell_type": "code",
   "execution_count": 52,
   "metadata": {
    "scrolled": true
   },
   "outputs": [
    {
     "data": {
      "text/plain": [
       "MLPRegressor(activation='logistic', alpha=0.0001, batch_size='auto',\n",
       "       beta_1=0.9, beta_2=0.999, early_stopping=False, epsilon=1e-08,\n",
       "       hidden_layer_sizes=(100, 100), learning_rate='constant',\n",
       "       learning_rate_init=0.001, max_iter=5000, momentum=0.9,\n",
       "       n_iter_no_change=10, nesterovs_momentum=True, power_t=0.5,\n",
       "       random_state=0, shuffle=True, solver='adam', tol=0.0001,\n",
       "       validation_fraction=0.1, verbose=False, warm_start=False)"
      ]
     },
     "execution_count": 52,
     "metadata": {},
     "output_type": "execute_result"
    }
   ],
   "source": [
    "# hidden_layer_sizes = (100, 100)\n",
    "regr = MLPRegressor(random_state = 0, max_iter = 5000, activation = \"logistic\", hidden_layer_sizes = (100, 100))\n",
    "regr.fit(X_train, Y_train)"
   ]
  },
  {
   "cell_type": "code",
   "execution_count": 53,
   "metadata": {},
   "outputs": [
    {
     "data": {
      "text/plain": [
       "0.6902932457581137"
      ]
     },
     "execution_count": 53,
     "metadata": {},
     "output_type": "execute_result"
    }
   ],
   "source": [
    "regr.score(X_test, Y_test)"
   ]
  },
  {
   "cell_type": "code",
   "execution_count": null,
   "metadata": {},
   "outputs": [],
   "source": []
  }
 ],
 "metadata": {
  "kernelspec": {
   "display_name": "Python 3",
   "language": "python",
   "name": "python3"
  },
  "language_info": {
   "codemirror_mode": {
    "name": "ipython",
    "version": 3
   },
   "file_extension": ".py",
   "mimetype": "text/x-python",
   "name": "python",
   "nbconvert_exporter": "python",
   "pygments_lexer": "ipython3",
   "version": "3.5.3"
  }
 },
 "nbformat": 4,
 "nbformat_minor": 2
}
