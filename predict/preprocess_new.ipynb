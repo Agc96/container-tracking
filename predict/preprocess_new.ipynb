{
 "cells": [
  {
   "cell_type": "code",
   "execution_count": 1,
   "metadata": {},
   "outputs": [],
   "source": [
    "from pymongo import MongoClient, ASCENDING, DESCENDING\n",
    "\n",
    "import pandas as pd\n",
    "import numpy as np"
   ]
  },
  {
   "cell_type": "code",
   "execution_count": 2,
   "metadata": {},
   "outputs": [],
   "source": [
    "class TrackingPreprocessor:\n",
    "    \n",
    "    # TODO: No hardcodear esto\n",
    "    CARRIERS = {\n",
    "        \"Maersk\"      : 1,\n",
    "        \"Hapag-Lloyd\" : 2,\n",
    "        \"Evergreen\"   : 3\n",
    "    }\n",
    "    VEHICLES = {\n",
    "        \"Vessel\" : 1,\n",
    "        \"Truck\"  : 2,\n",
    "        \"Train\"  : 3\n",
    "    }\n",
    "    \n",
    "    def __init__(self):\n",
    "        self.scraper_database   = MongoClient()[\"scraper2\"]\n",
    "        self.scraper_containers = self.scraper_database[\"containers\"]\n",
    "        self.scraper_movements  = self.scraper_database[\"container_movements\"]\n",
    "        self.scraper_statuses   = self.scraper_database[\"container_statuses\"]\n",
    "    \n",
    "    def evaluate_carrier(self, carrier):\n",
    "        preprocessed, estimated, one_movement, no_movements, incoherent = [], [], [], [], []\n",
    "        \n",
    "        # Iterate through container query\n",
    "        for container in self.query_containers(carrier):\n",
    "            movements = list(self.query_movements(container))\n",
    "            \n",
    "            # Case no movements found\n",
    "            if len(movements) == 0:\n",
    "                no_movements.append(container)\n",
    "                continue\n",
    "            # Case only one movement found\n",
    "            first_movement = movements[0]\n",
    "            if len(movements) == 1:\n",
    "                self.save_one_movement(one_movement, container, first_movement)\n",
    "                continue\n",
    "            \n",
    "            # Get first and last movements\n",
    "            last_movement  = movements[-1]\n",
    "            # Case last movement is estimated (first one doesn't matter)\n",
    "            if last_movement[\"estimated\"] == True:\n",
    "                self.save_movements(estimated, container, first_movement, last_movement)\n",
    "                continue\n",
    "            # Case both movements contain real data\n",
    "            if first_movement[\"estimated\"] == False:\n",
    "                self.preprocess_movements(preprocessed, container, carrier, first_movement, last_movement)\n",
    "                continue\n",
    "            \n",
    "            # This case should never happen\n",
    "            self.save_movements(incoherent, container, first_movement, last_movement)\n",
    "        \n",
    "        # Return values after preprocessing\n",
    "        return preprocessed, estimated, one_movement, no_movements, incoherent\n",
    "    \n",
    "    def query_containers(self, carrier):\n",
    "        query = {\n",
    "            \"carrier\"   : carrier,\n",
    "            \"processed\" : True\n",
    "        }\n",
    "        return self.scraper_containers.distinct(\"container\", query)\n",
    "    \n",
    "    def query_movements(self, container):\n",
    "        query = {\n",
    "            \"container\" : container\n",
    "        }\n",
    "        return self.scraper_movements.find(query).sort([(\"date\", ASCENDING), (\"_id\", ASCENDING)])\n",
    "    \n",
    "    def save_one_movement(self, movements, container, movement):\n",
    "        movements.append({\n",
    "            \"container\" : container,\n",
    "            \"date\"      : movement[\"date\"],\n",
    "            \"status\"    : movement[\"status\"],\n",
    "            \"location\"  : movement[\"location\"]\n",
    "        })\n",
    "    \n",
    "    def save_movements(self, movements, container, first_movement, last_movement):\n",
    "        movements.append({\n",
    "            \"container\"      : container,\n",
    "            \"first_date\"     : first_movement[\"date\"],\n",
    "            \"first_location\" : first_movement[\"location\"],\n",
    "            \"first_status\"   : first_movement[\"status\"],\n",
    "            \"last_date\"      : last_movement[\"date\"],\n",
    "            \"last_location\"  : last_movement[\"location\"],\n",
    "            \"last_status\"    : last_movement[\"status\"]\n",
    "        })\n",
    "    \n",
    "    def preprocess_movements(self, movements, container, carrier, first_movement, last_movement):\n",
    "        movements.append({\n",
    "        # General information\n",
    "            \"container\"       : container,\n",
    "            \"carrier\"         : self.CARRIERS.get(carrier, 0),\n",
    "            \"elapsed_days\"    : self.get_elapsed_days(first_movement, last_movement),\n",
    "            # First container information\n",
    "            \"first_date\"        : first_movement[\"date\"],\n",
    "            \"first_status\"      : first_movement[\"status\"],\n",
    "            \"first_status_code\" : self.get_status_code(first_movement, carrier),\n",
    "            \"first_location\"    : first_movement[\"location\"],\n",
    "            \"first_latitude\"    : first_movement.get(\"latitude\", None),\n",
    "            \"first_longitude\"   : first_movement.get(\"longitude\", None),\n",
    "            \"first_vehicle\"     : self.get_vehicle_code(first_movement),\n",
    "            # Last container information\n",
    "            \"last_date\"         : last_movement[\"date\"],\n",
    "            \"last_status\"       : last_movement[\"status\"],\n",
    "            \"last_status_code\"  : self.get_status_code(last_movement, carrier),\n",
    "            \"last_location\"     : last_movement[\"location\"],\n",
    "            \"last_latitude\"     : last_movement.get(\"latitude\", None),\n",
    "            \"last_longitude\"    : last_movement.get(\"longitude\", None),\n",
    "            \"last_vehicle\"      : self.get_vehicle_code(last_movement)\n",
    "        })\n",
    "    \n",
    "    def get_elapsed_days(self, first_movement, last_movement):\n",
    "        timedelta = last_movement[\"date\"] - first_movement[\"date\"]\n",
    "        return timedelta.days + timedelta.seconds/(3600*24)\n",
    "    \n",
    "    def get_status_code(self, movement, carrier):\n",
    "        if \"status_code\" in movement:\n",
    "            return int(movement[\"status_code\"])\n",
    "        # Lookup in database\n",
    "        query = {\n",
    "            carrier: movement[\"status\"]\n",
    "        }\n",
    "        result = self.scraper_statuses.find_one(query)\n",
    "        return int(result[\"code\"]) if result else 0\n",
    "    \n",
    "    def get_vehicle_code(self, movement):\n",
    "        if \"vehicle\" not in movement:\n",
    "            return 0\n",
    "        if \"vehicle_code\" in movement:\n",
    "            return movement[\"vehicle_code\"]\n",
    "        # Lookup in enumeration\n",
    "        return self.VEHICLES.get(movement[\"vehicle\"], 0)"
   ]
  },
  {
   "cell_type": "code",
   "execution_count": 3,
   "metadata": {},
   "outputs": [],
   "source": [
    "preprocessor = TrackingPreprocessor()"
   ]
  },
  {
   "cell_type": "markdown",
   "metadata": {},
   "source": [
    "## Maersk"
   ]
  },
  {
   "cell_type": "code",
   "execution_count": 4,
   "metadata": {},
   "outputs": [],
   "source": [
    "maersk = preprocessor.evaluate_carrier(\"Maersk\")"
   ]
  },
  {
   "cell_type": "code",
   "execution_count": 5,
   "metadata": {},
   "outputs": [],
   "source": [
    "maersk_train = pd.DataFrame(maersk[0])\n",
    "maersk_train.to_csv(\"preprocess/maersk-train-20190419.csv\")"
   ]
  },
  {
   "cell_type": "code",
   "execution_count": 6,
   "metadata": {},
   "outputs": [],
   "source": [
    "maersk_estimated = pd.DataFrame(maersk[1])\n",
    "maersk_estimated.to_csv(\"preprocess/maersk-estimated-20190419.csv\")"
   ]
  },
  {
   "cell_type": "code",
   "execution_count": 7,
   "metadata": {},
   "outputs": [],
   "source": [
    "with open(\"preprocess/maersk-empty-20190419.txt\", \"w\") as file:\n",
    "    for container in maersk[3]:\n",
    "        file.write(container + \"\\n\")"
   ]
  },
  {
   "cell_type": "markdown",
   "metadata": {},
   "source": [
    "## Evergreen"
   ]
  },
  {
   "cell_type": "code",
   "execution_count": 8,
   "metadata": {},
   "outputs": [],
   "source": [
    "evergreen = preprocessor.evaluate_carrier(\"Evergreen\")"
   ]
  },
  {
   "cell_type": "code",
   "execution_count": 9,
   "metadata": {},
   "outputs": [],
   "source": [
    "evergreen_train = pd.DataFrame(evergreen[0])\n",
    "evergreen_train.to_csv(\"preprocess/evergreen-multiple-20190419.csv\")"
   ]
  },
  {
   "cell_type": "code",
   "execution_count": 10,
   "metadata": {},
   "outputs": [],
   "source": [
    "evergreen_single = pd.DataFrame(evergreen[2])\n",
    "evergreen_single.to_csv(\"preprocess/evergreen-single-20190419.csv\")"
   ]
  },
  {
   "cell_type": "markdown",
   "metadata": {},
   "source": [
    "## Hapag-Lloyd"
   ]
  },
  {
   "cell_type": "code",
   "execution_count": 11,
   "metadata": {},
   "outputs": [],
   "source": [
    "hapaglloyd = preprocessor.evaluate_carrier(\"Hapag-Lloyd\")"
   ]
  },
  {
   "cell_type": "code",
   "execution_count": 12,
   "metadata": {},
   "outputs": [],
   "source": [
    "hapaglloyd_train = pd.DataFrame(hapaglloyd[0])\n",
    "hapaglloyd_train.to_csv(\"preprocess/hapaglloyd-train-20190419.csv\")"
   ]
  },
  {
   "cell_type": "code",
   "execution_count": 13,
   "metadata": {
    "scrolled": true
   },
   "outputs": [],
   "source": [
    "hapaglloyd_estimated = pd.DataFrame(hapaglloyd[1])\n",
    "hapaglloyd_estimated.to_csv(\"preprocess/hapaglloyd-estimated-20190419.csv\")"
   ]
  },
  {
   "cell_type": "code",
   "execution_count": 14,
   "metadata": {},
   "outputs": [],
   "source": [
    "with open(\"preprocess/hapaglloyd-empty-20190419.txt\", \"w\") as file:\n",
    "    for container in hapaglloyd[3]:\n",
    "        file.write(container + \"\\n\")"
   ]
  },
  {
   "cell_type": "code",
   "execution_count": null,
   "metadata": {},
   "outputs": [],
   "source": []
  }
 ],
 "metadata": {
  "kernelspec": {
   "display_name": "Python 3",
   "language": "python",
   "name": "python3"
  },
  "language_info": {
   "codemirror_mode": {
    "name": "ipython",
    "version": 3
   },
   "file_extension": ".py",
   "mimetype": "text/x-python",
   "name": "python",
   "nbconvert_exporter": "python",
   "pygments_lexer": "ipython3",
   "version": "3.5.3"
  }
 },
 "nbformat": 4,
 "nbformat_minor": 2
}
