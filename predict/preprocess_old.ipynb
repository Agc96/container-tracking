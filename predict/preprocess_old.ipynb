{
 "cells": [
  {
   "cell_type": "code",
   "execution_count": 1,
   "metadata": {},
   "outputs": [],
   "source": [
    "from pymongo import MongoClient\n",
    "\n",
    "import pandas as pd\n",
    "import numpy as np"
   ]
  },
  {
   "cell_type": "code",
   "execution_count": 2,
   "metadata": {},
   "outputs": [],
   "source": [
    "database         = MongoClient()[\"scraper2\"]\n",
    "containers_table = database[\"containers\"]\n",
    "movements_table  = database[\"container_movements\"]\n",
    "prefixes_table   = database[\"container_prefixes\"]\n",
    "statuses_table   = database[\"statuses\"]"
   ]
  },
  {
   "cell_type": "code",
   "execution_count": 3,
   "metadata": {},
   "outputs": [],
   "source": [
    "select = {\n",
    "    \"_id\": 0,\n",
    "    \"container\": 1,\n",
    "    \"date\": 1,\n",
    "    \"location\": 1,\n",
    "    \"latitude\": 1,\n",
    "    \"longitude\": 1,\n",
    "    \"status\": 1,\n",
    "    \"estimated\": 1,\n",
    "    \"transport_type\": 1\n",
    "}"
   ]
  },
  {
   "cell_type": "markdown",
   "metadata": {},
   "source": [
    "## Obtener contenedores y movimientos"
   ]
  },
  {
   "cell_type": "code",
   "execution_count": 6,
   "metadata": {},
   "outputs": [
    {
     "data": {
      "text/plain": [
       "3346"
      ]
     },
     "execution_count": 6,
     "metadata": {},
     "output_type": "execute_result"
    }
   ],
   "source": [
    "containers = containers_table.distinct(\"container\", {\"processed\": True})\n",
    "len(containers)"
   ]
  },
  {
   "cell_type": "code",
   "execution_count": 7,
   "metadata": {},
   "outputs": [],
   "source": [
    "select = {\n",
    "    \"container\": 1,\n",
    "    \"carrier\": 1,\n",
    "    \"date\": 1,\n",
    "    \"location\": 1,\n",
    "    \"latitude\": 1,\n",
    "    \"longitude\": 1,\n",
    "    \"status\": 1,\n",
    "    \"estimated\": 1,\n",
    "    \"transport_type\": 1\n",
    "}"
   ]
  },
  {
   "cell_type": "markdown",
   "metadata": {},
   "source": [
    "## Preprocesar datos"
   ]
  },
  {
   "cell_type": "code",
   "execution_count": 8,
   "metadata": {},
   "outputs": [],
   "source": [
    "def preprocess(movement, container):\n",
    "    # Get vehicle type as number\n",
    "    transport_type = movement.get(\"transport_type\")\n",
    "    if transport_type == \"Vessel\":\n",
    "        movement[\"vehicle\"] = 1\n",
    "    elif transport_type == \"Truck\":\n",
    "        movement[\"vehicle\"] = 2\n",
    "    else:\n",
    "        movement[\"vehicle\"] = 0\n",
    "    \n",
    "    # Get status type as number\n",
    "    status = statuses_table.find_one({\n",
    "        movement[\"carrier\"]: movement[\"status\"]\n",
    "    })\n",
    "    movement[\"status_code\"] = int(status[\"code\"]) if status else 0\n",
    "    \n",
    "    return movement"
   ]
  },
  {
   "cell_type": "code",
   "execution_count": 9,
   "metadata": {},
   "outputs": [
    {
     "data": {
      "text/plain": [
       "8907"
      ]
     },
     "execution_count": 9,
     "metadata": {},
     "output_type": "execute_result"
    }
   ],
   "source": [
    "movements = []\n",
    "for container in containers:\n",
    "    partial_movements = list(movements_table.find({\"container\": container}, select))\n",
    "    if len(partial_movements) <= 1:\n",
    "        continue\n",
    "    for movement in partial_movements:\n",
    "        movements.append(preprocess(movement, container))\n",
    "len(movements)"
   ]
  },
  {
   "cell_type": "markdown",
   "metadata": {},
   "source": [
    "## Dataframe preprocfesado"
   ]
  },
  {
   "cell_type": "code",
   "execution_count": 10,
   "metadata": {},
   "outputs": [],
   "source": [
    "data = pd.DataFrame(movements).drop([\"_id\", \"status\", \"transport_type\", \"location\", \"carrier\"], 1)"
   ]
  },
  {
   "cell_type": "code",
   "execution_count": 11,
   "metadata": {},
   "outputs": [
    {
     "data": {
      "text/html": [
       "<div>\n",
       "<style scoped>\n",
       "    .dataframe tbody tr th:only-of-type {\n",
       "        vertical-align: middle;\n",
       "    }\n",
       "\n",
       "    .dataframe tbody tr th {\n",
       "        vertical-align: top;\n",
       "    }\n",
       "\n",
       "    .dataframe thead th {\n",
       "        text-align: right;\n",
       "    }\n",
       "</style>\n",
       "<table border=\"1\" class=\"dataframe\">\n",
       "  <thead>\n",
       "    <tr style=\"text-align: right;\">\n",
       "      <th></th>\n",
       "      <th>container</th>\n",
       "      <th>date</th>\n",
       "      <th>estimated</th>\n",
       "      <th>latitude</th>\n",
       "      <th>longitude</th>\n",
       "      <th>status_code</th>\n",
       "      <th>vehicle</th>\n",
       "    </tr>\n",
       "  </thead>\n",
       "  <tbody>\n",
       "    <tr>\n",
       "      <th>0</th>\n",
       "      <td>TEMU9040627</td>\n",
       "      <td>2019-04-12 21:56:00</td>\n",
       "      <td>False</td>\n",
       "      <td>-33.045846</td>\n",
       "      <td>-71.619675</td>\n",
       "      <td>1</td>\n",
       "      <td>2</td>\n",
       "    </tr>\n",
       "    <tr>\n",
       "      <th>1</th>\n",
       "      <td>TEMU9040627</td>\n",
       "      <td>2019-04-17 21:00:00</td>\n",
       "      <td>True</td>\n",
       "      <td>-33.045846</td>\n",
       "      <td>-71.619675</td>\n",
       "      <td>0</td>\n",
       "      <td>1</td>\n",
       "    </tr>\n",
       "    <tr>\n",
       "      <th>2</th>\n",
       "      <td>TEMU9040627</td>\n",
       "      <td>2019-05-10 01:00:00</td>\n",
       "      <td>True</td>\n",
       "      <td>22.279328</td>\n",
       "      <td>114.162813</td>\n",
       "      <td>0</td>\n",
       "      <td>1</td>\n",
       "    </tr>\n",
       "    <tr>\n",
       "      <th>3</th>\n",
       "      <td>TGHU0538924</td>\n",
       "      <td>2019-03-05 16:21:00</td>\n",
       "      <td>False</td>\n",
       "      <td>25.798845</td>\n",
       "      <td>-100.372833</td>\n",
       "      <td>1</td>\n",
       "      <td>2</td>\n",
       "    </tr>\n",
       "    <tr>\n",
       "      <th>4</th>\n",
       "      <td>TGHU0538924</td>\n",
       "      <td>2019-03-11 17:59:00</td>\n",
       "      <td>False</td>\n",
       "      <td>19.127657</td>\n",
       "      <td>-104.284126</td>\n",
       "      <td>2</td>\n",
       "      <td>2</td>\n",
       "    </tr>\n",
       "  </tbody>\n",
       "</table>\n",
       "</div>"
      ],
      "text/plain": [
       "     container                date  estimated   latitude   longitude  \\\n",
       "0  TEMU9040627 2019-04-12 21:56:00      False -33.045846  -71.619675   \n",
       "1  TEMU9040627 2019-04-17 21:00:00       True -33.045846  -71.619675   \n",
       "2  TEMU9040627 2019-05-10 01:00:00       True  22.279328  114.162813   \n",
       "3  TGHU0538924 2019-03-05 16:21:00      False  25.798845 -100.372833   \n",
       "4  TGHU0538924 2019-03-11 17:59:00      False  19.127657 -104.284126   \n",
       "\n",
       "   status_code  vehicle  \n",
       "0            1        2  \n",
       "1            0        1  \n",
       "2            0        1  \n",
       "3            1        2  \n",
       "4            2        2  "
      ]
     },
     "execution_count": 11,
     "metadata": {},
     "output_type": "execute_result"
    }
   ],
   "source": [
    "data.head()"
   ]
  },
  {
   "cell_type": "code",
   "execution_count": 12,
   "metadata": {},
   "outputs": [
    {
     "data": {
      "text/html": [
       "<div>\n",
       "<style scoped>\n",
       "    .dataframe tbody tr th:only-of-type {\n",
       "        vertical-align: middle;\n",
       "    }\n",
       "\n",
       "    .dataframe tbody tr th {\n",
       "        vertical-align: top;\n",
       "    }\n",
       "\n",
       "    .dataframe thead th {\n",
       "        text-align: right;\n",
       "    }\n",
       "</style>\n",
       "<table border=\"1\" class=\"dataframe\">\n",
       "  <thead>\n",
       "    <tr style=\"text-align: right;\">\n",
       "      <th></th>\n",
       "      <th>container</th>\n",
       "      <th>date</th>\n",
       "      <th>estimated</th>\n",
       "      <th>latitude</th>\n",
       "      <th>longitude</th>\n",
       "      <th>status_code</th>\n",
       "      <th>vehicle</th>\n",
       "    </tr>\n",
       "  </thead>\n",
       "  <tbody>\n",
       "    <tr>\n",
       "      <th>8902</th>\n",
       "      <td>FSCU5670046</td>\n",
       "      <td>2019-04-07 09:25:00</td>\n",
       "      <td>False</td>\n",
       "      <td>36.846292</td>\n",
       "      <td>-76.292925</td>\n",
       "      <td>7</td>\n",
       "      <td>1</td>\n",
       "    </tr>\n",
       "    <tr>\n",
       "      <th>8903</th>\n",
       "      <td>FSCU5670046</td>\n",
       "      <td>2019-03-12 07:33:00</td>\n",
       "      <td>False</td>\n",
       "      <td>51.221110</td>\n",
       "      <td>4.399708</td>\n",
       "      <td>1</td>\n",
       "      <td>2</td>\n",
       "    </tr>\n",
       "    <tr>\n",
       "      <th>8904</th>\n",
       "      <td>EGSU9089973</td>\n",
       "      <td>2019-03-07 00:00:00</td>\n",
       "      <td>False</td>\n",
       "      <td>-12.066667</td>\n",
       "      <td>-77.150000</td>\n",
       "      <td>3</td>\n",
       "      <td>1</td>\n",
       "    </tr>\n",
       "    <tr>\n",
       "      <th>8905</th>\n",
       "      <td>EGSU9089973</td>\n",
       "      <td>2019-04-10 00:00:00</td>\n",
       "      <td>False</td>\n",
       "      <td>22.350627</td>\n",
       "      <td>114.184916</td>\n",
       "      <td>9</td>\n",
       "      <td>1</td>\n",
       "    </tr>\n",
       "    <tr>\n",
       "      <th>8906</th>\n",
       "      <td>EGSU9089973</td>\n",
       "      <td>2019-04-11 00:00:00</td>\n",
       "      <td>False</td>\n",
       "      <td>23.182451</td>\n",
       "      <td>113.476086</td>\n",
       "      <td>7</td>\n",
       "      <td>1</td>\n",
       "    </tr>\n",
       "  </tbody>\n",
       "</table>\n",
       "</div>"
      ],
      "text/plain": [
       "        container                date  estimated   latitude   longitude  \\\n",
       "8902  FSCU5670046 2019-04-07 09:25:00      False  36.846292  -76.292925   \n",
       "8903  FSCU5670046 2019-03-12 07:33:00      False  51.221110    4.399708   \n",
       "8904  EGSU9089973 2019-03-07 00:00:00      False -12.066667  -77.150000   \n",
       "8905  EGSU9089973 2019-04-10 00:00:00      False  22.350627  114.184916   \n",
       "8906  EGSU9089973 2019-04-11 00:00:00      False  23.182451  113.476086   \n",
       "\n",
       "      status_code  vehicle  \n",
       "8902            7        1  \n",
       "8903            1        2  \n",
       "8904            3        1  \n",
       "8905            9        1  \n",
       "8906            7        1  "
      ]
     },
     "execution_count": 12,
     "metadata": {},
     "output_type": "execute_result"
    }
   ],
   "source": [
    "data.tail()"
   ]
  },
  {
   "cell_type": "code",
   "execution_count": null,
   "metadata": {},
   "outputs": [],
   "source": []
  }
 ],
 "metadata": {
  "kernelspec": {
   "display_name": "Python 3",
   "language": "python",
   "name": "python3"
  },
  "language_info": {
   "codemirror_mode": {
    "name": "ipython",
    "version": 3
   },
   "file_extension": ".py",
   "mimetype": "text/x-python",
   "name": "python",
   "nbconvert_exporter": "python",
   "pygments_lexer": "ipython3",
   "version": "3.5.3"
  }
 },
 "nbformat": 4,
 "nbformat_minor": 2
}
