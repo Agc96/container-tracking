{
 "cells": [
  {
   "cell_type": "code",
   "execution_count": 1,
   "metadata": {},
   "outputs": [],
   "source": [
    "from pymongo import MongoClient, ASCENDING, DESCENDING"
   ]
  },
  {
   "cell_type": "code",
   "execution_count": 10,
   "metadata": {},
   "outputs": [],
   "source": [
    "database  = MongoClient()[\"scraper2\"]\n",
    "movements = database[\"container_movements\"]\n",
    "locations = database[\"locations\"]"
   ]
  },
  {
   "cell_type": "markdown",
   "metadata": {},
   "source": [
    "## Delete bad locations"
   ]
  },
  {
   "cell_type": "code",
   "execution_count": 17,
   "metadata": {},
   "outputs": [
    {
     "name": "stdout",
     "output_type": "stream",
     "text": [
      "5\n"
     ]
    }
   ],
   "source": [
    "result = locations.delete_many({\n",
    "    \"location\": {\n",
    "        \"$regex\": \"^ \"\n",
    "    }\n",
    "})\n",
    "print(result.deleted_count)"
   ]
  },
  {
   "cell_type": "code",
   "execution_count": 30,
   "metadata": {},
   "outputs": [
    {
     "data": {
      "text/plain": [
       "182"
      ]
     },
     "execution_count": 30,
     "metadata": {},
     "output_type": "execute_result"
    }
   ],
   "source": [
    "# PORT KLANG: BORRAR Y REEMPLAZAR POR EL QUE ESTÁ MÁS CERCA AL PUERTO\n",
    "movements.count_documents({\n",
    "    \"location\" : {\n",
    "        \"$regex\" : \"Port Klang\"\n",
    "    }\n",
    "})"
   ]
  },
  {
   "cell_type": "code",
   "execution_count": null,
   "metadata": {},
   "outputs": [],
   "source": [
    "# SALERNO, SALARNO, ITALIA: BORRAR Y REEMPLAZAR POR EL QUE ESTÁ MÁS CERCA AL PUERTO!"
   ]
  },
  {
   "cell_type": "code",
   "execution_count": 24,
   "metadata": {},
   "outputs": [
    {
     "name": "stdout",
     "output_type": "stream",
     "text": [
      "Location: 1 matched 1 modified\n",
      "Container movements: 3156 matched 3156 modified\n"
     ]
    }
   ],
   "source": [
    "# SAN ANTONIO: BORRAR Y REEMPLAZAR POR EL PUERTO CHILENO!\n",
    "query = {\n",
    "    \"location\" : \"SAN ANTONIO\"\n",
    "}\n",
    "update = {\n",
    "    \"$set\": {\n",
    "        \"latitude\"  : -33.5808615,\n",
    "        \"longitude\" : -71.6132377 \n",
    "    }\n",
    "}\n",
    "\n",
    "# Update location\n",
    "result = locations.update_many(query, update)\n",
    "print(\"Location:\", result.matched_count, \"matched\", result.modified_count, \"modified\")\n",
    "# Update movements\n",
    "result = movements.update_many(query, update)\n",
    "print(\"Container movements:\", result.matched_count, \"matched\", result.modified_count, \"modified\")"
   ]
  },
  {
   "cell_type": "markdown",
   "metadata": {},
   "source": [
    "## Replace locations"
   ]
  },
  {
   "cell_type": "code",
   "execution_count": 26,
   "metadata": {},
   "outputs": [],
   "source": [
    "pending = []\n",
    "cursor = movements.distinct(\"location\", {\n",
    "    \"latitude\"  : None,\n",
    "    \"longitude\" : None\n",
    "})"
   ]
  },
  {
   "cell_type": "code",
   "execution_count": 27,
   "metadata": {},
   "outputs": [
    {
     "name": "stdout",
     "output_type": "stream",
     "text": [
      "PORTLAND, OR 1\n",
      "Onne, Nigeria 1\n"
     ]
    }
   ],
   "source": [
    "for raw_location in cursor:\n",
    "    # Get location query\n",
    "    location = raw_location.split(\"\\n\")[-1]\n",
    "    # Check if location exists in database\n",
    "    count = locations.count_documents({\n",
    "        \"location\": location\n",
    "    })\n",
    "    if count > 0:\n",
    "        print(location, count)\n",
    "    else:\n",
    "        pending.append(location)"
   ]
  },
  {
   "cell_type": "code",
   "execution_count": 28,
   "metadata": {},
   "outputs": [
    {
     "data": {
      "text/plain": [
       "['PORT KELANG',\n",
       " 'BRISBANE, QL',\n",
       " 'Salerno, Salarno, Italy',\n",
       " 'PORT OF ITAGUAI',\n",
       " 'Ambarli Port Istanbul, Turkey',\n",
       " 'WORLD WIDE DUMMY LOCATION EQUIPMENT',\n",
       " 'St Petersburg FCT, Russia',\n",
       " 'Port Tangier Mediterranee, Morocco',\n",
       " 'Yuzhny, Ukraine',\n",
       " 'Ambarli Port Istanbul, Turkey',\n",
       " 'PITEAA',\n",
       " 'GARSTON/MERSYD.',\n",
       " 'Auckland Metroport, New Zealand',\n",
       " 'TEPEJI DEL RIO, HID',\n",
       " 'Hazira, GUJARAT, India',\n",
       " 'Sonepat, HARYANA, India']"
      ]
     },
     "execution_count": 28,
     "metadata": {},
     "output_type": "execute_result"
    }
   ],
   "source": [
    "pending"
   ]
  },
  {
   "cell_type": "code",
   "execution_count": null,
   "metadata": {},
   "outputs": [],
   "source": []
  }
 ],
 "metadata": {
  "kernelspec": {
   "display_name": "Python 3",
   "language": "python",
   "name": "python3"
  },
  "language_info": {
   "codemirror_mode": {
    "name": "ipython",
    "version": 3
   },
   "file_extension": ".py",
   "mimetype": "text/x-python",
   "name": "python",
   "nbconvert_exporter": "python",
   "pygments_lexer": "ipython3",
   "version": "3.5.3"
  }
 },
 "nbformat": 4,
 "nbformat_minor": 2
}
