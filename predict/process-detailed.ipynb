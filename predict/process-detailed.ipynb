{
 "cells": [
  {
   "cell_type": "code",
   "execution_count": 1,
   "metadata": {},
   "outputs": [
    {
     "name": "stderr",
     "output_type": "stream",
     "text": [
      "C:\\ProgramData\\Anaconda3\\lib\\site-packages\\sklearn\\ensemble\\weight_boosting.py:29: DeprecationWarning: numpy.core.umath_tests is an internal NumPy module and should not be imported. It will be removed in a future NumPy release.\n",
      "  from numpy.core.umath_tests import inner1d\n"
     ]
    }
   ],
   "source": [
    "from sklearn.model_selection import train_test_split\n",
    "from sklearn.model_selection import cross_val_score\n",
    "from sklearn.ensemble import RandomForestRegressor\n",
    "from sklearn.tree import DecisionTreeRegressor\n",
    "from sklearn.svm import SVR\n",
    "from sklearn.neural_network import MLPRegressor"
   ]
  },
  {
   "cell_type": "code",
   "execution_count": 2,
   "metadata": {},
   "outputs": [],
   "source": [
    "import pandas as pd\n",
    "import numpy as np"
   ]
  },
  {
   "cell_type": "markdown",
   "metadata": {},
   "source": [
    "# Datasets"
   ]
  },
  {
   "cell_type": "code",
   "execution_count": 3,
   "metadata": {},
   "outputs": [],
   "source": [
    "directory = \"preprocess-detailed/\"\n",
    "\n",
    "maersk_train = pd.read_csv(directory + \"Maersk-train.csv\")\n",
    "# maersk_loc   = pd.read_csv(directory + \"Maersk-repeated-locations.csv\")\n",
    "# maersk_stat  = pd.read_csv(directory + \"Maersk-repeated-statuses.csv\")\n",
    "\n",
    "hapag_lloyd_train = pd.read_csv(directory + \"Hapag-Lloyd-train.csv\")\n",
    "# hapag_lloyd_loc   = pd.read_csv(directory + \"Hapag-Lloyd-repeated-locations.csv\")\n",
    "# hapag_lloyd_stat  = pd.read_csv(directory + \"Hapag-Lloyd-repeated-statuses.csv\")\n",
    "\n",
    "evergreen_train = pd.read_csv(directory + \"Evergreen-train.csv\")\n",
    "# evergreen_loc   = pd.read_csv(directory + \"Evergreen-repeated-locations.csv\")\n",
    "# evergreen_stat  = pd.read_csv(directory + \"Evergreen-repeated-statuses.csv\")"
   ]
  },
  {
   "cell_type": "markdown",
   "metadata": {},
   "source": [
    "**Usamos las coordenadas geográficas para poder predecir el tiempo de llegada de los contenedores.**\n",
    "\n",
    "Conservamos la columna del contenedor para poder apreciar la data de forma legible.<br>\n",
    "Al momento de entrenar con las técnicas de aprendizaje de máquina a usar, se limpiará esta columna."
   ]
  },
  {
   "cell_type": "code",
   "execution_count": 4,
   "metadata": {},
   "outputs": [],
   "source": [
    "columns = [\"container\", \"carrier\", \"first_latitude\", \"first_longitude\", \"second_latitude\", \"second_longitude\", \"elapsed_days\"]\n",
    "\n",
    "maersk      = maersk_train[columns]\n",
    "hapag_lloyd = hapag_lloyd_train[columns]\n",
    "evergreen   = evergreen_train[columns]"
   ]
  },
  {
   "cell_type": "markdown",
   "metadata": {},
   "source": [
    "### Maersk"
   ]
  },
  {
   "cell_type": "code",
   "execution_count": 5,
   "metadata": {},
   "outputs": [
    {
     "data": {
      "text/html": [
       "<div>\n",
       "<style scoped>\n",
       "    .dataframe tbody tr th:only-of-type {\n",
       "        vertical-align: middle;\n",
       "    }\n",
       "\n",
       "    .dataframe tbody tr th {\n",
       "        vertical-align: top;\n",
       "    }\n",
       "\n",
       "    .dataframe thead th {\n",
       "        text-align: right;\n",
       "    }\n",
       "</style>\n",
       "<table border=\"1\" class=\"dataframe\">\n",
       "  <thead>\n",
       "    <tr style=\"text-align: right;\">\n",
       "      <th></th>\n",
       "      <th>container</th>\n",
       "      <th>carrier</th>\n",
       "      <th>first_latitude</th>\n",
       "      <th>first_longitude</th>\n",
       "      <th>second_latitude</th>\n",
       "      <th>second_longitude</th>\n",
       "      <th>elapsed_days</th>\n",
       "    </tr>\n",
       "  </thead>\n",
       "  <tbody>\n",
       "    <tr>\n",
       "      <th>0</th>\n",
       "      <td>MRKU2577274</td>\n",
       "      <td>1</td>\n",
       "      <td>13.097055</td>\n",
       "      <td>100.915227</td>\n",
       "      <td>13.097055</td>\n",
       "      <td>100.915227</td>\n",
       "      <td>3.635417</td>\n",
       "    </tr>\n",
       "    <tr>\n",
       "      <th>1</th>\n",
       "      <td>MRKU2577274</td>\n",
       "      <td>1</td>\n",
       "      <td>13.097055</td>\n",
       "      <td>100.915227</td>\n",
       "      <td>22.350627</td>\n",
       "      <td>114.184916</td>\n",
       "      <td>4.088889</td>\n",
       "    </tr>\n",
       "    <tr>\n",
       "      <th>2</th>\n",
       "      <td>MRKU2577274</td>\n",
       "      <td>1</td>\n",
       "      <td>22.350627</td>\n",
       "      <td>114.184916</td>\n",
       "      <td>-33.045846</td>\n",
       "      <td>-71.619675</td>\n",
       "      <td>28.361806</td>\n",
       "    </tr>\n",
       "    <tr>\n",
       "      <th>3</th>\n",
       "      <td>MNBU3341806</td>\n",
       "      <td>1</td>\n",
       "      <td>31.225344</td>\n",
       "      <td>121.488892</td>\n",
       "      <td>31.225344</td>\n",
       "      <td>121.488892</td>\n",
       "      <td>2.747222</td>\n",
       "    </tr>\n",
       "    <tr>\n",
       "      <th>4</th>\n",
       "      <td>MNBU3341806</td>\n",
       "      <td>1</td>\n",
       "      <td>31.225344</td>\n",
       "      <td>121.488892</td>\n",
       "      <td>-12.066667</td>\n",
       "      <td>-77.150000</td>\n",
       "      <td>33.025694</td>\n",
       "    </tr>\n",
       "  </tbody>\n",
       "</table>\n",
       "</div>"
      ],
      "text/plain": [
       "     container  carrier  first_latitude  first_longitude  second_latitude  \\\n",
       "0  MRKU2577274        1       13.097055       100.915227        13.097055   \n",
       "1  MRKU2577274        1       13.097055       100.915227        22.350627   \n",
       "2  MRKU2577274        1       22.350627       114.184916       -33.045846   \n",
       "3  MNBU3341806        1       31.225344       121.488892        31.225344   \n",
       "4  MNBU3341806        1       31.225344       121.488892       -12.066667   \n",
       "\n",
       "   second_longitude  elapsed_days  \n",
       "0        100.915227      3.635417  \n",
       "1        114.184916      4.088889  \n",
       "2        -71.619675     28.361806  \n",
       "3        121.488892      2.747222  \n",
       "4        -77.150000     33.025694  "
      ]
     },
     "execution_count": 5,
     "metadata": {},
     "output_type": "execute_result"
    }
   ],
   "source": [
    "maersk.head()"
   ]
  },
  {
   "cell_type": "code",
   "execution_count": 6,
   "metadata": {},
   "outputs": [
    {
     "data": {
      "text/html": [
       "<div>\n",
       "<style scoped>\n",
       "    .dataframe tbody tr th:only-of-type {\n",
       "        vertical-align: middle;\n",
       "    }\n",
       "\n",
       "    .dataframe tbody tr th {\n",
       "        vertical-align: top;\n",
       "    }\n",
       "\n",
       "    .dataframe thead th {\n",
       "        text-align: right;\n",
       "    }\n",
       "</style>\n",
       "<table border=\"1\" class=\"dataframe\">\n",
       "  <thead>\n",
       "    <tr style=\"text-align: right;\">\n",
       "      <th></th>\n",
       "      <th>container</th>\n",
       "      <th>carrier</th>\n",
       "      <th>first_latitude</th>\n",
       "      <th>first_longitude</th>\n",
       "      <th>second_latitude</th>\n",
       "      <th>second_longitude</th>\n",
       "      <th>elapsed_days</th>\n",
       "    </tr>\n",
       "  </thead>\n",
       "  <tbody>\n",
       "    <tr>\n",
       "      <th>2589</th>\n",
       "      <td>MNBU3273487</td>\n",
       "      <td>1</td>\n",
       "      <td>-12.066667</td>\n",
       "      <td>-77.150000</td>\n",
       "      <td>-12.066667</td>\n",
       "      <td>-77.150000</td>\n",
       "      <td>2.625000</td>\n",
       "    </tr>\n",
       "    <tr>\n",
       "      <th>2590</th>\n",
       "      <td>MNBU3273487</td>\n",
       "      <td>1</td>\n",
       "      <td>-12.066667</td>\n",
       "      <td>-77.150000</td>\n",
       "      <td>8.347996</td>\n",
       "      <td>-78.897173</td>\n",
       "      <td>4.979861</td>\n",
       "    </tr>\n",
       "    <tr>\n",
       "      <th>2591</th>\n",
       "      <td>MNBU0086836</td>\n",
       "      <td>1</td>\n",
       "      <td>-12.066667</td>\n",
       "      <td>-77.150000</td>\n",
       "      <td>-12.066667</td>\n",
       "      <td>-77.150000</td>\n",
       "      <td>1.149306</td>\n",
       "    </tr>\n",
       "    <tr>\n",
       "      <th>2592</th>\n",
       "      <td>MNBU0120822</td>\n",
       "      <td>1</td>\n",
       "      <td>-12.066667</td>\n",
       "      <td>-77.150000</td>\n",
       "      <td>-12.066667</td>\n",
       "      <td>-77.150000</td>\n",
       "      <td>1.102083</td>\n",
       "    </tr>\n",
       "    <tr>\n",
       "      <th>2593</th>\n",
       "      <td>MRSU3685980</td>\n",
       "      <td>1</td>\n",
       "      <td>25.774266</td>\n",
       "      <td>-80.193659</td>\n",
       "      <td>25.774266</td>\n",
       "      <td>-80.193659</td>\n",
       "      <td>1.030556</td>\n",
       "    </tr>\n",
       "  </tbody>\n",
       "</table>\n",
       "</div>"
      ],
      "text/plain": [
       "        container  carrier  first_latitude  first_longitude  second_latitude  \\\n",
       "2589  MNBU3273487        1      -12.066667       -77.150000       -12.066667   \n",
       "2590  MNBU3273487        1      -12.066667       -77.150000         8.347996   \n",
       "2591  MNBU0086836        1      -12.066667       -77.150000       -12.066667   \n",
       "2592  MNBU0120822        1      -12.066667       -77.150000       -12.066667   \n",
       "2593  MRSU3685980        1       25.774266       -80.193659        25.774266   \n",
       "\n",
       "      second_longitude  elapsed_days  \n",
       "2589        -77.150000      2.625000  \n",
       "2590        -78.897173      4.979861  \n",
       "2591        -77.150000      1.149306  \n",
       "2592        -77.150000      1.102083  \n",
       "2593        -80.193659      1.030556  "
      ]
     },
     "execution_count": 6,
     "metadata": {},
     "output_type": "execute_result"
    }
   ],
   "source": [
    "maersk.tail()"
   ]
  },
  {
   "cell_type": "markdown",
   "metadata": {},
   "source": [
    "### Hapag-Lloyd"
   ]
  },
  {
   "cell_type": "code",
   "execution_count": 7,
   "metadata": {},
   "outputs": [
    {
     "data": {
      "text/html": [
       "<div>\n",
       "<style scoped>\n",
       "    .dataframe tbody tr th:only-of-type {\n",
       "        vertical-align: middle;\n",
       "    }\n",
       "\n",
       "    .dataframe tbody tr th {\n",
       "        vertical-align: top;\n",
       "    }\n",
       "\n",
       "    .dataframe thead th {\n",
       "        text-align: right;\n",
       "    }\n",
       "</style>\n",
       "<table border=\"1\" class=\"dataframe\">\n",
       "  <thead>\n",
       "    <tr style=\"text-align: right;\">\n",
       "      <th></th>\n",
       "      <th>container</th>\n",
       "      <th>carrier</th>\n",
       "      <th>first_latitude</th>\n",
       "      <th>first_longitude</th>\n",
       "      <th>second_latitude</th>\n",
       "      <th>second_longitude</th>\n",
       "      <th>elapsed_days</th>\n",
       "    </tr>\n",
       "  </thead>\n",
       "  <tbody>\n",
       "    <tr>\n",
       "      <th>0</th>\n",
       "      <td>TGHU0538924</td>\n",
       "      <td>2</td>\n",
       "      <td>25.798845</td>\n",
       "      <td>-100.372833</td>\n",
       "      <td>19.127657</td>\n",
       "      <td>-104.284126</td>\n",
       "      <td>6.068056</td>\n",
       "    </tr>\n",
       "    <tr>\n",
       "      <th>1</th>\n",
       "      <td>TGHU0538924</td>\n",
       "      <td>2</td>\n",
       "      <td>19.127657</td>\n",
       "      <td>-104.284126</td>\n",
       "      <td>-12.066667</td>\n",
       "      <td>-77.150000</td>\n",
       "      <td>8.020833</td>\n",
       "    </tr>\n",
       "    <tr>\n",
       "      <th>2</th>\n",
       "      <td>UACU5989812</td>\n",
       "      <td>2</td>\n",
       "      <td>19.432601</td>\n",
       "      <td>-99.133342</td>\n",
       "      <td>19.127657</td>\n",
       "      <td>-104.284126</td>\n",
       "      <td>3.047917</td>\n",
       "    </tr>\n",
       "    <tr>\n",
       "      <th>3</th>\n",
       "      <td>TGHU6111924</td>\n",
       "      <td>2</td>\n",
       "      <td>22.330800</td>\n",
       "      <td>91.841286</td>\n",
       "      <td>1.340853</td>\n",
       "      <td>103.878447</td>\n",
       "      <td>4.490278</td>\n",
       "    </tr>\n",
       "    <tr>\n",
       "      <th>4</th>\n",
       "      <td>TGHU6111924</td>\n",
       "      <td>2</td>\n",
       "      <td>1.340853</td>\n",
       "      <td>103.878447</td>\n",
       "      <td>22.279328</td>\n",
       "      <td>114.162813</td>\n",
       "      <td>6.620833</td>\n",
       "    </tr>\n",
       "  </tbody>\n",
       "</table>\n",
       "</div>"
      ],
      "text/plain": [
       "     container  carrier  first_latitude  first_longitude  second_latitude  \\\n",
       "0  TGHU0538924        2       25.798845      -100.372833        19.127657   \n",
       "1  TGHU0538924        2       19.127657      -104.284126       -12.066667   \n",
       "2  UACU5989812        2       19.432601       -99.133342        19.127657   \n",
       "3  TGHU6111924        2       22.330800        91.841286         1.340853   \n",
       "4  TGHU6111924        2        1.340853       103.878447        22.279328   \n",
       "\n",
       "   second_longitude  elapsed_days  \n",
       "0       -104.284126      6.068056  \n",
       "1        -77.150000      8.020833  \n",
       "2       -104.284126      3.047917  \n",
       "3        103.878447      4.490278  \n",
       "4        114.162813      6.620833  "
      ]
     },
     "execution_count": 7,
     "metadata": {},
     "output_type": "execute_result"
    }
   ],
   "source": [
    "hapag_lloyd.head()"
   ]
  },
  {
   "cell_type": "code",
   "execution_count": 8,
   "metadata": {},
   "outputs": [
    {
     "data": {
      "text/html": [
       "<div>\n",
       "<style scoped>\n",
       "    .dataframe tbody tr th:only-of-type {\n",
       "        vertical-align: middle;\n",
       "    }\n",
       "\n",
       "    .dataframe tbody tr th {\n",
       "        vertical-align: top;\n",
       "    }\n",
       "\n",
       "    .dataframe thead th {\n",
       "        text-align: right;\n",
       "    }\n",
       "</style>\n",
       "<table border=\"1\" class=\"dataframe\">\n",
       "  <thead>\n",
       "    <tr style=\"text-align: right;\">\n",
       "      <th></th>\n",
       "      <th>container</th>\n",
       "      <th>carrier</th>\n",
       "      <th>first_latitude</th>\n",
       "      <th>first_longitude</th>\n",
       "      <th>second_latitude</th>\n",
       "      <th>second_longitude</th>\n",
       "      <th>elapsed_days</th>\n",
       "    </tr>\n",
       "  </thead>\n",
       "  <tbody>\n",
       "    <tr>\n",
       "      <th>3211</th>\n",
       "      <td>AMFU8543420</td>\n",
       "      <td>2</td>\n",
       "      <td>22.279328</td>\n",
       "      <td>114.162813</td>\n",
       "      <td>40.341186</td>\n",
       "      <td>-78.400292</td>\n",
       "      <td>28.100000</td>\n",
       "    </tr>\n",
       "    <tr>\n",
       "      <th>3212</th>\n",
       "      <td>HLBU2130224</td>\n",
       "      <td>2</td>\n",
       "      <td>19.127657</td>\n",
       "      <td>-104.284126</td>\n",
       "      <td>34.053683</td>\n",
       "      <td>-118.242767</td>\n",
       "      <td>3.512500</td>\n",
       "    </tr>\n",
       "    <tr>\n",
       "      <th>3213</th>\n",
       "      <td>HLXU5266968</td>\n",
       "      <td>2</td>\n",
       "      <td>23.182451</td>\n",
       "      <td>113.476086</td>\n",
       "      <td>22.279328</td>\n",
       "      <td>114.162813</td>\n",
       "      <td>1.410417</td>\n",
       "    </tr>\n",
       "    <tr>\n",
       "      <th>3214</th>\n",
       "      <td>UACU8282470</td>\n",
       "      <td>2</td>\n",
       "      <td>19.432601</td>\n",
       "      <td>-99.133342</td>\n",
       "      <td>19.127657</td>\n",
       "      <td>-104.284126</td>\n",
       "      <td>1.694444</td>\n",
       "    </tr>\n",
       "    <tr>\n",
       "      <th>3215</th>\n",
       "      <td>FSCU5670046</td>\n",
       "      <td>2</td>\n",
       "      <td>51.221110</td>\n",
       "      <td>4.399708</td>\n",
       "      <td>36.846292</td>\n",
       "      <td>-76.292925</td>\n",
       "      <td>11.233333</td>\n",
       "    </tr>\n",
       "  </tbody>\n",
       "</table>\n",
       "</div>"
      ],
      "text/plain": [
       "        container  carrier  first_latitude  first_longitude  second_latitude  \\\n",
       "3211  AMFU8543420        2       22.279328       114.162813        40.341186   \n",
       "3212  HLBU2130224        2       19.127657      -104.284126        34.053683   \n",
       "3213  HLXU5266968        2       23.182451       113.476086        22.279328   \n",
       "3214  UACU8282470        2       19.432601       -99.133342        19.127657   \n",
       "3215  FSCU5670046        2       51.221110         4.399708        36.846292   \n",
       "\n",
       "      second_longitude  elapsed_days  \n",
       "3211        -78.400292     28.100000  \n",
       "3212       -118.242767      3.512500  \n",
       "3213        114.162813      1.410417  \n",
       "3214       -104.284126      1.694444  \n",
       "3215        -76.292925     11.233333  "
      ]
     },
     "execution_count": 8,
     "metadata": {},
     "output_type": "execute_result"
    }
   ],
   "source": [
    "hapag_lloyd.tail()"
   ]
  },
  {
   "cell_type": "markdown",
   "metadata": {},
   "source": [
    "### Evergreen"
   ]
  },
  {
   "cell_type": "code",
   "execution_count": 9,
   "metadata": {},
   "outputs": [
    {
     "data": {
      "text/html": [
       "<div>\n",
       "<style scoped>\n",
       "    .dataframe tbody tr th:only-of-type {\n",
       "        vertical-align: middle;\n",
       "    }\n",
       "\n",
       "    .dataframe tbody tr th {\n",
       "        vertical-align: top;\n",
       "    }\n",
       "\n",
       "    .dataframe thead th {\n",
       "        text-align: right;\n",
       "    }\n",
       "</style>\n",
       "<table border=\"1\" class=\"dataframe\">\n",
       "  <thead>\n",
       "    <tr style=\"text-align: right;\">\n",
       "      <th></th>\n",
       "      <th>container</th>\n",
       "      <th>carrier</th>\n",
       "      <th>first_latitude</th>\n",
       "      <th>first_longitude</th>\n",
       "      <th>second_latitude</th>\n",
       "      <th>second_longitude</th>\n",
       "      <th>elapsed_days</th>\n",
       "    </tr>\n",
       "  </thead>\n",
       "  <tbody>\n",
       "    <tr>\n",
       "      <th>0</th>\n",
       "      <td>EISU5704208</td>\n",
       "      <td>3</td>\n",
       "      <td>22.620335</td>\n",
       "      <td>120.312038</td>\n",
       "      <td>-33.580861</td>\n",
       "      <td>-71.613238</td>\n",
       "      <td>61.0</td>\n",
       "    </tr>\n",
       "    <tr>\n",
       "      <th>1</th>\n",
       "      <td>TEMU3454933</td>\n",
       "      <td>3</td>\n",
       "      <td>-12.066667</td>\n",
       "      <td>-77.150000</td>\n",
       "      <td>8.347996</td>\n",
       "      <td>-78.897173</td>\n",
       "      <td>9.0</td>\n",
       "    </tr>\n",
       "    <tr>\n",
       "      <th>2</th>\n",
       "      <td>EGHU3277563</td>\n",
       "      <td>3</td>\n",
       "      <td>-12.066667</td>\n",
       "      <td>-77.150000</td>\n",
       "      <td>19.127657</td>\n",
       "      <td>-104.284126</td>\n",
       "      <td>12.0</td>\n",
       "    </tr>\n",
       "    <tr>\n",
       "      <th>3</th>\n",
       "      <td>EGHU9277088</td>\n",
       "      <td>3</td>\n",
       "      <td>-12.066667</td>\n",
       "      <td>-77.150000</td>\n",
       "      <td>3.889933</td>\n",
       "      <td>-77.078605</td>\n",
       "      <td>4.0</td>\n",
       "    </tr>\n",
       "    <tr>\n",
       "      <th>4</th>\n",
       "      <td>HMCU3057340</td>\n",
       "      <td>3</td>\n",
       "      <td>-12.066667</td>\n",
       "      <td>-77.150000</td>\n",
       "      <td>-2.189877</td>\n",
       "      <td>-79.887715</td>\n",
       "      <td>9.0</td>\n",
       "    </tr>\n",
       "  </tbody>\n",
       "</table>\n",
       "</div>"
      ],
      "text/plain": [
       "     container  carrier  first_latitude  first_longitude  second_latitude  \\\n",
       "0  EISU5704208        3       22.620335       120.312038       -33.580861   \n",
       "1  TEMU3454933        3      -12.066667       -77.150000         8.347996   \n",
       "2  EGHU3277563        3      -12.066667       -77.150000        19.127657   \n",
       "3  EGHU9277088        3      -12.066667       -77.150000         3.889933   \n",
       "4  HMCU3057340        3      -12.066667       -77.150000        -2.189877   \n",
       "\n",
       "   second_longitude  elapsed_days  \n",
       "0        -71.613238          61.0  \n",
       "1        -78.897173           9.0  \n",
       "2       -104.284126          12.0  \n",
       "3        -77.078605           4.0  \n",
       "4        -79.887715           9.0  "
      ]
     },
     "execution_count": 9,
     "metadata": {},
     "output_type": "execute_result"
    }
   ],
   "source": [
    "evergreen.head()"
   ]
  },
  {
   "cell_type": "code",
   "execution_count": 10,
   "metadata": {},
   "outputs": [
    {
     "data": {
      "text/html": [
       "<div>\n",
       "<style scoped>\n",
       "    .dataframe tbody tr th:only-of-type {\n",
       "        vertical-align: middle;\n",
       "    }\n",
       "\n",
       "    .dataframe tbody tr th {\n",
       "        vertical-align: top;\n",
       "    }\n",
       "\n",
       "    .dataframe thead th {\n",
       "        text-align: right;\n",
       "    }\n",
       "</style>\n",
       "<table border=\"1\" class=\"dataframe\">\n",
       "  <thead>\n",
       "    <tr style=\"text-align: right;\">\n",
       "      <th></th>\n",
       "      <th>container</th>\n",
       "      <th>carrier</th>\n",
       "      <th>first_latitude</th>\n",
       "      <th>first_longitude</th>\n",
       "      <th>second_latitude</th>\n",
       "      <th>second_longitude</th>\n",
       "      <th>elapsed_days</th>\n",
       "    </tr>\n",
       "  </thead>\n",
       "  <tbody>\n",
       "    <tr>\n",
       "      <th>42</th>\n",
       "      <td>EGHU9390258</td>\n",
       "      <td>3</td>\n",
       "      <td>-33.437797</td>\n",
       "      <td>-70.650445</td>\n",
       "      <td>-33.580861</td>\n",
       "      <td>-71.613238</td>\n",
       "      <td>3.0</td>\n",
       "    </tr>\n",
       "    <tr>\n",
       "      <th>43</th>\n",
       "      <td>EGHU9395476</td>\n",
       "      <td>3</td>\n",
       "      <td>-33.437797</td>\n",
       "      <td>-70.650445</td>\n",
       "      <td>-33.580861</td>\n",
       "      <td>-71.613238</td>\n",
       "      <td>5.0</td>\n",
       "    </tr>\n",
       "    <tr>\n",
       "      <th>44</th>\n",
       "      <td>EGSU3036148</td>\n",
       "      <td>3</td>\n",
       "      <td>-12.066667</td>\n",
       "      <td>-77.150000</td>\n",
       "      <td>8.347996</td>\n",
       "      <td>-78.897173</td>\n",
       "      <td>7.0</td>\n",
       "    </tr>\n",
       "    <tr>\n",
       "      <th>45</th>\n",
       "      <td>EGSU9089973</td>\n",
       "      <td>3</td>\n",
       "      <td>-12.066667</td>\n",
       "      <td>-77.150000</td>\n",
       "      <td>22.350627</td>\n",
       "      <td>114.184916</td>\n",
       "      <td>34.0</td>\n",
       "    </tr>\n",
       "    <tr>\n",
       "      <th>46</th>\n",
       "      <td>EGSU9089973</td>\n",
       "      <td>3</td>\n",
       "      <td>22.350627</td>\n",
       "      <td>114.184916</td>\n",
       "      <td>23.182451</td>\n",
       "      <td>113.476086</td>\n",
       "      <td>1.0</td>\n",
       "    </tr>\n",
       "  </tbody>\n",
       "</table>\n",
       "</div>"
      ],
      "text/plain": [
       "      container  carrier  first_latitude  first_longitude  second_latitude  \\\n",
       "42  EGHU9390258        3      -33.437797       -70.650445       -33.580861   \n",
       "43  EGHU9395476        3      -33.437797       -70.650445       -33.580861   \n",
       "44  EGSU3036148        3      -12.066667       -77.150000         8.347996   \n",
       "45  EGSU9089973        3      -12.066667       -77.150000        22.350627   \n",
       "46  EGSU9089973        3       22.350627       114.184916        23.182451   \n",
       "\n",
       "    second_longitude  elapsed_days  \n",
       "42        -71.613238           3.0  \n",
       "43        -71.613238           5.0  \n",
       "44        -78.897173           7.0  \n",
       "45        114.184916          34.0  \n",
       "46        113.476086           1.0  "
      ]
     },
     "execution_count": 10,
     "metadata": {},
     "output_type": "execute_result"
    }
   ],
   "source": [
    "evergreen.tail()"
   ]
  },
  {
   "cell_type": "markdown",
   "metadata": {},
   "source": [
    "### Juntar datasets"
   ]
  },
  {
   "cell_type": "code",
   "execution_count": 11,
   "metadata": {},
   "outputs": [
    {
     "name": "stdout",
     "output_type": "stream",
     "text": [
      "5857 containers\n"
     ]
    }
   ],
   "source": [
    "dataset = pd.concat([maersk, hapag_lloyd, evergreen])\n",
    "print(len(dataset), \"containers\")"
   ]
  },
  {
   "cell_type": "code",
   "execution_count": 12,
   "metadata": {},
   "outputs": [
    {
     "name": "stdout",
     "output_type": "stream",
     "text": [
      "(5857, 5)\n",
      "(5857,)\n"
     ]
    }
   ],
   "source": [
    "X = dataset.drop([\"container\", \"elapsed_days\"], axis = 1, inplace = False).values\n",
    "Y = dataset[\"elapsed_days\"].values\n",
    "\n",
    "print(X.shape)\n",
    "print(Y.shape)"
   ]
  },
  {
   "cell_type": "code",
   "execution_count": 13,
   "metadata": {},
   "outputs": [
    {
     "data": {
      "text/plain": [
       "array([[  1.        ,  13.0970555 , 100.9152266 ,  13.0970555 ,\n",
       "        100.9152266 ],\n",
       "       [  1.        ,  13.0970555 , 100.9152266 ,  22.350627  ,\n",
       "        114.1849161 ],\n",
       "       [  1.        ,  22.350627  , 114.1849161 , -33.0458456 ,\n",
       "        -71.6196749 ],\n",
       "       ...,\n",
       "       [  3.        , -12.066667  , -77.15      ,   8.3479957 ,\n",
       "        -78.89717298],\n",
       "       [  3.        , -12.066667  , -77.15      ,  22.350627  ,\n",
       "        114.1849161 ],\n",
       "       [  3.        ,  22.350627  , 114.1849161 ,  23.1824507 ,\n",
       "        113.4760861 ]])"
      ]
     },
     "execution_count": 13,
     "metadata": {},
     "output_type": "execute_result"
    }
   ],
   "source": [
    "X"
   ]
  },
  {
   "cell_type": "code",
   "execution_count": 14,
   "metadata": {},
   "outputs": [
    {
     "data": {
      "text/plain": [
       "array([ 3.63541667,  4.08888889, 28.36180556, ...,  7.        ,\n",
       "       34.        ,  1.        ])"
      ]
     },
     "execution_count": 14,
     "metadata": {},
     "output_type": "execute_result"
    }
   ],
   "source": [
    "Y"
   ]
  },
  {
   "cell_type": "markdown",
   "metadata": {},
   "source": [
    "# Regresión/Predicción usando ML"
   ]
  },
  {
   "cell_type": "code",
   "execution_count": 15,
   "metadata": {},
   "outputs": [],
   "source": [
    "X_train, X_test, Y_train, Y_test = train_test_split(X, Y)"
   ]
  },
  {
   "cell_type": "code",
   "execution_count": 16,
   "metadata": {},
   "outputs": [
    {
     "name": "stdout",
     "output_type": "stream",
     "text": [
      "4392 to train, 1465 to test\n"
     ]
    }
   ],
   "source": [
    "print(len(X_train), \"to train,\", len(X_test), \"to test\")"
   ]
  },
  {
   "cell_type": "markdown",
   "metadata": {},
   "source": [
    "### Random forests"
   ]
  },
  {
   "cell_type": "code",
   "execution_count": 17,
   "metadata": {},
   "outputs": [
    {
     "data": {
      "text/plain": [
       "RandomForestRegressor(bootstrap=True, criterion='mse', max_depth=None,\n",
       "           max_features='auto', max_leaf_nodes=None,\n",
       "           min_impurity_decrease=0.0, min_impurity_split=None,\n",
       "           min_samples_leaf=1, min_samples_split=2,\n",
       "           min_weight_fraction_leaf=0.0, n_estimators=1000, n_jobs=1,\n",
       "           oob_score=False, random_state=0, verbose=0, warm_start=False)"
      ]
     },
     "execution_count": 17,
     "metadata": {},
     "output_type": "execute_result"
    }
   ],
   "source": [
    "regr = RandomForestRegressor(n_estimators = 1000, random_state = 0)\n",
    "regr.fit(X_train, Y_train)"
   ]
  },
  {
   "cell_type": "code",
   "execution_count": 18,
   "metadata": {},
   "outputs": [
    {
     "name": "stdout",
     "output_type": "stream",
     "text": [
      "[0.00613882 0.07228222 0.31739495 0.09283169 0.51135233]\n"
     ]
    }
   ],
   "source": [
    "print(regr.feature_importances_)"
   ]
  },
  {
   "cell_type": "code",
   "execution_count": 19,
   "metadata": {},
   "outputs": [
    {
     "data": {
      "text/plain": [
       "0.9033823056554233"
      ]
     },
     "execution_count": 19,
     "metadata": {},
     "output_type": "execute_result"
    }
   ],
   "source": [
    "regr.score(X_test, Y_test)"
   ]
  },
  {
   "cell_type": "markdown",
   "metadata": {},
   "source": [
    "### Decision trees"
   ]
  },
  {
   "cell_type": "code",
   "execution_count": 20,
   "metadata": {},
   "outputs": [
    {
     "data": {
      "text/plain": [
       "DecisionTreeRegressor(criterion='mse', max_depth=None, max_features=None,\n",
       "           max_leaf_nodes=None, min_impurity_decrease=0.0,\n",
       "           min_impurity_split=None, min_samples_leaf=1,\n",
       "           min_samples_split=2, min_weight_fraction_leaf=0.0,\n",
       "           presort=False, random_state=0, splitter='best')"
      ]
     },
     "execution_count": 20,
     "metadata": {},
     "output_type": "execute_result"
    }
   ],
   "source": [
    "regr = DecisionTreeRegressor(random_state = 0)\n",
    "regr.fit(X_train, Y_train)"
   ]
  },
  {
   "cell_type": "code",
   "execution_count": 21,
   "metadata": {},
   "outputs": [
    {
     "name": "stdout",
     "output_type": "stream",
     "text": [
      "[0.0044861  0.05153293 0.31554148 0.06976772 0.55867178]\n"
     ]
    }
   ],
   "source": [
    "print(regr.feature_importances_)"
   ]
  },
  {
   "cell_type": "code",
   "execution_count": 22,
   "metadata": {},
   "outputs": [
    {
     "data": {
      "text/plain": [
       "0.8957655105916839"
      ]
     },
     "execution_count": 22,
     "metadata": {},
     "output_type": "execute_result"
    }
   ],
   "source": [
    "regr.score(X_test, Y_test)"
   ]
  },
  {
   "cell_type": "markdown",
   "metadata": {},
   "source": [
    "### Support Vector Machines para regresión"
   ]
  },
  {
   "cell_type": "code",
   "execution_count": 23,
   "metadata": {},
   "outputs": [
    {
     "data": {
      "text/plain": [
       "SVR(C=1.0, cache_size=200, coef0=0.0, degree=3, epsilon=0.1, gamma='auto',\n",
       "  kernel='rbf', max_iter=-1, shrinking=True, tol=0.001, verbose=False)"
      ]
     },
     "execution_count": 23,
     "metadata": {},
     "output_type": "execute_result"
    }
   ],
   "source": [
    "regr = SVR(gamma = \"auto\")\n",
    "regr.fit(X_train, Y_train)"
   ]
  },
  {
   "cell_type": "code",
   "execution_count": 24,
   "metadata": {},
   "outputs": [
    {
     "data": {
      "text/plain": [
       "0.6453364790386377"
      ]
     },
     "execution_count": 24,
     "metadata": {},
     "output_type": "execute_result"
    }
   ],
   "source": [
    "regr.score(X_test, Y_test)"
   ]
  },
  {
   "cell_type": "markdown",
   "metadata": {},
   "source": [
    "### Perceptrón multicapa"
   ]
  },
  {
   "cell_type": "code",
   "execution_count": 25,
   "metadata": {
    "scrolled": true
   },
   "outputs": [
    {
     "data": {
      "text/plain": [
       "MLPRegressor(activation='logistic', alpha=0.0001, batch_size='auto',\n",
       "       beta_1=0.9, beta_2=0.999, early_stopping=False, epsilon=1e-08,\n",
       "       hidden_layer_sizes=(100,), learning_rate='constant',\n",
       "       learning_rate_init=0.001, max_iter=5000, momentum=0.9,\n",
       "       nesterovs_momentum=True, power_t=0.5, random_state=0, shuffle=True,\n",
       "       solver='adam', tol=0.0001, validation_fraction=0.1, verbose=False,\n",
       "       warm_start=False)"
      ]
     },
     "execution_count": 25,
     "metadata": {},
     "output_type": "execute_result"
    }
   ],
   "source": [
    "regr = MLPRegressor(random_state = 0, max_iter = 5000, activation = \"logistic\", hidden_layer_sizes = (100,))\n",
    "regr.fit(X_train, Y_train)"
   ]
  },
  {
   "cell_type": "code",
   "execution_count": 26,
   "metadata": {},
   "outputs": [
    {
     "data": {
      "text/plain": [
       "0.8311756535440245"
      ]
     },
     "execution_count": 26,
     "metadata": {},
     "output_type": "execute_result"
    }
   ],
   "source": [
    "regr.score(X_test, Y_test)"
   ]
  },
  {
   "cell_type": "code",
   "execution_count": 27,
   "metadata": {},
   "outputs": [
    {
     "data": {
      "text/plain": [
       "MLPRegressor(activation='logistic', alpha=0.0001, batch_size='auto',\n",
       "       beta_1=0.9, beta_2=0.999, early_stopping=False, epsilon=1e-08,\n",
       "       hidden_layer_sizes=(100, 100), learning_rate='constant',\n",
       "       learning_rate_init=0.001, max_iter=5000, momentum=0.9,\n",
       "       nesterovs_momentum=True, power_t=0.5, random_state=0, shuffle=True,\n",
       "       solver='adam', tol=0.0001, validation_fraction=0.1, verbose=False,\n",
       "       warm_start=False)"
      ]
     },
     "execution_count": 27,
     "metadata": {},
     "output_type": "execute_result"
    }
   ],
   "source": [
    "regr = MLPRegressor(random_state = 0, max_iter = 5000, activation = \"logistic\", hidden_layer_sizes = (100, 100))\n",
    "regr.fit(X_train, Y_train)"
   ]
  },
  {
   "cell_type": "code",
   "execution_count": 28,
   "metadata": {},
   "outputs": [
    {
     "data": {
      "text/plain": [
       "0.8601893120441767"
      ]
     },
     "execution_count": 28,
     "metadata": {},
     "output_type": "execute_result"
    }
   ],
   "source": [
    "regr.score(X_test, Y_test)"
   ]
  },
  {
   "cell_type": "markdown",
   "metadata": {},
   "source": [
    "# Cross validation"
   ]
  },
  {
   "cell_type": "markdown",
   "metadata": {},
   "source": [
    "### Random forests"
   ]
  },
  {
   "cell_type": "code",
   "execution_count": 29,
   "metadata": {},
   "outputs": [
    {
     "data": {
      "text/plain": [
       "array([0.95330038, 0.9137018 , 0.95991584, 0.96180577, 0.81443068,\n",
       "       0.67775031, 0.77883546, 0.73277217, 0.82193633, 0.78231173])"
      ]
     },
     "execution_count": 29,
     "metadata": {},
     "output_type": "execute_result"
    }
   ],
   "source": [
    "regr = RandomForestRegressor(n_estimators = 1000, random_state = 0)\n",
    "scores = cross_val_score(regr, X, Y, cv = 10)\n",
    "scores"
   ]
  },
  {
   "cell_type": "code",
   "execution_count": 30,
   "metadata": {},
   "outputs": [
    {
     "name": "stdout",
     "output_type": "stream",
     "text": [
      "Accuracy: 0.84 (+/- 0.19)\n"
     ]
    }
   ],
   "source": [
    "print(\"Accuracy: %0.2f (+/- %0.2f)\" % (scores.mean(), scores.std() * 2))"
   ]
  },
  {
   "cell_type": "markdown",
   "metadata": {},
   "source": [
    "### Decision trees"
   ]
  },
  {
   "cell_type": "code",
   "execution_count": 31,
   "metadata": {},
   "outputs": [
    {
     "data": {
      "text/plain": [
       "array([0.93775968, 0.85119226, 0.95550912, 0.96235455, 0.78783172,\n",
       "       0.64018313, 0.67751611, 0.68191839, 0.79426666, 0.76156548])"
      ]
     },
     "execution_count": 31,
     "metadata": {},
     "output_type": "execute_result"
    }
   ],
   "source": [
    "regr = DecisionTreeRegressor(random_state = 0)\n",
    "scores = cross_val_score(regr, X, Y, cv = 10)\n",
    "scores"
   ]
  },
  {
   "cell_type": "code",
   "execution_count": 32,
   "metadata": {},
   "outputs": [
    {
     "name": "stdout",
     "output_type": "stream",
     "text": [
      "Accuracy: 0.81 (+/- 0.23)\n"
     ]
    }
   ],
   "source": [
    "print(\"Accuracy: %0.2f (+/- %0.2f)\" % (scores.mean(), scores.std() * 2))"
   ]
  },
  {
   "cell_type": "markdown",
   "metadata": {},
   "source": [
    "### Support Vector Machines para regresión"
   ]
  },
  {
   "cell_type": "code",
   "execution_count": 33,
   "metadata": {},
   "outputs": [
    {
     "data": {
      "text/plain": [
       "array([0.54854421, 0.18652248, 0.93102619, 0.91464305, 0.3309296 ,\n",
       "       0.34962511, 0.26497948, 0.3097291 , 0.36847952, 0.12286069])"
      ]
     },
     "execution_count": 33,
     "metadata": {},
     "output_type": "execute_result"
    }
   ],
   "source": [
    "regr = SVR(gamma = \"auto\")\n",
    "scores = cross_val_score(regr, X, Y, cv = 10)\n",
    "scores"
   ]
  },
  {
   "cell_type": "code",
   "execution_count": 34,
   "metadata": {},
   "outputs": [
    {
     "name": "stdout",
     "output_type": "stream",
     "text": [
      "Accuracy: 0.43 (+/- 0.53)\n"
     ]
    }
   ],
   "source": [
    "print(\"Accuracy: %0.2f (+/- %0.2f)\" % (scores.mean(), scores.std() * 2))"
   ]
  },
  {
   "cell_type": "markdown",
   "metadata": {},
   "source": [
    "### Perceptrón multicapa"
   ]
  },
  {
   "cell_type": "code",
   "execution_count": 35,
   "metadata": {},
   "outputs": [
    {
     "data": {
      "text/plain": [
       "array([0.91639315, 0.91528589, 0.94378822, 0.95669331, 0.72236725,\n",
       "       0.58806295, 0.65078273, 0.65536435, 0.767087  , 0.70603068])"
      ]
     },
     "execution_count": 35,
     "metadata": {},
     "output_type": "execute_result"
    }
   ],
   "source": [
    "regr = MLPRegressor(random_state = 0, max_iter = 5000, activation = \"logistic\", hidden_layer_sizes = (100,))\n",
    "scores = cross_val_score(regr, X, Y, cv = 10)\n",
    "scores"
   ]
  },
  {
   "cell_type": "code",
   "execution_count": 36,
   "metadata": {},
   "outputs": [
    {
     "name": "stdout",
     "output_type": "stream",
     "text": [
      "Accuracy: 0.78 (+/- 0.26)\n"
     ]
    }
   ],
   "source": [
    "print(\"Accuracy: %0.2f (+/- %0.2f)\" % (scores.mean(), scores.std() * 2))"
   ]
  },
  {
   "cell_type": "code",
   "execution_count": 37,
   "metadata": {},
   "outputs": [
    {
     "data": {
      "text/plain": [
       "array([0.93419798, 0.9024906 , 0.95112069, 0.9458457 , 0.75722163,\n",
       "       0.62861822, 0.69742116, 0.71422751, 0.77897711, 0.71072367])"
      ]
     },
     "execution_count": 37,
     "metadata": {},
     "output_type": "execute_result"
    }
   ],
   "source": [
    "regr = MLPRegressor(random_state = 0, max_iter = 5000, activation = \"logistic\", hidden_layer_sizes = (100, 100))\n",
    "scores = cross_val_score(regr, X, Y, cv = 10)\n",
    "scores"
   ]
  },
  {
   "cell_type": "code",
   "execution_count": 38,
   "metadata": {},
   "outputs": [
    {
     "name": "stdout",
     "output_type": "stream",
     "text": [
      "Accuracy: 0.80 (+/- 0.23)\n"
     ]
    }
   ],
   "source": [
    "print(\"Accuracy: %0.2f (+/- %0.2f)\" % (scores.mean(), scores.std() * 2))"
   ]
  },
  {
   "cell_type": "code",
   "execution_count": null,
   "metadata": {},
   "outputs": [],
   "source": []
  }
 ],
 "metadata": {
  "kernelspec": {
   "display_name": "Python 3",
   "language": "python",
   "name": "python3"
  },
  "language_info": {
   "codemirror_mode": {
    "name": "ipython",
    "version": 3
   },
   "file_extension": ".py",
   "mimetype": "text/x-python",
   "name": "python",
   "nbconvert_exporter": "python",
   "pygments_lexer": "ipython3",
   "version": "3.7.0"
  }
 },
 "nbformat": 4,
 "nbformat_minor": 2
}
