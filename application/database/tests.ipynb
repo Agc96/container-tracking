{
 "cells": [
  {
   "cell_type": "code",
   "execution_count": 1,
   "metadata": {},
   "outputs": [],
   "source": [
    "import psycopg2"
   ]
  },
  {
   "cell_type": "code",
   "execution_count": 4,
   "metadata": {},
   "outputs": [],
   "source": [
    "connection = None\n",
    "try:\n",
    "    connection = psycopg2.connect(dbname=\"tracking\", user=\"postgres\", password=\"PASSWORD\")\n",
    "    with connection:\n",
    "        with connection.cursor() as cur:\n",
    "            cur.execute(\"INSERT INTO tracking_container (code, carrier_id, origin_id, destination_id) VALUES (%s, %s, %s, %s)\",\n",
    "                        (\"TEST1234567\", 1, 1, 2))\n",
    "except Exception as ex:\n",
    "    print(ex)\n",
    "finally:\n",
    "    if connection is not None:\n",
    "        connection.close()\n",
    "# Comprobado :D"
   ]
  },
  {
   "cell_type": "code",
   "execution_count": null,
   "metadata": {},
   "outputs": [],
   "source": []
  }
 ],
 "metadata": {
  "kernelspec": {
   "display_name": "Python 3",
   "language": "python",
   "name": "python3"
  },
  "language_info": {
   "codemirror_mode": {
    "name": "ipython",
    "version": 3
   },
   "file_extension": ".py",
   "mimetype": "text/x-python",
   "name": "python",
   "nbconvert_exporter": "python",
   "pygments_lexer": "ipython3",
   "version": "3.7.0"
  }
 },
 "nbformat": 4,
 "nbformat_minor": 2
}
