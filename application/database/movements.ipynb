{
 "cells": [
  {
   "cell_type": "code",
   "execution_count": 1,
   "metadata": {},
   "outputs": [],
   "source": [
    "import logging\n",
    "import pymongo\n",
    "import psycopg2"
   ]
  },
  {
   "cell_type": "code",
   "execution_count": 6,
   "metadata": {},
   "outputs": [],
   "source": [
    "logging.basicConfig(level=logging.INFO, filename=\"movements.log\")\n",
    "logger = logging.getLogger('movements_mongo_to_psql')"
   ]
  },
  {
   "cell_type": "code",
   "execution_count": 3,
   "metadata": {},
   "outputs": [],
   "source": [
    "mongo_database  = pymongo.MongoClient()[\"scraper2\"]\n",
    "mongo_movements = mongo_database[\"container_movements\"]"
   ]
  },
  {
   "cell_type": "code",
   "execution_count": null,
   "metadata": {},
   "outputs": [],
   "source": [
    "dsn = {\n",
    "    \"host\": \"HOST\",\n",
    "    \"dbname\": \"tracking\",\n",
    "    \"user\": \"postgres\",\n",
    "    \"password\": \"PASSWORD\"\n",
    "}"
   ]
  },
  {
   "cell_type": "code",
   "execution_count": 4,
   "metadata": {},
   "outputs": [],
   "source": [
    "def get_vehicle(movement):\n",
    "    vehicle = movement.get(\"vehicle\")\n",
    "    if vehicle.lower() == \"vessel\":\n",
    "        return 1\n",
    "    if vehicle.lower() == \"truck\":\n",
    "        return 2\n",
    "    if vehicle.lower() == \"train\":\n",
    "        return 3\n",
    "    if vehicle.lower() == \"unknown\":\n",
    "        return None\n",
    "    logger.info('Vehicle \"{}\" was not found'.format(vehicle))\n",
    "    return None\n",
    "\n",
    "def get_carrier(movement):\n",
    "    carrier = movement.get(\"carrier\")\n",
    "    if carrier.lower() == \"maersk\":\n",
    "        return 1\n",
    "    if carrier.lower() == \"hapag-lloyd\":\n",
    "        return 2\n",
    "    if carrier.lower() == \"evergreen\":\n",
    "        return 3\n",
    "    raise Exception(\"Could not find carrier {}\".format(carrier))\n",
    "\n",
    "def get_status(movement, cur, carrier):\n",
    "    status = movement.get(\"status\")\n",
    "    # Validar el estado\n",
    "    if (status is None) or (len(status) <= 0):\n",
    "        raise Exception(\"Stauts is empty\")\n",
    "    # Obtener el estado\n",
    "    cur.execute(\"SELECT id FROM tracking_movement_status WHERE name = %s AND enterprise_id = %s;\", (status, carrier))\n",
    "    result = cur.fetchone()\n",
    "    if result is not None:\n",
    "        return result[0]\n",
    "    # Insertar estado en base de datos\n",
    "    cur.execute(\"INSERT INTO tracking_movement_status (status, name, enterprise_id) VALUES (%s, %s, %s) RETURNING id;\",\n",
    "                (0, status, carrier))\n",
    "    result = cur.fetchone()\n",
    "    logger.info('Status \"{}\" created for carrier {} with value 0'.format(status, carrier))\n",
    "    return result[0]\n",
    "\n",
    "def get_location(movement, cur):\n",
    "    # Validar los datos de ubicación\n",
    "    location  = movement.get(\"location\")\n",
    "    if (location is None) or (len(location) <= 0):\n",
    "        raise Exception(\"Location is empty\")\n",
    "    location  = location.split(\"\\n\")[-1]\n",
    "    latitude  = movement.get(\"latitude\")\n",
    "    longitude = movement.get(\"longitude\")\n",
    "    if (latitude is None) or (longitude is None):\n",
    "        logger.info('Geolocation data for location \"{}\" is empty'.format(location))\n",
    "    # Obtener la ubicación\n",
    "    cur.execute(\"SELECT id FROM tracking_location WHERE name = (%s);\", (location,))\n",
    "    result = cur.fetchone()\n",
    "    if result is not None:\n",
    "        return result[0]\n",
    "    # Si es que no se encontró, insertar ubicación en base de datos\n",
    "    cur.execute(\"INSERT INTO tracking_location (name, latitude, longitude) VALUES (%s, %s, %s) RETURNING id;\",\n",
    "                (location, latitude, longitude))\n",
    "    result = cur.fetchone()\n",
    "    logger.info('Location \"{}\" created with latitude {} and longitude {}'.format(location, latitude, longitude))\n",
    "    return result[0]"
   ]
  },
  {
   "cell_type": "code",
   "execution_count": 8,
   "metadata": {},
   "outputs": [],
   "source": [
    "with psycopg2.connect(**dsn) as conn:\n",
    "    with conn.cursor() as cur:\n",
    "        cur.execute(\"SELECT id, code, carrier_id FROM tracking_container;\")\n",
    "        containers = cur.fetchall()\n",
    "        for id, code, carrier in containers:\n",
    "            query = {\"container\": code}\n",
    "            sorting = [('_id', pymongo.ASCENDING), ('date', pymongo.ASCENDING)]\n",
    "            movements = mongo_movements.find(query).sort(sorting)\n",
    "            for movement in movements:\n",
    "                data = {\n",
    "                    \"container\": id,\n",
    "                    \"location\": get_location(movement, cur),\n",
    "                    \"status\": get_status(movement, cur, carrier),\n",
    "                    \"date\": movement.get(\"date\"),\n",
    "                    \"vehicle\": get_vehicle(movement),\n",
    "                    \"vessel\": movement.get(\"vessel\"),\n",
    "                    \"voyage\": movement.get(\"voyage\"),\n",
    "                    \"estimated\": movement.get(\"estimated\"),\n",
    "                    \"created_at\": movement.get(\"created_at\")\n",
    "                }\n",
    "                cur.execute(\"\"\"\n",
    "                INSERT INTO tracking_movement (container_id, location_id, status_id, date, vehicle_id, vessel, voyage,\n",
    "                                                estimated, created_at)\n",
    "                VALUES (%(container)s, %(location)s, %(status)s, %(date)s, %(vehicle)s, %(vessel)s, %(voyage)s,\n",
    "                                                %(estimated)s, %(created_at)s)\n",
    "                \"\"\", data)\n",
    "    conn.commit()\n",
    "conn.close()"
   ]
  },
  {
   "cell_type": "code",
   "execution_count": null,
   "metadata": {},
   "outputs": [],
   "source": []
  }
 ],
 "metadata": {
  "kernelspec": {
   "display_name": "Python 3",
   "language": "python",
   "name": "python3"
  },
  "language_info": {
   "codemirror_mode": {
    "name": "ipython",
    "version": 3
   },
   "file_extension": ".py",
   "mimetype": "text/x-python",
   "name": "python",
   "nbconvert_exporter": "python",
   "pygments_lexer": "ipython3",
   "version": "3.7.1"
  }
 },
 "nbformat": 4,
 "nbformat_minor": 2
}
