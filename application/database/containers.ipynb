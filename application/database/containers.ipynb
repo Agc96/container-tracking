{
 "cells": [
  {
   "cell_type": "code",
   "execution_count": 1,
   "metadata": {},
   "outputs": [],
   "source": [
    "import csv\n",
    "import psycopg2\n",
    "import os"
   ]
  },
  {
   "cell_type": "code",
   "execution_count": 2,
   "metadata": {},
   "outputs": [],
   "source": [
    "dsn = {\n",
    "    \"host\": \"HOST\",\n",
    "    \"dbname\": \"tracking\",\n",
    "    \"user\": \"postgres\",\n",
    "    \"password\": \"PASSWORD\"\n",
    "}"
   ]
  },
  {
   "cell_type": "code",
   "execution_count": 10,
   "metadata": {},
   "outputs": [],
   "source": [
    "def get_location(location):\n",
    "    location = location.split(\"\\n\")[-1]\n",
    "    with psycopg2.connect(**dsn) as conn:\n",
    "        with conn.cursor() as cur:\n",
    "            cur.execute(\"SELECT id FROM tracking_location WHERE name = %s\", (location,))\n",
    "            result = cur.fetchone()\n",
    "            if result is None:\n",
    "                cur.execute(\"INSERT INTO tracking_location (name) VALUES (%s) RETURNING id\", (location,))\n",
    "                result = cur.fetchone()\n",
    "        conn.commit()\n",
    "    conn.close()\n",
    "    return result[0]"
   ]
  },
  {
   "cell_type": "code",
   "execution_count": 11,
   "metadata": {},
   "outputs": [],
   "source": [
    "def insert_container(data):\n",
    "    with psycopg2.connect(**dsn) as conn:\n",
    "        with conn.cursor() as cur:\n",
    "            cur.execute(\"INSERT INTO tracking_container (code, carrier_id, origin_id, destination_id, \"\n",
    "                           \"status_id, priority) VALUES (%s, %s, %s, %s, %s, %s)\", data)\n",
    "        conn.commit()\n",
    "    conn.close()"
   ]
  },
  {
   "cell_type": "code",
   "execution_count": 12,
   "metadata": {},
   "outputs": [],
   "source": [
    "def insert_containers(database, carrier):\n",
    "    filename = \"containers/{}-{}.csv\".format(database, carrier)\n",
    "    if os.path.exists(filename):\n",
    "        with open(filename, \"r\") as file:\n",
    "            reader = csv.DictReader(file)\n",
    "            for row in reader:\n",
    "                first_location = get_location(row[\"first_location\"])\n",
    "                last_location  = get_location(row[\"last_location\"])\n",
    "                insert_container((row[\"container\"], int(row[\"carrier\"]), first_location, last_location, 1, 1))\n",
    "    else:\n",
    "        print(\"File {} does not exist\".format(filename))"
   ]
  },
  {
   "cell_type": "code",
   "execution_count": null,
   "metadata": {},
   "outputs": [],
   "source": [
    "insert_containers(\"scraper2\", \"Hapag-Lloyd\")\n",
    "insert_containers(\"scraper2\", \"Maersk\")\n",
    "insert_containers(\"scraper2\", \"Evergreen\")"
   ]
  },
  {
   "cell_type": "code",
   "execution_count": null,
   "metadata": {},
   "outputs": [],
   "source": []
  }
 ],
 "metadata": {
  "kernelspec": {
   "display_name": "Python 3",
   "language": "python",
   "name": "python3"
  },
  "language_info": {
   "codemirror_mode": {
    "name": "ipython",
    "version": 3
   },
   "file_extension": ".py",
   "mimetype": "text/x-python",
   "name": "python",
   "nbconvert_exporter": "python",
   "pygments_lexer": "ipython3",
   "version": "3.7.1"
  }
 },
 "nbformat": 4,
 "nbformat_minor": 2
}
