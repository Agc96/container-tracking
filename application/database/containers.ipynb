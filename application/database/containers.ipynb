{
 "cells": [
  {
   "cell_type": "code",
   "execution_count": 1,
   "metadata": {},
   "outputs": [],
   "source": [
    "import csv\n",
    "import psycopg2\n",
    "import os"
   ]
  },
  {
   "cell_type": "code",
   "execution_count": 2,
   "metadata": {},
   "outputs": [],
   "source": [
    "connection = psycopg2.connect(dbname=\"tracking\", user=\"webapp\", password=\"tesis2019\")"
   ]
  },
  {
   "cell_type": "code",
   "execution_count": 3,
   "metadata": {},
   "outputs": [],
   "source": [
    "carriers = [\"Maersk\", \"Hapag-Lloyd\", \"Evergreen\"]\n",
    "databases = [\"scraper2\", \"scraper3\"]"
   ]
  },
  {
   "cell_type": "code",
   "execution_count": 4,
   "metadata": {},
   "outputs": [],
   "source": [
    "def get_location_id(original_location):\n",
    "    location = original_location.split(\"\\n\")[-1]\n",
    "    cursor = connection.cursor()\n",
    "    the_id = 0\n",
    "    try:\n",
    "        cursor.execute(\"SELECT id FROM tracking_location WHERE name = %s\", (location,))\n",
    "        result = cursor.fetchone()\n",
    "        if result is None:\n",
    "            print(\"Location {} not found...\".format(location))\n",
    "        else:\n",
    "            the_id = result[0]\n",
    "    finally:\n",
    "        cursor.close()\n",
    "        return the_id"
   ]
  },
  {
   "cell_type": "code",
   "execution_count": 9,
   "metadata": {},
   "outputs": [],
   "source": [
    "def insert_container(data):\n",
    "    cursor = connection.cursor()\n",
    "    try:\n",
    "        result = cursor.execute(\"INSERT INTO tracking_container (code, carrier_id, origin_id, destination_id, \"\n",
    "                                \"processed) VALUES (%s, %s, %s, %s, %s)\", data)\n",
    "    finally:\n",
    "        cursor.close()"
   ]
  },
  {
   "cell_type": "code",
   "execution_count": 6,
   "metadata": {},
   "outputs": [],
   "source": [
    "def insert_containers(database, carrier):\n",
    "    filename = \"containers/{}-{}.csv\".format(database, carrier)\n",
    "    if os.path.exists(filename):\n",
    "        with open(filename, \"r\") as file:\n",
    "            reader = csv.DictReader(file)\n",
    "            for row in reader:\n",
    "                first_location = get_location_id(row[\"first_location\"])\n",
    "                last_location  = get_location_id(row[\"last_location\"])\n",
    "                if (first_location > 0) and (last_location > 0):\n",
    "                    data = (row[\"container\"], int(row[\"carrier\"]), first_location, last_location, True)\n",
    "                    insert_container(data)\n",
    "    else:\n",
    "        print(\"File {} does not exist\".format(filename))\n",
    "    # If everything goes ok, commit\n",
    "    connection.commit()"
   ]
  },
  {
   "cell_type": "code",
   "execution_count": 12,
   "metadata": {},
   "outputs": [],
   "source": [
    "insert_containers(\"scraper3\", \"Hapag-Lloyd\")\n",
    "insert_containers(\"scraper3\", \"Maersk\")"
   ]
  },
  {
   "cell_type": "code",
   "execution_count": 13,
   "metadata": {},
   "outputs": [],
   "source": [
    "connection.close()"
   ]
  },
  {
   "cell_type": "code",
   "execution_count": null,
   "metadata": {},
   "outputs": [],
   "source": []
  }
 ],
 "metadata": {
  "kernelspec": {
   "display_name": "Python 3",
   "language": "python",
   "name": "python3"
  },
  "language_info": {
   "codemirror_mode": {
    "name": "ipython",
    "version": 3
   },
   "file_extension": ".py",
   "mimetype": "text/x-python",
   "name": "python",
   "nbconvert_exporter": "python",
   "pygments_lexer": "ipython3",
   "version": "3.5.3"
  }
 },
 "nbformat": 4,
 "nbformat_minor": 2
}
